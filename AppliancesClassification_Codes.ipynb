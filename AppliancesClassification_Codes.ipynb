{
 "cells": [
  {
   "cell_type": "markdown",
   "metadata": {},
   "source": [
    "# EDA, Classification of Residential Energy Appliance\n",
    "\n",
    "Greenhouse gas emissions have become an increasingly concerning issue across the globe. They result in climate change, which in turn have far-reaching environmental and health consequences. Energy production and consumption is the main contributor to greenhouse gas emissions. Furthermore, empirical study shows that electricity consumption in residential areas contributes to more than 20% of this total energy consumption. \n",
    "\n",
    "In this project, I will be dealing with a time-series dataset. I will attempt to forecast the activation period for various appliances, all of which are commonly used in households in residential areas. This task can prove to be crucial because by using various machine learning techniques and correctly forecasting the activation period of appliances, we will have a better foresight of electricity consumption information, which in turn might provide valuable insights to come up with a better energy-saving technology. \n",
    "\n",
    "There are 2 main challenges that we need to address, when it comes to the dataset given. The first challenge is how to effectively tackle a time-series dataset. The second challenge is, there are severe class imbalance issues for most of the target variables. \n",
    "\n",
    "To tackle the first challenge, we employ a specific way of implementing cross validation, which we refer to as rolling fold cross validation. For the second challenge, we implement resampling to help alleviate the class imbalance issue. The resampling method that we used is undersampling, with additional modification to preserve the sequential structure of the data in a time-series dataset.\n",
    "\n",
    "The aim is to develop multiple classifiers for each individual target appliance that can detect whether target appliances are being used in each time interval as correctly as possible. This means that I will develop 5 classifiers for 5 appliances. \n",
    " \n",
    "## Table of Content\n",
    "1. [Exploratory Data Analysis](#1)\n",
    "2. [Model Development](#2)\n",
    "3. [Prediction Task](#3)\n",
    "4. [Results and Discussion](#4)"
   ]
  },
  {
   "cell_type": "code",
   "execution_count": 2,
   "metadata": {},
   "outputs": [],
   "source": [
    "#Load libraries\n",
    "library(psych)\n",
    "library(ggplot2)\n",
    "library(reshape2)\n",
    "library(GGally)\n",
    "library(tidyverse)\n",
    "library(dplyr)\n",
    "library(data.table)\n",
    "library(randomForest)\n",
    "library(caret)\n",
    "library(glmnet)"
   ]
  },
  {
   "cell_type": "markdown",
   "metadata": {},
   "source": [
    "## 1. Exploratory Data Analysis <a class=\"anchor\" id=\"1\"></a>"
   ]
  },
  {
   "cell_type": "code",
   "execution_count": 4,
   "metadata": {},
   "outputs": [
    {
     "data": {
      "text/html": [
       "<table>\n",
       "<thead><tr><th scope=col>X</th><th scope=col>load</th><th scope=col>ac</th><th scope=col>ev</th><th scope=col>oven</th><th scope=col>wash</th><th scope=col>dryer</th><th scope=col>hourofday</th><th scope=col>dayofweek</th><th scope=col>dif</th><th scope=col>absdif</th><th scope=col>max</th><th scope=col>var</th><th scope=col>entropy</th><th scope=col>nonlinear</th><th scope=col>hurst</th></tr></thead>\n",
       "<tbody>\n",
       "\t<tr><td>105541    </td><td>2.245     </td><td>0         </td><td>0         </td><td>0         </td><td>0         </td><td>0         </td><td>0         </td><td>Sun       </td><td> 0.987    </td><td>0.987     </td><td>6.215     </td><td>3.074549  </td><td>0.6788858 </td><td>0.05290291</td><td>0.9940715 </td></tr>\n",
       "\t<tr><td>105542    </td><td>2.259     </td><td>0         </td><td>0         </td><td>0         </td><td>0         </td><td>0         </td><td>0         </td><td>Sun       </td><td> 0.014    </td><td>0.014     </td><td>6.215     </td><td>3.172867  </td><td>0.6674503 </td><td>0.05482926</td><td>0.9941540 </td></tr>\n",
       "\t<tr><td>105543    </td><td>2.269     </td><td>0         </td><td>0         </td><td>0         </td><td>0         </td><td>0         </td><td>0         </td><td>Sun       </td><td> 0.010    </td><td>0.010     </td><td>6.215     </td><td>3.270112  </td><td>0.6477770 </td><td>0.05699074</td><td>0.9942200 </td></tr>\n",
       "\t<tr><td>105544    </td><td>2.268     </td><td>0         </td><td>0         </td><td>0         </td><td>0         </td><td>0         </td><td>0         </td><td>Sun       </td><td>-0.001    </td><td>0.001     </td><td>6.215     </td><td>3.303763  </td><td>0.6292270 </td><td>0.05760593</td><td>0.9941497 </td></tr>\n",
       "\t<tr><td>105545    </td><td>2.270     </td><td>0         </td><td>0         </td><td>0         </td><td>0         </td><td>0         </td><td>0         </td><td>Sun       </td><td> 0.002    </td><td>0.002     </td><td>6.215     </td><td>3.302744  </td><td>0.6212951 </td><td>0.08263997</td><td>0.9940406 </td></tr>\n",
       "\t<tr><td>105546    </td><td>2.259     </td><td>0         </td><td>0         </td><td>0         </td><td>0         </td><td>0         </td><td>0         </td><td>Sun       </td><td>-0.011    </td><td>0.011     </td><td>6.215     </td><td>3.298258  </td><td>0.6269564 </td><td>0.08978753</td><td>0.9939864 </td></tr>\n",
       "</tbody>\n",
       "</table>\n"
      ],
      "text/latex": [
       "\\begin{tabular}{r|llllllllllllllll}\n",
       " X & load & ac & ev & oven & wash & dryer & hourofday & dayofweek & dif & absdif & max & var & entropy & nonlinear & hurst\\\\\n",
       "\\hline\n",
       "\t 105541     & 2.245      & 0          & 0          & 0          & 0          & 0          & 0          & Sun        &  0.987     & 0.987      & 6.215      & 3.074549   & 0.6788858  & 0.05290291 & 0.9940715 \\\\\n",
       "\t 105542     & 2.259      & 0          & 0          & 0          & 0          & 0          & 0          & Sun        &  0.014     & 0.014      & 6.215      & 3.172867   & 0.6674503  & 0.05482926 & 0.9941540 \\\\\n",
       "\t 105543     & 2.269      & 0          & 0          & 0          & 0          & 0          & 0          & Sun        &  0.010     & 0.010      & 6.215      & 3.270112   & 0.6477770  & 0.05699074 & 0.9942200 \\\\\n",
       "\t 105544     & 2.268      & 0          & 0          & 0          & 0          & 0          & 0          & Sun        & -0.001     & 0.001      & 6.215      & 3.303763   & 0.6292270  & 0.05760593 & 0.9941497 \\\\\n",
       "\t 105545     & 2.270      & 0          & 0          & 0          & 0          & 0          & 0          & Sun        &  0.002     & 0.002      & 6.215      & 3.302744   & 0.6212951  & 0.08263997 & 0.9940406 \\\\\n",
       "\t 105546     & 2.259      & 0          & 0          & 0          & 0          & 0          & 0          & Sun        & -0.011     & 0.011      & 6.215      & 3.298258   & 0.6269564  & 0.08978753 & 0.9939864 \\\\\n",
       "\\end{tabular}\n"
      ],
      "text/markdown": [
       "\n",
       "| X | load | ac | ev | oven | wash | dryer | hourofday | dayofweek | dif | absdif | max | var | entropy | nonlinear | hurst |\n",
       "|---|---|---|---|---|---|---|---|---|---|---|---|---|---|---|---|\n",
       "| 105541     | 2.245      | 0          | 0          | 0          | 0          | 0          | 0          | Sun        |  0.987     | 0.987      | 6.215      | 3.074549   | 0.6788858  | 0.05290291 | 0.9940715  |\n",
       "| 105542     | 2.259      | 0          | 0          | 0          | 0          | 0          | 0          | Sun        |  0.014     | 0.014      | 6.215      | 3.172867   | 0.6674503  | 0.05482926 | 0.9941540  |\n",
       "| 105543     | 2.269      | 0          | 0          | 0          | 0          | 0          | 0          | Sun        |  0.010     | 0.010      | 6.215      | 3.270112   | 0.6477770  | 0.05699074 | 0.9942200  |\n",
       "| 105544     | 2.268      | 0          | 0          | 0          | 0          | 0          | 0          | Sun        | -0.001     | 0.001      | 6.215      | 3.303763   | 0.6292270  | 0.05760593 | 0.9941497  |\n",
       "| 105545     | 2.270      | 0          | 0          | 0          | 0          | 0          | 0          | Sun        |  0.002     | 0.002      | 6.215      | 3.302744   | 0.6212951  | 0.08263997 | 0.9940406  |\n",
       "| 105546     | 2.259      | 0          | 0          | 0          | 0          | 0          | 0          | Sun        | -0.011     | 0.011      | 6.215      | 3.298258   | 0.6269564  | 0.08978753 | 0.9939864  |\n",
       "\n"
      ],
      "text/plain": [
       "  X      load  ac ev oven wash dryer hourofday dayofweek dif    absdif max  \n",
       "1 105541 2.245 0  0  0    0    0     0         Sun        0.987 0.987  6.215\n",
       "2 105542 2.259 0  0  0    0    0     0         Sun        0.014 0.014  6.215\n",
       "3 105543 2.269 0  0  0    0    0     0         Sun        0.010 0.010  6.215\n",
       "4 105544 2.268 0  0  0    0    0     0         Sun       -0.001 0.001  6.215\n",
       "5 105545 2.270 0  0  0    0    0     0         Sun        0.002 0.002  6.215\n",
       "6 105546 2.259 0  0  0    0    0     0         Sun       -0.011 0.011  6.215\n",
       "  var      entropy   nonlinear  hurst    \n",
       "1 3.074549 0.6788858 0.05290291 0.9940715\n",
       "2 3.172867 0.6674503 0.05482926 0.9941540\n",
       "3 3.270112 0.6477770 0.05699074 0.9942200\n",
       "4 3.303763 0.6292270 0.05760593 0.9941497\n",
       "5 3.302744 0.6212951 0.08263997 0.9940406\n",
       "6 3.298258 0.6269564 0.08978753 0.9939864"
      ]
     },
     "metadata": {},
     "output_type": "display_data"
    },
    {
     "data": {
      "text/html": [
       "<table>\n",
       "<thead><tr><th scope=col>X</th><th scope=col>load</th><th scope=col>hourofday</th><th scope=col>dayofweek</th><th scope=col>dif</th><th scope=col>absdif</th><th scope=col>max</th><th scope=col>var</th><th scope=col>entropy</th><th scope=col>nonlinear</th><th scope=col>hurst</th></tr></thead>\n",
       "<tbody>\n",
       "\t<tr><td>1     </td><td>1.869 </td><td>0     </td><td>Mon   </td><td> 0.000</td><td>0.000 </td><td>0     </td><td>0     </td><td>0     </td><td>0     </td><td>0     </td></tr>\n",
       "\t<tr><td>2     </td><td>1.673 </td><td>0     </td><td>Mon   </td><td>-0.196</td><td>0.196 </td><td>0     </td><td>0     </td><td>0     </td><td>0     </td><td>0     </td></tr>\n",
       "\t<tr><td>3     </td><td>1.660 </td><td>0     </td><td>Mon   </td><td>-0.013</td><td>0.013 </td><td>0     </td><td>0     </td><td>0     </td><td>0     </td><td>0     </td></tr>\n",
       "\t<tr><td>4     </td><td>1.772 </td><td>0     </td><td>Mon   </td><td> 0.112</td><td>0.112 </td><td>0     </td><td>0     </td><td>0     </td><td>0     </td><td>0     </td></tr>\n",
       "\t<tr><td>5     </td><td>1.679 </td><td>0     </td><td>Mon   </td><td>-0.093</td><td>0.093 </td><td>0     </td><td>0     </td><td>0     </td><td>0     </td><td>0     </td></tr>\n",
       "\t<tr><td>6     </td><td>1.775 </td><td>0     </td><td>Mon   </td><td> 0.096</td><td>0.096 </td><td>0     </td><td>0     </td><td>0     </td><td>0     </td><td>0     </td></tr>\n",
       "</tbody>\n",
       "</table>\n"
      ],
      "text/latex": [
       "\\begin{tabular}{r|lllllllllll}\n",
       " X & load & hourofday & dayofweek & dif & absdif & max & var & entropy & nonlinear & hurst\\\\\n",
       "\\hline\n",
       "\t 1      & 1.869  & 0      & Mon    &  0.000 & 0.000  & 0      & 0      & 0      & 0      & 0     \\\\\n",
       "\t 2      & 1.673  & 0      & Mon    & -0.196 & 0.196  & 0      & 0      & 0      & 0      & 0     \\\\\n",
       "\t 3      & 1.660  & 0      & Mon    & -0.013 & 0.013  & 0      & 0      & 0      & 0      & 0     \\\\\n",
       "\t 4      & 1.772  & 0      & Mon    &  0.112 & 0.112  & 0      & 0      & 0      & 0      & 0     \\\\\n",
       "\t 5      & 1.679  & 0      & Mon    & -0.093 & 0.093  & 0      & 0      & 0      & 0      & 0     \\\\\n",
       "\t 6      & 1.775  & 0      & Mon    &  0.096 & 0.096  & 0      & 0      & 0      & 0      & 0     \\\\\n",
       "\\end{tabular}\n"
      ],
      "text/markdown": [
       "\n",
       "| X | load | hourofday | dayofweek | dif | absdif | max | var | entropy | nonlinear | hurst |\n",
       "|---|---|---|---|---|---|---|---|---|---|---|\n",
       "| 1      | 1.869  | 0      | Mon    |  0.000 | 0.000  | 0      | 0      | 0      | 0      | 0      |\n",
       "| 2      | 1.673  | 0      | Mon    | -0.196 | 0.196  | 0      | 0      | 0      | 0      | 0      |\n",
       "| 3      | 1.660  | 0      | Mon    | -0.013 | 0.013  | 0      | 0      | 0      | 0      | 0      |\n",
       "| 4      | 1.772  | 0      | Mon    |  0.112 | 0.112  | 0      | 0      | 0      | 0      | 0      |\n",
       "| 5      | 1.679  | 0      | Mon    | -0.093 | 0.093  | 0      | 0      | 0      | 0      | 0      |\n",
       "| 6      | 1.775  | 0      | Mon    |  0.096 | 0.096  | 0      | 0      | 0      | 0      | 0      |\n",
       "\n"
      ],
      "text/plain": [
       "  X load  hourofday dayofweek dif    absdif max var entropy nonlinear hurst\n",
       "1 1 1.869 0         Mon        0.000 0.000  0   0   0       0         0    \n",
       "2 2 1.673 0         Mon       -0.196 0.196  0   0   0       0         0    \n",
       "3 3 1.660 0         Mon       -0.013 0.013  0   0   0       0         0    \n",
       "4 4 1.772 0         Mon        0.112 0.112  0   0   0       0         0    \n",
       "5 5 1.679 0         Mon       -0.093 0.093  0   0   0       0         0    \n",
       "6 6 1.775 0         Mon        0.096 0.096  0   0   0       0         0    "
      ]
     },
     "metadata": {},
     "output_type": "display_data"
    }
   ],
   "source": [
    "#Load training and testing data\n",
    "train.data<-read.csv('train.csv')\n",
    "test.data<-read.csv('test.csv')\n",
    "head(train.data)\n",
    "head(test.data)"
   ]
  },
  {
   "cell_type": "code",
   "execution_count": 5,
   "metadata": {},
   "outputs": [
    {
     "name": "stdout",
     "output_type": "stream",
     "text": [
      "'data.frame':\t417720 obs. of  16 variables:\n",
      " $ X        : int  105541 105542 105543 105544 105545 105546 105547 105548 105549 105550 ...\n",
      " $ load     : num  2.25 2.26 2.27 2.27 2.27 ...\n",
      " $ ac       : Factor w/ 2 levels \"0\",\"1\": 1 1 1 1 1 1 1 1 1 1 ...\n",
      " $ ev       : Factor w/ 2 levels \"0\",\"1\": 1 1 1 1 1 1 1 1 1 1 ...\n",
      " $ oven     : Factor w/ 2 levels \"0\",\"1\": 1 1 1 1 1 1 1 1 1 1 ...\n",
      " $ wash     : Factor w/ 2 levels \"0\",\"1\": 1 1 1 1 1 1 1 1 1 1 ...\n",
      " $ dryer    : Factor w/ 2 levels \"0\",\"1\": 1 1 1 1 1 1 1 1 1 1 ...\n",
      " $ hourofday: int  0 0 0 0 0 0 0 0 0 0 ...\n",
      " $ dayofweek: Factor w/ 7 levels \"Fri\",\"Mon\",\"Sat\",..: 4 4 4 4 4 4 4 4 4 4 ...\n",
      " $ dif      : num  0.987 0.014 0.01 -0.001 0.002 ...\n",
      " $ absdif   : num  0.987 0.014 0.01 0.001 0.002 ...\n",
      " $ max      : num  6.21 6.21 6.21 6.21 6.21 ...\n",
      " $ var      : num  3.07 3.17 3.27 3.3 3.3 ...\n",
      " $ entropy  : num  0.679 0.667 0.648 0.629 0.621 ...\n",
      " $ nonlinear: num  0.0529 0.0548 0.057 0.0576 0.0826 ...\n",
      " $ hurst    : num  0.994 0.994 0.994 0.994 0.994 ...\n"
     ]
    }
   ],
   "source": [
    "#Convert to target variables to factor\n",
    "train.data[,'ac']<-factor(train.data[,'ac'])\n",
    "train.data[,'ev']<-factor(train.data[,'ev'])\n",
    "train.data[,'oven']<-factor(train.data[,'oven'])\n",
    "train.data[,'wash']<-factor(train.data[,'wash'])\n",
    "train.data[,'dryer']<-factor(train.data[,'dryer'])\n",
    "str(train.data)"
   ]
  },
  {
   "cell_type": "code",
   "execution_count": 6,
   "metadata": {},
   "outputs": [
    {
     "data": {
      "text/plain": [
       "       X               load        ac         ev         oven       wash      \n",
       " Min.   :105541   Min.   : 0.298   0:316521   0:415385   0:411764   0:409767  \n",
       " 1st Qu.:209971   1st Qu.: 0.807   1:101199   1:  2335   1:  5956   1:  7953  \n",
       " Median :314401   Median : 1.279                                              \n",
       " Mean   :314401   Mean   : 2.185                                              \n",
       " 3rd Qu.:418830   3rd Qu.: 3.358                                              \n",
       " Max.   :523260   Max.   :11.794                                              \n",
       "                                                                              \n",
       " dryer        hourofday     dayofweek        dif                absdif      \n",
       " 0:404144   Min.   : 0.00   Fri:58260   Min.   :-7.970000   Min.   :0.0000  \n",
       " 1: 13576   1st Qu.: 5.00   Mon:61440   1st Qu.:-0.011000   1st Qu.:0.0020  \n",
       "            Median :11.00   Sat:58080   Median :-0.001000   Median :0.0100  \n",
       "            Mean   :11.48   Sun:59940   Mean   :-0.000001   Mean   :0.1596  \n",
       "            3rd Qu.:17.00   Thu:59040   3rd Qu.: 0.008000   3rd Qu.:0.0430  \n",
       "            Max.   :23.00   Tue:60480   Max.   : 7.619000   Max.   :7.9700  \n",
       "                            Wed:60480                                       \n",
       "      max              var              entropy         nonlinear      \n",
       " Min.   : 0.000   Min.   : 0.00000   Min.   :0.0000   Min.   : 0.0000  \n",
       " 1st Qu.: 1.786   1st Qu.: 0.07734   1st Qu.:0.6456   1st Qu.: 0.2718  \n",
       " Median : 4.652   Median : 1.98461   Median :0.6764   Median : 0.6986  \n",
       " Mean   : 3.977   Mean   : 1.87125   Mean   :0.7078   Mean   : 1.4688  \n",
       " 3rd Qu.: 5.446   3rd Qu.: 3.50856   3rd Qu.:0.7410   3rd Qu.: 1.5985  \n",
       " Max.   :11.794   Max.   :16.34486   Max.   :1.0000   Max.   :54.6117  \n",
       "                                                                       \n",
       "     hurst       \n",
       " Min.   :0.0000  \n",
       " 1st Qu.:0.9879  \n",
       " Median :0.9921  \n",
       " Mean   :0.9727  \n",
       " 3rd Qu.:0.9931  \n",
       " Max.   :0.9968  \n",
       "                 "
      ]
     },
     "metadata": {},
     "output_type": "display_data"
    }
   ],
   "source": [
    "summary(train.data)"
   ]
  },
  {
   "cell_type": "markdown",
   "metadata": {},
   "source": [
    "- `load` seems to be a bit right-skwewed. This makes sense as there cannot be negative value of load. On the other hand, for very rare occasions where multiple appliances are activated, the value of load will be very high, but this is not the common case. \n",
    "\n",
    "- `entropy` has IQR from 0.64 to 0.74. `entropy` measures the “forecastability” of a time series, where low values indicate a high signal-to-noise ratio, and large values occur when a series is difficult to forecast. It seems like what we have here mostly fall into the medium range.\n",
    "\n",
    "- There is an extremely **severe class imbalance** for some target variables, especially `ev` , `oven` , `wash` and `dryer` "
   ]
  },
  {
   "cell_type": "code",
   "execution_count": 7,
   "metadata": {},
   "outputs": [
    {
     "data": {
      "text/html": [
       "<table>\n",
       "<thead><tr><th></th><th scope=col>vars</th><th scope=col>n</th><th scope=col>mean</th><th scope=col>sd</th><th scope=col>median</th><th scope=col>trimmed</th><th scope=col>mad</th><th scope=col>min</th><th scope=col>max</th><th scope=col>range</th><th scope=col>skew</th><th scope=col>kurtosis</th><th scope=col>se</th></tr></thead>\n",
       "<tbody>\n",
       "\t<tr><th scope=row>X</th><td> 1           </td><td>417720       </td><td> 3.144005e+05</td><td>1.205855e+05 </td><td> 3.144005e+05</td><td> 3.144005e+05</td><td>1.548279e+05 </td><td>105541.000   </td><td>5.232600e+05 </td><td>4.177190e+05 </td><td>-1.716869e-17</td><td> -1.20000862 </td><td>1.865746e+02 </td></tr>\n",
       "\t<tr><th scope=row>load</th><td> 2           </td><td>417720       </td><td> 2.184664e+00</td><td>1.890565e+00 </td><td> 1.279000e+00</td><td> 1.918025e+00</td><td>8.421168e-01 </td><td>     0.298   </td><td>1.179400e+01 </td><td>1.149600e+01 </td><td> 1.134783e+00</td><td> -0.07882485 </td><td>2.925155e-03 </td></tr>\n",
       "\t<tr><th scope=row>ac*</th><td> 3           </td><td>417720       </td><td> 1.242265e+00</td><td>4.284544e-01 </td><td> 1.000000e+00</td><td> 1.177831e+00</td><td>0.000000e+00 </td><td>     1.000   </td><td>2.000000e+00 </td><td>1.000000e+00 </td><td> 1.203088e+00</td><td> -0.55258008 </td><td>6.629213e-04 </td></tr>\n",
       "\t<tr><th scope=row>ev*</th><td> 4           </td><td>417720       </td><td> 1.005590e+00</td><td>7.455626e-02 </td><td> 1.000000e+00</td><td> 1.000000e+00</td><td>0.000000e+00 </td><td>     1.000   </td><td>2.000000e+00 </td><td>1.000000e+00 </td><td> 1.326271e+01</td><td>173.89984926 </td><td>1.153563e-04 </td></tr>\n",
       "\t<tr><th scope=row>oven*</th><td> 5           </td><td>417720       </td><td> 1.014258e+00</td><td>1.185542e-01 </td><td> 1.000000e+00</td><td> 1.000000e+00</td><td>0.000000e+00 </td><td>     1.000   </td><td>2.000000e+00 </td><td>1.000000e+00 </td><td> 8.194407e+00</td><td> 65.14845664 </td><td>1.834316e-04 </td></tr>\n",
       "\t<tr><th scope=row>wash*</th><td> 6           </td><td>417720       </td><td> 1.019039e+00</td><td>1.366625e-01 </td><td> 1.000000e+00</td><td> 1.000000e+00</td><td>0.000000e+00 </td><td>     1.000   </td><td>2.000000e+00 </td><td>1.000000e+00 </td><td> 7.038652e+00</td><td> 47.54274261 </td><td>2.114495e-04 </td></tr>\n",
       "\t<tr><th scope=row>dryer*</th><td> 7           </td><td>417720       </td><td> 1.032500e+00</td><td>1.773247e-01 </td><td> 1.000000e+00</td><td> 1.000000e+00</td><td>0.000000e+00 </td><td>     1.000   </td><td>2.000000e+00 </td><td>1.000000e+00 </td><td> 5.272798e+00</td><td> 25.80245821 </td><td>2.743637e-04 </td></tr>\n",
       "\t<tr><th scope=row>hourofday</th><td> 8           </td><td>417720       </td><td> 1.148449e+01</td><td>6.920358e+00 </td><td> 1.100000e+01</td><td> 1.148133e+01</td><td>8.895600e+00 </td><td>     0.000   </td><td>2.300000e+01 </td><td>2.300000e+01 </td><td> 3.070053e-03</td><td> -1.20380632 </td><td>1.070745e-02 </td></tr>\n",
       "\t<tr><th scope=row>dayofweek*</th><td> 9           </td><td>417720       </td><td> 4.013646e+00</td><td>2.001499e+00 </td><td> 4.000000e+00</td><td> 4.017057e+00</td><td>2.965200e+00 </td><td>     1.000   </td><td>7.000000e+00 </td><td>6.000000e+00 </td><td>-4.563216e-03</td><td> -1.25694088 </td><td>3.096798e-03 </td></tr>\n",
       "\t<tr><th scope=row>dif</th><td>10           </td><td>417720       </td><td>-7.038207e-07</td><td>5.309284e-01 </td><td>-1.000000e-03</td><td>-2.249922e-03</td><td>1.482600e-02 </td><td>    -7.970   </td><td>7.619000e+00 </td><td>1.558900e+01 </td><td> 1.270821e+00</td><td> 26.83443496 </td><td>8.214731e-04 </td></tr>\n",
       "\t<tr><th scope=row>absdif</th><td>11           </td><td>417720       </td><td> 1.595781e-01</td><td>5.063791e-01 </td><td> 1.000000e-02</td><td> 3.129279e-02</td><td>1.334340e-02 </td><td>     0.000   </td><td>7.970000e+00 </td><td>7.970000e+00 </td><td> 4.826898e+00</td><td> 26.36419542 </td><td>7.834894e-04 </td></tr>\n",
       "\t<tr><th scope=row>max</th><td>12           </td><td>417720       </td><td> 3.977086e+00</td><td>2.131094e+00 </td><td> 4.652000e+00</td><td> 3.929173e+00</td><td>2.351404e+00 </td><td>     0.000   </td><td>1.179400e+01 </td><td>1.179400e+01 </td><td> 1.118083e-01</td><td> -0.70854049 </td><td>3.297311e-03 </td></tr>\n",
       "\t<tr><th scope=row>var</th><td>13           </td><td>417720       </td><td> 1.871247e+00</td><td>1.787633e+00 </td><td> 1.984612e+00</td><td> 1.742524e+00</td><td>2.723959e+00 </td><td>     0.000   </td><td>1.634486e+01 </td><td>1.634486e+01 </td><td> 4.045464e-01</td><td> -0.76173230 </td><td>2.765895e-03 </td></tr>\n",
       "\t<tr><th scope=row>entropy</th><td>14           </td><td>417720       </td><td> 7.077655e-01</td><td>9.436684e-02 </td><td> 6.764460e-01</td><td> 6.937157e-01</td><td>5.813930e-02 </td><td>     0.000   </td><td>9.999873e-01 </td><td>9.999873e-01 </td><td> 1.247219e+00</td><td>  1.11294638 </td><td>1.460080e-04 </td></tr>\n",
       "\t<tr><th scope=row>nonlinear</th><td>15           </td><td>417720       </td><td> 1.468806e+00</td><td>2.610744e+00 </td><td> 6.985920e-01</td><td> 9.371704e-01</td><td>7.781020e-01 </td><td>     0.000   </td><td>5.461174e+01 </td><td>5.461174e+01 </td><td> 5.539858e+00</td><td> 44.69929984 </td><td>4.039445e-03 </td></tr>\n",
       "\t<tr><th scope=row>hurst</th><td>16           </td><td>417720       </td><td> 9.727440e-01</td><td>6.543923e-02 </td><td> 9.920589e-01</td><td> 9.894293e-01</td><td>2.222170e-03 </td><td>     0.000   </td><td>9.968023e-01 </td><td>9.968023e-01 </td><td>-4.728103e+00</td><td> 25.94296554 </td><td>1.012501e-04 </td></tr>\n",
       "</tbody>\n",
       "</table>\n"
      ],
      "text/latex": [
       "\\begin{tabular}{r|lllllllllllll}\n",
       "  & vars & n & mean & sd & median & trimmed & mad & min & max & range & skew & kurtosis & se\\\\\n",
       "\\hline\n",
       "\tX &  1            & 417720        &  3.144005e+05 & 1.205855e+05  &  3.144005e+05 &  3.144005e+05 & 1.548279e+05  & 105541.000    & 5.232600e+05  & 4.177190e+05  & -1.716869e-17 &  -1.20000862  & 1.865746e+02 \\\\\n",
       "\tload &  2            & 417720        &  2.184664e+00 & 1.890565e+00  &  1.279000e+00 &  1.918025e+00 & 8.421168e-01  &      0.298    & 1.179400e+01  & 1.149600e+01  &  1.134783e+00 &  -0.07882485  & 2.925155e-03 \\\\\n",
       "\tac* &  3            & 417720        &  1.242265e+00 & 4.284544e-01  &  1.000000e+00 &  1.177831e+00 & 0.000000e+00  &      1.000    & 2.000000e+00  & 1.000000e+00  &  1.203088e+00 &  -0.55258008  & 6.629213e-04 \\\\\n",
       "\tev* &  4            & 417720        &  1.005590e+00 & 7.455626e-02  &  1.000000e+00 &  1.000000e+00 & 0.000000e+00  &      1.000    & 2.000000e+00  & 1.000000e+00  &  1.326271e+01 & 173.89984926  & 1.153563e-04 \\\\\n",
       "\toven* &  5            & 417720        &  1.014258e+00 & 1.185542e-01  &  1.000000e+00 &  1.000000e+00 & 0.000000e+00  &      1.000    & 2.000000e+00  & 1.000000e+00  &  8.194407e+00 &  65.14845664  & 1.834316e-04 \\\\\n",
       "\twash* &  6            & 417720        &  1.019039e+00 & 1.366625e-01  &  1.000000e+00 &  1.000000e+00 & 0.000000e+00  &      1.000    & 2.000000e+00  & 1.000000e+00  &  7.038652e+00 &  47.54274261  & 2.114495e-04 \\\\\n",
       "\tdryer* &  7            & 417720        &  1.032500e+00 & 1.773247e-01  &  1.000000e+00 &  1.000000e+00 & 0.000000e+00  &      1.000    & 2.000000e+00  & 1.000000e+00  &  5.272798e+00 &  25.80245821  & 2.743637e-04 \\\\\n",
       "\thourofday &  8            & 417720        &  1.148449e+01 & 6.920358e+00  &  1.100000e+01 &  1.148133e+01 & 8.895600e+00  &      0.000    & 2.300000e+01  & 2.300000e+01  &  3.070053e-03 &  -1.20380632  & 1.070745e-02 \\\\\n",
       "\tdayofweek* &  9            & 417720        &  4.013646e+00 & 2.001499e+00  &  4.000000e+00 &  4.017057e+00 & 2.965200e+00  &      1.000    & 7.000000e+00  & 6.000000e+00  & -4.563216e-03 &  -1.25694088  & 3.096798e-03 \\\\\n",
       "\tdif & 10            & 417720        & -7.038207e-07 & 5.309284e-01  & -1.000000e-03 & -2.249922e-03 & 1.482600e-02  &     -7.970    & 7.619000e+00  & 1.558900e+01  &  1.270821e+00 &  26.83443496  & 8.214731e-04 \\\\\n",
       "\tabsdif & 11            & 417720        &  1.595781e-01 & 5.063791e-01  &  1.000000e-02 &  3.129279e-02 & 1.334340e-02  &      0.000    & 7.970000e+00  & 7.970000e+00  &  4.826898e+00 &  26.36419542  & 7.834894e-04 \\\\\n",
       "\tmax & 12            & 417720        &  3.977086e+00 & 2.131094e+00  &  4.652000e+00 &  3.929173e+00 & 2.351404e+00  &      0.000    & 1.179400e+01  & 1.179400e+01  &  1.118083e-01 &  -0.70854049  & 3.297311e-03 \\\\\n",
       "\tvar & 13            & 417720        &  1.871247e+00 & 1.787633e+00  &  1.984612e+00 &  1.742524e+00 & 2.723959e+00  &      0.000    & 1.634486e+01  & 1.634486e+01  &  4.045464e-01 &  -0.76173230  & 2.765895e-03 \\\\\n",
       "\tentropy & 14            & 417720        &  7.077655e-01 & 9.436684e-02  &  6.764460e-01 &  6.937157e-01 & 5.813930e-02  &      0.000    & 9.999873e-01  & 9.999873e-01  &  1.247219e+00 &   1.11294638  & 1.460080e-04 \\\\\n",
       "\tnonlinear & 15            & 417720        &  1.468806e+00 & 2.610744e+00  &  6.985920e-01 &  9.371704e-01 & 7.781020e-01  &      0.000    & 5.461174e+01  & 5.461174e+01  &  5.539858e+00 &  44.69929984  & 4.039445e-03 \\\\\n",
       "\thurst & 16            & 417720        &  9.727440e-01 & 6.543923e-02  &  9.920589e-01 &  9.894293e-01 & 2.222170e-03  &      0.000    & 9.968023e-01  & 9.968023e-01  & -4.728103e+00 &  25.94296554  & 1.012501e-04 \\\\\n",
       "\\end{tabular}\n"
      ],
      "text/markdown": [
       "\n",
       "| <!--/--> | vars | n | mean | sd | median | trimmed | mad | min | max | range | skew | kurtosis | se |\n",
       "|---|---|---|---|---|---|---|---|---|---|---|---|---|---|\n",
       "| X |  1            | 417720        |  3.144005e+05 | 1.205855e+05  |  3.144005e+05 |  3.144005e+05 | 1.548279e+05  | 105541.000    | 5.232600e+05  | 4.177190e+05  | -1.716869e-17 |  -1.20000862  | 1.865746e+02  |\n",
       "| load |  2            | 417720        |  2.184664e+00 | 1.890565e+00  |  1.279000e+00 |  1.918025e+00 | 8.421168e-01  |      0.298    | 1.179400e+01  | 1.149600e+01  |  1.134783e+00 |  -0.07882485  | 2.925155e-03  |\n",
       "| ac* |  3            | 417720        |  1.242265e+00 | 4.284544e-01  |  1.000000e+00 |  1.177831e+00 | 0.000000e+00  |      1.000    | 2.000000e+00  | 1.000000e+00  |  1.203088e+00 |  -0.55258008  | 6.629213e-04  |\n",
       "| ev* |  4            | 417720        |  1.005590e+00 | 7.455626e-02  |  1.000000e+00 |  1.000000e+00 | 0.000000e+00  |      1.000    | 2.000000e+00  | 1.000000e+00  |  1.326271e+01 | 173.89984926  | 1.153563e-04  |\n",
       "| oven* |  5            | 417720        |  1.014258e+00 | 1.185542e-01  |  1.000000e+00 |  1.000000e+00 | 0.000000e+00  |      1.000    | 2.000000e+00  | 1.000000e+00  |  8.194407e+00 |  65.14845664  | 1.834316e-04  |\n",
       "| wash* |  6            | 417720        |  1.019039e+00 | 1.366625e-01  |  1.000000e+00 |  1.000000e+00 | 0.000000e+00  |      1.000    | 2.000000e+00  | 1.000000e+00  |  7.038652e+00 |  47.54274261  | 2.114495e-04  |\n",
       "| dryer* |  7            | 417720        |  1.032500e+00 | 1.773247e-01  |  1.000000e+00 |  1.000000e+00 | 0.000000e+00  |      1.000    | 2.000000e+00  | 1.000000e+00  |  5.272798e+00 |  25.80245821  | 2.743637e-04  |\n",
       "| hourofday |  8            | 417720        |  1.148449e+01 | 6.920358e+00  |  1.100000e+01 |  1.148133e+01 | 8.895600e+00  |      0.000    | 2.300000e+01  | 2.300000e+01  |  3.070053e-03 |  -1.20380632  | 1.070745e-02  |\n",
       "| dayofweek* |  9            | 417720        |  4.013646e+00 | 2.001499e+00  |  4.000000e+00 |  4.017057e+00 | 2.965200e+00  |      1.000    | 7.000000e+00  | 6.000000e+00  | -4.563216e-03 |  -1.25694088  | 3.096798e-03  |\n",
       "| dif | 10            | 417720        | -7.038207e-07 | 5.309284e-01  | -1.000000e-03 | -2.249922e-03 | 1.482600e-02  |     -7.970    | 7.619000e+00  | 1.558900e+01  |  1.270821e+00 |  26.83443496  | 8.214731e-04  |\n",
       "| absdif | 11            | 417720        |  1.595781e-01 | 5.063791e-01  |  1.000000e-02 |  3.129279e-02 | 1.334340e-02  |      0.000    | 7.970000e+00  | 7.970000e+00  |  4.826898e+00 |  26.36419542  | 7.834894e-04  |\n",
       "| max | 12            | 417720        |  3.977086e+00 | 2.131094e+00  |  4.652000e+00 |  3.929173e+00 | 2.351404e+00  |      0.000    | 1.179400e+01  | 1.179400e+01  |  1.118083e-01 |  -0.70854049  | 3.297311e-03  |\n",
       "| var | 13            | 417720        |  1.871247e+00 | 1.787633e+00  |  1.984612e+00 |  1.742524e+00 | 2.723959e+00  |      0.000    | 1.634486e+01  | 1.634486e+01  |  4.045464e-01 |  -0.76173230  | 2.765895e-03  |\n",
       "| entropy | 14            | 417720        |  7.077655e-01 | 9.436684e-02  |  6.764460e-01 |  6.937157e-01 | 5.813930e-02  |      0.000    | 9.999873e-01  | 9.999873e-01  |  1.247219e+00 |   1.11294638  | 1.460080e-04  |\n",
       "| nonlinear | 15            | 417720        |  1.468806e+00 | 2.610744e+00  |  6.985920e-01 |  9.371704e-01 | 7.781020e-01  |      0.000    | 5.461174e+01  | 5.461174e+01  |  5.539858e+00 |  44.69929984  | 4.039445e-03  |\n",
       "| hurst | 16            | 417720        |  9.727440e-01 | 6.543923e-02  |  9.920589e-01 |  9.894293e-01 | 2.222170e-03  |      0.000    | 9.968023e-01  | 9.968023e-01  | -4.728103e+00 |  25.94296554  | 1.012501e-04  |\n",
       "\n"
      ],
      "text/plain": [
       "           vars n      mean          sd           median        trimmed      \n",
       "X           1   417720  3.144005e+05 1.205855e+05  3.144005e+05  3.144005e+05\n",
       "load        2   417720  2.184664e+00 1.890565e+00  1.279000e+00  1.918025e+00\n",
       "ac*         3   417720  1.242265e+00 4.284544e-01  1.000000e+00  1.177831e+00\n",
       "ev*         4   417720  1.005590e+00 7.455626e-02  1.000000e+00  1.000000e+00\n",
       "oven*       5   417720  1.014258e+00 1.185542e-01  1.000000e+00  1.000000e+00\n",
       "wash*       6   417720  1.019039e+00 1.366625e-01  1.000000e+00  1.000000e+00\n",
       "dryer*      7   417720  1.032500e+00 1.773247e-01  1.000000e+00  1.000000e+00\n",
       "hourofday   8   417720  1.148449e+01 6.920358e+00  1.100000e+01  1.148133e+01\n",
       "dayofweek*  9   417720  4.013646e+00 2.001499e+00  4.000000e+00  4.017057e+00\n",
       "dif        10   417720 -7.038207e-07 5.309284e-01 -1.000000e-03 -2.249922e-03\n",
       "absdif     11   417720  1.595781e-01 5.063791e-01  1.000000e-02  3.129279e-02\n",
       "max        12   417720  3.977086e+00 2.131094e+00  4.652000e+00  3.929173e+00\n",
       "var        13   417720  1.871247e+00 1.787633e+00  1.984612e+00  1.742524e+00\n",
       "entropy    14   417720  7.077655e-01 9.436684e-02  6.764460e-01  6.937157e-01\n",
       "nonlinear  15   417720  1.468806e+00 2.610744e+00  6.985920e-01  9.371704e-01\n",
       "hurst      16   417720  9.727440e-01 6.543923e-02  9.920589e-01  9.894293e-01\n",
       "           mad          min        max          range        skew         \n",
       "X          1.548279e+05 105541.000 5.232600e+05 4.177190e+05 -1.716869e-17\n",
       "load       8.421168e-01      0.298 1.179400e+01 1.149600e+01  1.134783e+00\n",
       "ac*        0.000000e+00      1.000 2.000000e+00 1.000000e+00  1.203088e+00\n",
       "ev*        0.000000e+00      1.000 2.000000e+00 1.000000e+00  1.326271e+01\n",
       "oven*      0.000000e+00      1.000 2.000000e+00 1.000000e+00  8.194407e+00\n",
       "wash*      0.000000e+00      1.000 2.000000e+00 1.000000e+00  7.038652e+00\n",
       "dryer*     0.000000e+00      1.000 2.000000e+00 1.000000e+00  5.272798e+00\n",
       "hourofday  8.895600e+00      0.000 2.300000e+01 2.300000e+01  3.070053e-03\n",
       "dayofweek* 2.965200e+00      1.000 7.000000e+00 6.000000e+00 -4.563216e-03\n",
       "dif        1.482600e-02     -7.970 7.619000e+00 1.558900e+01  1.270821e+00\n",
       "absdif     1.334340e-02      0.000 7.970000e+00 7.970000e+00  4.826898e+00\n",
       "max        2.351404e+00      0.000 1.179400e+01 1.179400e+01  1.118083e-01\n",
       "var        2.723959e+00      0.000 1.634486e+01 1.634486e+01  4.045464e-01\n",
       "entropy    5.813930e-02      0.000 9.999873e-01 9.999873e-01  1.247219e+00\n",
       "nonlinear  7.781020e-01      0.000 5.461174e+01 5.461174e+01  5.539858e+00\n",
       "hurst      2.222170e-03      0.000 9.968023e-01 9.968023e-01 -4.728103e+00\n",
       "           kurtosis     se          \n",
       "X           -1.20000862 1.865746e+02\n",
       "load        -0.07882485 2.925155e-03\n",
       "ac*         -0.55258008 6.629213e-04\n",
       "ev*        173.89984926 1.153563e-04\n",
       "oven*       65.14845664 1.834316e-04\n",
       "wash*       47.54274261 2.114495e-04\n",
       "dryer*      25.80245821 2.743637e-04\n",
       "hourofday   -1.20380632 1.070745e-02\n",
       "dayofweek*  -1.25694088 3.096798e-03\n",
       "dif         26.83443496 8.214731e-04\n",
       "absdif      26.36419542 7.834894e-04\n",
       "max         -0.70854049 3.297311e-03\n",
       "var         -0.76173230 2.765895e-03\n",
       "entropy      1.11294638 1.460080e-04\n",
       "nonlinear   44.69929984 4.039445e-03\n",
       "hurst       25.94296554 1.012501e-04"
      ]
     },
     "metadata": {},
     "output_type": "display_data"
    }
   ],
   "source": [
    "describe(train.data)"
   ]
  },
  {
   "cell_type": "markdown",
   "metadata": {},
   "source": [
    "There are no missing values. Next, we explore the boxplots to examine their distribution"
   ]
  },
  {
   "cell_type": "code",
   "execution_count": 8,
   "metadata": {},
   "outputs": [
    {
     "name": "stderr",
     "output_type": "stream",
     "text": [
      "Warning message in melt(as.data.frame(train.data[-c(1, 3, 4, 5, 6, 7, 9)])):\n",
      "\"The melt generic in data.table has been passed a data.frame and will attempt to redirect to the relevant reshape2 method; please note that reshape2 is deprecated, and this redirection is now deprecated as well. To continue using melt methods from reshape2 while both libraries are attached, e.g. melt.list, you can prepend the namespace like reshape2::melt(as.data.frame(train.data[-c(1, 3, 4, 5, 6, 7, 9)])). In the next version, this warning will become an error.\"No id variables; using all as measure variables\n"
     ]
    },
    {
     "data": {
      "image/png": "[encoded data removed]",
      "text/plain": [
       "plot without title"
      ]
     },
     "metadata": {},
     "output_type": "display_data"
    }
   ],
   "source": [
    "train.box<-melt(as.data.frame(train.data[-c(1,3,4,5,6,7,9)]))\n",
    "ggplot(train.box,aes(x=variable,y=value))+\n",
    "    facet_wrap(~variable,scales='free')+\n",
    "    geom_boxplot()"
   ]
  },
  {
   "cell_type": "code",
   "execution_count": 9,
   "metadata": {},
   "outputs": [
    {
     "data": {
      "image/png": "[encoded data removed]",
      "text/plain": [
       "plot without title"
      ]
     },
     "metadata": {},
     "output_type": "display_data"
    }
   ],
   "source": [
    "options(repr.plot.width=7, repr.plot.height=7)\n",
    "\n",
    "# function  of the text of the correlation plot\n",
    "paneltext <-function(x, y, z, ...) {\n",
    "    panel.levelplot(x,y,z,...)\n",
    "    panel.text(x,y,round(z, 2))\n",
    "}\n",
    "#Define the color scheme\n",
    "cols = colorRampPalette(c(\"red\",\"blue\"))\n",
    "#Plot the correlation matrix.\n",
    "levelplot(cor(train.data[-c(1,3,4,5,6,7,9)]), col.regions = cols(100), main = \"The correlation matrix between different attributes\", \n",
    "          xlab = NULL, ylab = NULL, \n",
    "scales = list(x = list(rot = 45,cex=1.5),y = list(rot = 45,cex=1.5)),panel = paneltext)"
   ]
  },
  {
   "cell_type": "markdown",
   "metadata": {},
   "source": [
    "- There is a strong positive linear correlation between `var` and `max`\n",
    "\n",
    "- There is a weak negative linear correlation between `hurst` and `entropy`. As `hurst` increases (greater long-term memory), `entropy` decreases(low value of entropy indicates a high signal-to-noise ratio ->easier to forecast). This makes because increase in `hurst` means a greater long-term memory of a time series, which is consistent with a decrease in `entropy`, which means a higher signal-to-noise ratio, hence makes it easier to forecast.\n",
    "\n",
    "These correlation will be taken into account when we build randomForest classifier, as randomForest builds trees that have rule-like pattern, hence they implicitly consider variable interaction as well."
   ]
  },
  {
   "cell_type": "code",
   "execution_count": 10,
   "metadata": {},
   "outputs": [
    {
     "data": {
      "text/html": [
       "<table>\n",
       "<thead><tr><th></th><th scope=col>X</th><th scope=col>load</th><th scope=col>ac</th><th scope=col>ev</th><th scope=col>oven</th><th scope=col>wash</th><th scope=col>dryer</th><th scope=col>hourofday</th><th scope=col>dayofweek</th><th scope=col>dif</th><th scope=col>absdif</th><th scope=col>max</th><th scope=col>var</th><th scope=col>entropy</th><th scope=col>nonlinear</th><th scope=col>hurst</th></tr></thead>\n",
       "<tbody>\n",
       "\t<tr><th scope=row>5356</th><td>110896    </td><td>5.319     </td><td>1         </td><td>0         </td><td>0         </td><td>0         </td><td>0         </td><td>17        </td><td>Wed       </td><td> 0.583    </td><td>0.583     </td><td>9.354     </td><td>9.079162  </td><td>0.6647435 </td><td>0.10206690</td><td>0.9912188 </td></tr>\n",
       "\t<tr><th scope=row>5357</th><td>110897    </td><td>5.342     </td><td>1         </td><td>0         </td><td>0         </td><td>0         </td><td>0         </td><td>17        </td><td>Wed       </td><td> 0.023    </td><td>0.023     </td><td>9.354     </td><td>9.207715  </td><td>0.6651521 </td><td>0.11780220</td><td>0.9908669 </td></tr>\n",
       "\t<tr><th scope=row>5358</th><td>110898    </td><td>1.755     </td><td>0         </td><td>0         </td><td>0         </td><td>0         </td><td>0         </td><td> 2        </td><td>Fri       </td><td>-3.587    </td><td>3.587     </td><td>9.354     </td><td>9.370639  </td><td>0.6642243 </td><td>0.08193567</td><td>0.9909383 </td></tr>\n",
       "\t<tr><th scope=row>5359</th><td>110899    </td><td>5.315     </td><td>1         </td><td>0         </td><td>0         </td><td>0         </td><td>0         </td><td>17        </td><td>Wed       </td><td> 3.560    </td><td>3.560     </td><td>9.354     </td><td>9.531306  </td><td>0.6619385 </td><td>0.07256142</td><td>0.9910337 </td></tr>\n",
       "\t<tr><th scope=row>5360</th><td>110900    </td><td>5.336     </td><td>1         </td><td>0         </td><td>0         </td><td>0         </td><td>0         </td><td>17        </td><td>Wed       </td><td> 0.021    </td><td>0.021     </td><td>9.354     </td><td>9.692591  </td><td>0.6593139 </td><td>0.06454659</td><td>0.9911243 </td></tr>\n",
       "</tbody>\n",
       "</table>\n"
      ],
      "text/latex": [
       "\\begin{tabular}{r|llllllllllllllll}\n",
       "  & X & load & ac & ev & oven & wash & dryer & hourofday & dayofweek & dif & absdif & max & var & entropy & nonlinear & hurst\\\\\n",
       "\\hline\n",
       "\t5356 & 110896     & 5.319      & 1          & 0          & 0          & 0          & 0          & 17         & Wed        &  0.583     & 0.583      & 9.354      & 9.079162   & 0.6647435  & 0.10206690 & 0.9912188 \\\\\n",
       "\t5357 & 110897     & 5.342      & 1          & 0          & 0          & 0          & 0          & 17         & Wed        &  0.023     & 0.023      & 9.354      & 9.207715   & 0.6651521  & 0.11780220 & 0.9908669 \\\\\n",
       "\t5358 & 110898     & 1.755      & 0          & 0          & 0          & 0          & 0          &  2         & Fri        & -3.587     & 3.587      & 9.354      & 9.370639   & 0.6642243  & 0.08193567 & 0.9909383 \\\\\n",
       "\t5359 & 110899     & 5.315      & 1          & 0          & 0          & 0          & 0          & 17         & Wed        &  3.560     & 3.560      & 9.354      & 9.531306   & 0.6619385  & 0.07256142 & 0.9910337 \\\\\n",
       "\t5360 & 110900     & 5.336      & 1          & 0          & 0          & 0          & 0          & 17         & Wed        &  0.021     & 0.021      & 9.354      & 9.692591   & 0.6593139  & 0.06454659 & 0.9911243 \\\\\n",
       "\\end{tabular}\n"
      ],
      "text/markdown": [
       "\n",
       "| <!--/--> | X | load | ac | ev | oven | wash | dryer | hourofday | dayofweek | dif | absdif | max | var | entropy | nonlinear | hurst |\n",
       "|---|---|---|---|---|---|---|---|---|---|---|---|---|---|---|---|---|\n",
       "| 5356 | 110896     | 5.319      | 1          | 0          | 0          | 0          | 0          | 17         | Wed        |  0.583     | 0.583      | 9.354      | 9.079162   | 0.6647435  | 0.10206690 | 0.9912188  |\n",
       "| 5357 | 110897     | 5.342      | 1          | 0          | 0          | 0          | 0          | 17         | Wed        |  0.023     | 0.023      | 9.354      | 9.207715   | 0.6651521  | 0.11780220 | 0.9908669  |\n",
       "| 5358 | 110898     | 1.755      | 0          | 0          | 0          | 0          | 0          |  2         | Fri        | -3.587     | 3.587      | 9.354      | 9.370639   | 0.6642243  | 0.08193567 | 0.9909383  |\n",
       "| 5359 | 110899     | 5.315      | 1          | 0          | 0          | 0          | 0          | 17         | Wed        |  3.560     | 3.560      | 9.354      | 9.531306   | 0.6619385  | 0.07256142 | 0.9910337  |\n",
       "| 5360 | 110900     | 5.336      | 1          | 0          | 0          | 0          | 0          | 17         | Wed        |  0.021     | 0.021      | 9.354      | 9.692591   | 0.6593139  | 0.06454659 | 0.9911243  |\n",
       "\n"
      ],
      "text/plain": [
       "     X      load  ac ev oven wash dryer hourofday dayofweek dif    absdif max  \n",
       "5356 110896 5.319 1  0  0    0    0     17        Wed        0.583 0.583  9.354\n",
       "5357 110897 5.342 1  0  0    0    0     17        Wed        0.023 0.023  9.354\n",
       "5358 110898 1.755 0  0  0    0    0      2        Fri       -3.587 3.587  9.354\n",
       "5359 110899 5.315 1  0  0    0    0     17        Wed        3.560 3.560  9.354\n",
       "5360 110900 5.336 1  0  0    0    0     17        Wed        0.021 0.021  9.354\n",
       "     var      entropy   nonlinear  hurst    \n",
       "5356 9.079162 0.6647435 0.10206690 0.9912188\n",
       "5357 9.207715 0.6651521 0.11780220 0.9908669\n",
       "5358 9.370639 0.6642243 0.08193567 0.9909383\n",
       "5359 9.531306 0.6619385 0.07256142 0.9910337\n",
       "5360 9.692591 0.6593139 0.06454659 0.9911243"
      ]
     },
     "metadata": {},
     "output_type": "display_data"
    },
    {
     "data": {
      "text/html": [
       "<table>\n",
       "<thead><tr><th></th><th scope=col>X</th><th scope=col>load</th><th scope=col>ac</th><th scope=col>ev</th><th scope=col>oven</th><th scope=col>wash</th><th scope=col>dryer</th><th scope=col>hourofday</th><th scope=col>dayofweek</th><th scope=col>dif</th><th scope=col>absdif</th><th scope=col>max</th><th scope=col>var</th><th scope=col>entropy</th><th scope=col>nonlinear</th><th scope=col>hurst</th></tr></thead>\n",
       "<tbody>\n",
       "\t<tr><th scope=row>139459</th><td>244999    </td><td>8.777     </td><td>1         </td><td>0         </td><td>1         </td><td>0         </td><td>0         </td><td>9         </td><td>Sat       </td><td> 0.003    </td><td>0.003     </td><td>8.8       </td><td>9.107085  </td><td>0.7650282 </td><td>0.10483612</td><td>0.9801537 </td></tr>\n",
       "\t<tr><th scope=row>139460</th><td>245000    </td><td>8.772     </td><td>1         </td><td>0         </td><td>1         </td><td>0         </td><td>0         </td><td>9         </td><td>Sat       </td><td>-0.005    </td><td>0.005     </td><td>8.8       </td><td>9.123997  </td><td>0.7725285 </td><td>0.09801500</td><td>0.9807521 </td></tr>\n",
       "\t<tr><th scope=row>139461</th><td>245001    </td><td>0.802     </td><td>0         </td><td>0         </td><td>0         </td><td>0         </td><td>0         </td><td>9         </td><td>Tue       </td><td>-7.970    </td><td>7.970     </td><td>8.8       </td><td>9.085604  </td><td>0.7741791 </td><td>0.09771141</td><td>0.9810216 </td></tr>\n",
       "\t<tr><th scope=row>139462</th><td>245002    </td><td>7.434     </td><td>1         </td><td>0         </td><td>1         </td><td>0         </td><td>0         </td><td>9         </td><td>Sat       </td><td> 6.632    </td><td>6.632     </td><td>8.8       </td><td>9.026540  </td><td>0.7697209 </td><td>0.09851416</td><td>0.9811455 </td></tr>\n",
       "\t<tr><th scope=row>139463</th><td>245003    </td><td>4.821     </td><td>1         </td><td>0         </td><td>0         </td><td>0         </td><td>0         </td><td>9         </td><td>Sat       </td><td>-2.613    </td><td>2.613     </td><td>8.8       </td><td>8.959326  </td><td>0.7631386 </td><td>0.10014973</td><td>0.9811997 </td></tr>\n",
       "</tbody>\n",
       "</table>\n"
      ],
      "text/latex": [
       "\\begin{tabular}{r|llllllllllllllll}\n",
       "  & X & load & ac & ev & oven & wash & dryer & hourofday & dayofweek & dif & absdif & max & var & entropy & nonlinear & hurst\\\\\n",
       "\\hline\n",
       "\t139459 & 244999     & 8.777      & 1          & 0          & 1          & 0          & 0          & 9          & Sat        &  0.003     & 0.003      & 8.8        & 9.107085   & 0.7650282  & 0.10483612 & 0.9801537 \\\\\n",
       "\t139460 & 245000     & 8.772      & 1          & 0          & 1          & 0          & 0          & 9          & Sat        & -0.005     & 0.005      & 8.8        & 9.123997   & 0.7725285  & 0.09801500 & 0.9807521 \\\\\n",
       "\t139461 & 245001     & 0.802      & 0          & 0          & 0          & 0          & 0          & 9          & Tue        & -7.970     & 7.970      & 8.8        & 9.085604   & 0.7741791  & 0.09771141 & 0.9810216 \\\\\n",
       "\t139462 & 245002     & 7.434      & 1          & 0          & 1          & 0          & 0          & 9          & Sat        &  6.632     & 6.632      & 8.8        & 9.026540   & 0.7697209  & 0.09851416 & 0.9811455 \\\\\n",
       "\t139463 & 245003     & 4.821      & 1          & 0          & 0          & 0          & 0          & 9          & Sat        & -2.613     & 2.613      & 8.8        & 8.959326   & 0.7631386  & 0.10014973 & 0.9811997 \\\\\n",
       "\\end{tabular}\n"
      ],
      "text/markdown": [
       "\n",
       "| <!--/--> | X | load | ac | ev | oven | wash | dryer | hourofday | dayofweek | dif | absdif | max | var | entropy | nonlinear | hurst |\n",
       "|---|---|---|---|---|---|---|---|---|---|---|---|---|---|---|---|---|\n",
       "| 139459 | 244999     | 8.777      | 1          | 0          | 1          | 0          | 0          | 9          | Sat        |  0.003     | 0.003      | 8.8        | 9.107085   | 0.7650282  | 0.10483612 | 0.9801537  |\n",
       "| 139460 | 245000     | 8.772      | 1          | 0          | 1          | 0          | 0          | 9          | Sat        | -0.005     | 0.005      | 8.8        | 9.123997   | 0.7725285  | 0.09801500 | 0.9807521  |\n",
       "| 139461 | 245001     | 0.802      | 0          | 0          | 0          | 0          | 0          | 9          | Tue        | -7.970     | 7.970      | 8.8        | 9.085604   | 0.7741791  | 0.09771141 | 0.9810216  |\n",
       "| 139462 | 245002     | 7.434      | 1          | 0          | 1          | 0          | 0          | 9          | Sat        |  6.632     | 6.632      | 8.8        | 9.026540   | 0.7697209  | 0.09851416 | 0.9811455  |\n",
       "| 139463 | 245003     | 4.821      | 1          | 0          | 0          | 0          | 0          | 9          | Sat        | -2.613     | 2.613      | 8.8        | 8.959326   | 0.7631386  | 0.10014973 | 0.9811997  |\n",
       "\n"
      ],
      "text/plain": [
       "       X      load  ac ev oven wash dryer hourofday dayofweek dif    absdif max\n",
       "139459 244999 8.777 1  0  1    0    0     9         Sat        0.003 0.003  8.8\n",
       "139460 245000 8.772 1  0  1    0    0     9         Sat       -0.005 0.005  8.8\n",
       "139461 245001 0.802 0  0  0    0    0     9         Tue       -7.970 7.970  8.8\n",
       "139462 245002 7.434 1  0  1    0    0     9         Sat        6.632 6.632  8.8\n",
       "139463 245003 4.821 1  0  0    0    0     9         Sat       -2.613 2.613  8.8\n",
       "       var      entropy   nonlinear  hurst    \n",
       "139459 9.107085 0.7650282 0.10483612 0.9801537\n",
       "139460 9.123997 0.7725285 0.09801500 0.9807521\n",
       "139461 9.085604 0.7741791 0.09771141 0.9810216\n",
       "139462 9.026540 0.7697209 0.09851416 0.9811455\n",
       "139463 8.959326 0.7631386 0.10014973 0.9811997"
      ]
     },
     "metadata": {},
     "output_type": "display_data"
    }
   ],
   "source": [
    "train.data[5356:5360,]  #row 5358\n",
    "train.data[139459:139463,]  #row 139461"
   ]
  },
  {
   "cell_type": "markdown",
   "metadata": {},
   "source": [
    "As we can see, row with index 5358 is totally out of place, regarding its values of `hourofday` and `dayofweek` as compared to rows preceding it and succeeding it. Likewise, row with index 139461 has the wrong value of `dayofweek`. We will filter out these incorrect rows."
   ]
  },
  {
   "cell_type": "code",
   "execution_count": 11,
   "metadata": {},
   "outputs": [],
   "source": [
    "#incorrect rows for hourofday\n",
    "#where hourofday is not the same as both the row directly above it and the row directly below it\n",
    "incor.hour<-filter(train.data,\n",
    "       (lag(train.data$hourofday)!=train.data$hourofday & lead(train.data$hourofday)!=train.data$hourofday))\n",
    "\n",
    "#incorrect rows for dayofweek\n",
    "#where dayofweek is not the same as both the row directly above it and the row directly below it\n",
    "incor.day<-filter(train.data,\n",
    "       lag(train.data$dayofweek)!=train.data$dayofweek & lead(train.data$dayofweek)!=train.data$dayofweek)"
   ]
  },
  {
   "cell_type": "code",
   "execution_count": 12,
   "metadata": {},
   "outputs": [],
   "source": [
    "#need to filter out these rows from train.data\n",
    "train.data<-train.data[!train.data$X %in% incor.hour$X,]\n",
    "train.data<-train.data[!train.data$X %in% incor.day$X,]"
   ]
  },
  {
   "cell_type": "code",
   "execution_count": 13,
   "metadata": {},
   "outputs": [],
   "source": [
    "#reset row index for convenience\n",
    "row.names(train.data) <- NULL"
   ]
  },
  {
   "cell_type": "code",
   "execution_count": 14,
   "metadata": {},
   "outputs": [],
   "source": [
    "#After remove incorrect rows, need to recalculate dif and absdif\n",
    "train.data[,'dif']<-train.data$load-lag(train.data$load,1,na.pad=TRUE)\n",
    "train.data[,'absdif']<-abs(train.data$dif)"
   ]
  },
  {
   "cell_type": "markdown",
   "metadata": {},
   "source": [
    "### Feature Engineering\n",
    "\n",
    "For feature engineering, i will generate several new features. \n",
    "- `minuteofhour` variable is the minute within each hour, derived from `hourofday` variable. \n",
    "- `minuteofday` variable is the minute within each day, derived from `dayofweek` variable.\n",
    "- `difflag` variables are the difference between the value of `load` and its corresponding lag. For example, `difflag10` variable is the difference between the value of `load` and the 10th lag of value of `load`. However, it is not efficient to generate random `difflag` variables. In order to know what kind of `difflag` would be most appropriate for each target variable, we need to consider their activation window. Since appliances usage last for a while, this activation window can prove to be insightful and help us decide what values of `difflag` to consider. Thefore, we need to narrow down what would be the optimal activation window sizes. One way to do this is to consider the most frequently-occurred activation window sizes.\n",
    "- We need to pad the NaN values created due to the generation of `difflag` variables in the test set. I simply impute these NaN values as 0 in the test set."
   ]
  },
  {
   "cell_type": "markdown",
   "metadata": {},
   "source": [
    "#### Generate `minuteofhour` and `minuteofday` variables"
   ]
  },
  {
   "cell_type": "code",
   "execution_count": 15,
   "metadata": {
    "scrolled": true
   },
   "outputs": [
    {
     "data": {
      "text/html": [
       "<table>\n",
       "<thead><tr><th></th><th scope=col>X</th><th scope=col>load</th><th scope=col>ac</th><th scope=col>ev</th><th scope=col>oven</th><th scope=col>wash</th><th scope=col>dryer</th><th scope=col>hourofday</th><th scope=col>dayofweek</th><th scope=col>dif</th><th scope=col>absdif</th><th scope=col>max</th><th scope=col>var</th><th scope=col>entropy</th><th scope=col>nonlinear</th><th scope=col>hurst</th><th scope=col>minuteofhr</th><th scope=col>minuteofhour</th></tr></thead>\n",
       "<tbody>\n",
       "\t<tr><th scope=row>27403</th><td>132949      </td><td>4.891       </td><td>1           </td><td>0           </td><td>0           </td><td>0           </td><td>1           </td><td>0           </td><td>Fri         </td><td> 0.109      </td><td>0.109       </td><td>4.956       </td><td>2.6361546721</td><td>0.6392512   </td><td> 0.03148504 </td><td>0.9935212   </td><td> 471        </td><td>61          </td></tr>\n",
       "\t<tr><th scope=row>27404</th><td>132950      </td><td>4.779       </td><td>1           </td><td>0           </td><td>0           </td><td>0           </td><td>1           </td><td>0           </td><td>Fri         </td><td>-0.112      </td><td>0.112       </td><td>4.956       </td><td>2.6471973235</td><td>0.6326943   </td><td> 0.02292327 </td><td>0.9935300   </td><td> 471        </td><td>62          </td></tr>\n",
       "\t<tr><th scope=row>27405</th><td>132951      </td><td>4.777       </td><td>1           </td><td>0           </td><td>0           </td><td>0           </td><td>1           </td><td>0           </td><td>Fri         </td><td>-0.002      </td><td>0.002       </td><td>4.956       </td><td>2.6557939115</td><td>0.6347873   </td><td> 0.02068625 </td><td>0.9935320   </td><td> 471        </td><td>63          </td></tr>\n",
       "\t<tr><th scope=row>27406</th><td>132952      </td><td>3.071       </td><td>1           </td><td>0           </td><td>0           </td><td>0           </td><td>1           </td><td>0           </td><td>Fri         </td><td>-1.706      </td><td>1.706       </td><td>4.956       </td><td>2.6645122721</td><td>0.6433018   </td><td> 0.01837958 </td><td>0.9935329   </td><td> 471        </td><td>64          </td></tr>\n",
       "\t<tr><th scope=row>27407</th><td>132953      </td><td>1.602       </td><td>0           </td><td>0           </td><td>0           </td><td>0           </td><td>0           </td><td>0           </td><td>Fri         </td><td>-1.469      </td><td>1.469       </td><td>4.956       </td><td>2.6729411792</td><td>0.6518286   </td><td> 0.01699347 </td><td>0.9935326   </td><td> 471        </td><td>65          </td></tr>\n",
       "\t<tr><th scope=row>27408</th><td>132954      </td><td>0.993       </td><td>0           </td><td>0           </td><td>0           </td><td>0           </td><td>0           </td><td>0           </td><td>Fri         </td><td>-0.609      </td><td>0.609       </td><td>4.956       </td><td>2.6812962885</td><td>0.6544906   </td><td> 0.02038191 </td><td>0.9935344   </td><td> 471        </td><td>66          </td></tr>\n",
       "\t<tr><th scope=row>27409</th><td>132955      </td><td>0.618       </td><td>0           </td><td>0           </td><td>0           </td><td>0           </td><td>0           </td><td>0           </td><td>Fri         </td><td>-0.375      </td><td>0.375       </td><td>4.956       </td><td>2.6923427727</td><td>0.6496374   </td><td> 0.01187911 </td><td>0.9935394   </td><td> 471        </td><td>67          </td></tr>\n",
       "\t<tr><th scope=row>27410</th><td>132956      </td><td>0.635       </td><td>0           </td><td>0           </td><td>0           </td><td>0           </td><td>0           </td><td>0           </td><td>Fri         </td><td> 0.017      </td><td>0.017       </td><td>4.956       </td><td>2.7009262825</td><td>0.6409704   </td><td> 0.01027663 </td><td>0.9935360   </td><td> 471        </td><td>68          </td></tr>\n",
       "\t<tr><th scope=row>27411</th><td>132957      </td><td>0.679       </td><td>0           </td><td>0           </td><td>0           </td><td>0           </td><td>0           </td><td>0           </td><td>Fri         </td><td> 0.044      </td><td>0.044       </td><td>4.956       </td><td>2.7674791858</td><td>0.6351432   </td><td> 0.09564141 </td><td>0.9913762   </td><td> 471        </td><td>69          </td></tr>\n",
       "\t<tr><th scope=row>27412</th><td>132958      </td><td>0.697       </td><td>0           </td><td>0           </td><td>0           </td><td>0           </td><td>0           </td><td>0           </td><td>Fri         </td><td> 0.018      </td><td>0.018       </td><td>4.956       </td><td>2.8898610874</td><td>0.6381889   </td><td> 0.21488418 </td><td>0.9914636   </td><td> 471        </td><td>70          </td></tr>\n",
       "\t<tr><th scope=row>27413</th><td>132959      </td><td>0.704       </td><td>0           </td><td>0           </td><td>0           </td><td>0           </td><td>0           </td><td>0           </td><td>Fri         </td><td> 0.007      </td><td>0.007       </td><td>4.956       </td><td>3.0035396765</td><td>0.6520006   </td><td> 0.21105383 </td><td>0.9918545   </td><td> 471        </td><td>71          </td></tr>\n",
       "\t<tr><th scope=row>27414</th><td>132960      </td><td>0.715       </td><td>0           </td><td>0           </td><td>0           </td><td>0           </td><td>0           </td><td>0           </td><td>Fri         </td><td> 0.011      </td><td>0.011       </td><td>4.956       </td><td>3.1063961847</td><td>0.6715857   </td><td> 0.21191231 </td><td>0.9921434   </td><td> 471        </td><td>72          </td></tr>\n",
       "\t<tr><th scope=row>251065</th><td>356881      </td><td>1.045       </td><td>0           </td><td>0           </td><td>0           </td><td>0           </td><td>0           </td><td>1           </td><td>Sun         </td><td> 0.004      </td><td>0.004       </td><td>1.069       </td><td>0.0014285279</td><td>0.7576937   </td><td>11.37426203 </td><td>0.9834435   </td><td>5017        </td><td>61          </td></tr>\n",
       "\t<tr><th scope=row>251066</th><td>356882      </td><td>1.069       </td><td>0           </td><td>0           </td><td>0           </td><td>0           </td><td>0           </td><td>1           </td><td>Sun         </td><td> 0.024      </td><td>0.024       </td><td>1.069       </td><td>0.0013737705</td><td>0.7868791   </td><td>11.32508920 </td><td>0.9829062   </td><td>5017        </td><td>62          </td></tr>\n",
       "\t<tr><th scope=row>251067</th><td>356883      </td><td>1.061       </td><td>0           </td><td>0           </td><td>0           </td><td>0           </td><td>0           </td><td>1           </td><td>Sun         </td><td>-0.008      </td><td>0.008       </td><td>1.069       </td><td>0.0013152131</td><td>0.7983761   </td><td>11.14243021 </td><td>0.9823243   </td><td>5017        </td><td>63          </td></tr>\n",
       "\t<tr><th scope=row>251068</th><td>356884      </td><td>1.035       </td><td>0           </td><td>0           </td><td>0           </td><td>0           </td><td>0           </td><td>1           </td><td>Sun         </td><td>-0.026      </td><td>0.026       </td><td>1.069       </td><td>0.0012563956</td><td>0.7940617   </td><td>10.74353026 </td><td>0.9815587   </td><td>5017        </td><td>64          </td></tr>\n",
       "\t<tr><th scope=row>251069</th><td>356885      </td><td>1.022       </td><td>0           </td><td>0           </td><td>0           </td><td>0           </td><td>0           </td><td>1           </td><td>Sun         </td><td>-0.013      </td><td>0.013       </td><td>1.069       </td><td>0.0012280940</td><td>0.7821717   </td><td> 8.73184283 </td><td>0.9782847   </td><td>5017        </td><td>65          </td></tr>\n",
       "\t<tr><th scope=row>251070</th><td>356886      </td><td>1.035       </td><td>0           </td><td>0           </td><td>0           </td><td>0           </td><td>0           </td><td>1           </td><td>Sun         </td><td> 0.013      </td><td>0.013       </td><td>1.069       </td><td>0.0012146180</td><td>0.7827922   </td><td> 8.72748248 </td><td>0.9791458   </td><td>5017        </td><td>66          </td></tr>\n",
       "\t<tr><th scope=row>251071</th><td>356887      </td><td>1.038       </td><td>0           </td><td>0           </td><td>0           </td><td>0           </td><td>0           </td><td>1           </td><td>Sun         </td><td> 0.003      </td><td>0.003       </td><td>1.069       </td><td>0.0012011153</td><td>0.8082793   </td><td> 8.62146773 </td><td>0.9798602   </td><td>5017        </td><td>67          </td></tr>\n",
       "\t<tr><th scope=row>251072</th><td>356888      </td><td>1.024       </td><td>0           </td><td>0           </td><td>0           </td><td>0           </td><td>0           </td><td>1           </td><td>Sun         </td><td>-0.014      </td><td>0.014       </td><td>1.069       </td><td>0.0011875858</td><td>0.8454894   </td><td> 8.54079370 </td><td>0.9802238   </td><td>5017        </td><td>68          </td></tr>\n",
       "\t<tr><th scope=row>251073</th><td>356889      </td><td>1.027       </td><td>0           </td><td>0           </td><td>0           </td><td>0           </td><td>0           </td><td>1           </td><td>Sun         </td><td> 0.003      </td><td>0.003       </td><td>1.069       </td><td>0.0011797760</td><td>0.8754010   </td><td> 8.47293638 </td><td>0.9804876   </td><td>5017        </td><td>69          </td></tr>\n",
       "\t<tr><th scope=row>251074</th><td>356890      </td><td>1.026       </td><td>0           </td><td>0           </td><td>0           </td><td>0           </td><td>0           </td><td>1           </td><td>Sun         </td><td>-0.001      </td><td>0.001       </td><td>1.069       </td><td>0.0011562940</td><td>0.8895552   </td><td> 8.39131366 </td><td>0.9799864   </td><td>5017        </td><td>70          </td></tr>\n",
       "\t<tr><th scope=row>251075</th><td>356891      </td><td>1.029       </td><td>0           </td><td>0           </td><td>0           </td><td>0           </td><td>0           </td><td>1           </td><td>Sun         </td><td> 0.003      </td><td>0.003       </td><td>1.069       </td><td>0.0011245235</td><td>0.8844381   </td><td> 8.12903125 </td><td>0.9789065   </td><td>5017        </td><td>71          </td></tr>\n",
       "\t<tr><th scope=row>251076</th><td>356892      </td><td>1.021       </td><td>0           </td><td>0           </td><td>0           </td><td>0           </td><td>0           </td><td>1           </td><td>Sun         </td><td>-0.008      </td><td>0.008       </td><td>1.069       </td><td>0.0011020240</td><td>0.8547049   </td><td> 7.87562155 </td><td>0.9779888   </td><td>5017        </td><td>72          </td></tr>\n",
       "\t<tr><th scope=row>251077</th><td>356893      </td><td>1.026       </td><td>0           </td><td>0           </td><td>0           </td><td>0           </td><td>0           </td><td>1           </td><td>Sun         </td><td> 0.005      </td><td>0.005       </td><td>1.069       </td><td>0.0010915486</td><td>0.7965450   </td><td> 7.97809946 </td><td>0.9773380   </td><td>5017        </td><td>73          </td></tr>\n",
       "\t<tr><th scope=row>251078</th><td>356894      </td><td>1.016       </td><td>0           </td><td>0           </td><td>0           </td><td>0           </td><td>0           </td><td>1           </td><td>Sun         </td><td>-0.010      </td><td>0.010       </td><td>1.069       </td><td>0.0010969388</td><td>0.7225852   </td><td> 7.86319693 </td><td>0.9772710   </td><td>5017        </td><td>74          </td></tr>\n",
       "\t<tr><th scope=row>251079</th><td>356895      </td><td>1.025       </td><td>0           </td><td>0           </td><td>0           </td><td>0           </td><td>0           </td><td>1           </td><td>Sun         </td><td> 0.009      </td><td>0.009       </td><td>1.069       </td><td>0.0010266710</td><td>0.6664253   </td><td> 6.66925115 </td><td>0.9682735   </td><td>5017        </td><td>75          </td></tr>\n",
       "\t<tr><th scope=row>251080</th><td>356896      </td><td>1.024       </td><td>0           </td><td>0           </td><td>0           </td><td>0           </td><td>0           </td><td>1           </td><td>Sun         </td><td>-0.001      </td><td>0.001       </td><td>1.069       </td><td>0.0009240508</td><td>0.6486755   </td><td>10.32601353 </td><td>0.9479142   </td><td>5017        </td><td>76          </td></tr>\n",
       "\t<tr><th scope=row>251081</th><td>356897      </td><td>1.025       </td><td>0           </td><td>0           </td><td>0           </td><td>0           </td><td>0           </td><td>1           </td><td>Sun         </td><td> 0.001      </td><td>0.001       </td><td>1.069       </td><td>0.0007582541</td><td>0.6621786   </td><td> 0.44665490 </td><td>0.9871122   </td><td>5017        </td><td>77          </td></tr>\n",
       "\t<tr><th scope=row>251082</th><td>356898      </td><td>1.024       </td><td>0           </td><td>0           </td><td>0           </td><td>0           </td><td>0           </td><td>1           </td><td>Sun         </td><td>-0.001      </td><td>0.001       </td><td>1.069       </td><td>0.0007677426</td><td>0.6860888   </td><td> 0.16035330 </td><td>0.9876051   </td><td>5017        </td><td>78          </td></tr>\n",
       "\t<tr><th scope=row>...</th><td>...</td><td>...</td><td>...</td><td>...</td><td>...</td><td>...</td><td>...</td><td>...</td><td>...</td><td>...</td><td>...</td><td>...</td><td>...</td><td>...</td><td>...</td><td>...</td><td>...</td><td>...</td></tr>\n",
       "\t<tr><th scope=row>251095</th><td>356911     </td><td>1.015      </td><td>0          </td><td>0          </td><td>0          </td><td>0          </td><td>0          </td><td>1          </td><td>Sun        </td><td>-0.006     </td><td>0.006      </td><td>1.124      </td><td>0.001491084</td><td>0.8222937  </td><td>0.114115465</td><td>0.9810417  </td><td>5017       </td><td> 91        </td></tr>\n",
       "\t<tr><th scope=row>251096</th><td>356912     </td><td>1.008      </td><td>0          </td><td>0          </td><td>0          </td><td>0          </td><td>0          </td><td>1          </td><td>Sun        </td><td>-0.007     </td><td>0.007      </td><td>1.124      </td><td>0.001606170</td><td>0.8251944  </td><td>0.080480943</td><td>0.9832155  </td><td>5017       </td><td> 92        </td></tr>\n",
       "\t<tr><th scope=row>251097</th><td>356913     </td><td>1.010      </td><td>0          </td><td>0          </td><td>0          </td><td>0          </td><td>0          </td><td>1          </td><td>Sun        </td><td> 0.002     </td><td>0.002      </td><td>1.124      </td><td>0.001667711</td><td>0.8180277  </td><td>0.081255258</td><td>0.9838230  </td><td>5017       </td><td> 93        </td></tr>\n",
       "\t<tr><th scope=row>251098</th><td>356914     </td><td>1.021      </td><td>0          </td><td>0          </td><td>0          </td><td>0          </td><td>0          </td><td>1          </td><td>Sun        </td><td> 0.011     </td><td>0.011      </td><td>1.124      </td><td>0.001730063</td><td>0.8020266  </td><td>0.033982969</td><td>0.9846410  </td><td>5017       </td><td> 94        </td></tr>\n",
       "\t<tr><th scope=row>251099</th><td>356915     </td><td>0.966      </td><td>0          </td><td>0          </td><td>0          </td><td>0          </td><td>0          </td><td>1          </td><td>Sun        </td><td>-0.055     </td><td>0.055      </td><td>1.124      </td><td>0.001788596</td><td>0.7851224  </td><td>0.033035748</td><td>0.9848675  </td><td>5017       </td><td> 95        </td></tr>\n",
       "\t<tr><th scope=row>251100</th><td>356916     </td><td>0.957      </td><td>0          </td><td>0          </td><td>0          </td><td>0          </td><td>0          </td><td>1          </td><td>Sun        </td><td>-0.009     </td><td>0.009      </td><td>1.124      </td><td>0.001849323</td><td>0.7733451  </td><td>0.015541368</td><td>0.9852695  </td><td>5017       </td><td> 96        </td></tr>\n",
       "\t<tr><th scope=row>251101</th><td>356917     </td><td>0.957      </td><td>0          </td><td>0          </td><td>0          </td><td>0          </td><td>0          </td><td>1          </td><td>Sun        </td><td> 0.000     </td><td>0.000      </td><td>1.124      </td><td>0.001899195</td><td>0.7677973  </td><td>0.011502991</td><td>0.9854183  </td><td>5017       </td><td> 97        </td></tr>\n",
       "\t<tr><th scope=row>251102</th><td>356918     </td><td>0.957      </td><td>0          </td><td>0          </td><td>0          </td><td>0          </td><td>0          </td><td>1          </td><td>Sun        </td><td> 0.000     </td><td>0.000      </td><td>1.124      </td><td>0.001964578</td><td>0.7669521  </td><td>0.008189656</td><td>0.9857994  </td><td>5017       </td><td> 98        </td></tr>\n",
       "\t<tr><th scope=row>251103</th><td>356919     </td><td>0.955      </td><td>0          </td><td>0          </td><td>0          </td><td>0          </td><td>0          </td><td>1          </td><td>Sun        </td><td>-0.002     </td><td>0.002      </td><td>1.124      </td><td>0.002012701</td><td>0.7678811  </td><td>0.007983372</td><td>0.9859142  </td><td>5017       </td><td> 99        </td></tr>\n",
       "\t<tr><th scope=row>251104</th><td>356920     </td><td>0.959      </td><td>0          </td><td>0          </td><td>0          </td><td>0          </td><td>0          </td><td>1          </td><td>Sun        </td><td> 0.004     </td><td>0.004      </td><td>1.124      </td><td>0.002049449</td><td>0.7662992  </td><td>0.008733181</td><td>0.9859487  </td><td>5017       </td><td>100        </td></tr>\n",
       "\t<tr><th scope=row>251105</th><td>356921     </td><td>0.968      </td><td>0          </td><td>0          </td><td>0          </td><td>0          </td><td>0          </td><td>1          </td><td>Sun        </td><td> 0.009     </td><td>0.009      </td><td>1.124      </td><td>0.002089571</td><td>0.7608446  </td><td>0.009941337</td><td>0.9860810  </td><td>5017       </td><td>101        </td></tr>\n",
       "\t<tr><th scope=row>251106</th><td>356922     </td><td>0.971      </td><td>0          </td><td>0          </td><td>0          </td><td>0          </td><td>0          </td><td>1          </td><td>Sun        </td><td> 0.003     </td><td>0.003      </td><td>1.124      </td><td>0.002116748</td><td>0.7546128  </td><td>0.013148933</td><td>0.9860982  </td><td>5017       </td><td>102        </td></tr>\n",
       "\t<tr><th scope=row>251107</th><td>356923     </td><td>0.963      </td><td>0          </td><td>0          </td><td>0          </td><td>0          </td><td>0          </td><td>1          </td><td>Sun        </td><td>-0.008     </td><td>0.008      </td><td>1.124      </td><td>0.002148439</td><td>0.7503590  </td><td>0.016524772</td><td>0.9861850  </td><td>5017       </td><td>103        </td></tr>\n",
       "\t<tr><th scope=row>251108</th><td>356924     </td><td>0.957      </td><td>0          </td><td>0          </td><td>0          </td><td>0          </td><td>0          </td><td>1          </td><td>Sun        </td><td>-0.006     </td><td>0.006      </td><td>1.124      </td><td>0.002178472</td><td>0.7486268  </td><td>0.023677638</td><td>0.9862955  </td><td>5017       </td><td>104        </td></tr>\n",
       "\t<tr><th scope=row>251109</th><td>356925     </td><td>1.002      </td><td>0          </td><td>0          </td><td>0          </td><td>0          </td><td>0          </td><td>1          </td><td>Sun        </td><td> 0.045     </td><td>0.045      </td><td>1.124      </td><td>0.002195720</td><td>0.7487358  </td><td>0.021158075</td><td>0.9863000  </td><td>5017       </td><td>105        </td></tr>\n",
       "\t<tr><th scope=row>251110</th><td>356926     </td><td>1.006      </td><td>0          </td><td>0          </td><td>0          </td><td>0          </td><td>0          </td><td>1          </td><td>Sun        </td><td> 0.004     </td><td>0.004      </td><td>1.124      </td><td>0.002206199</td><td>0.7505589  </td><td>0.019157737</td><td>0.9862178  </td><td>5017       </td><td>106        </td></tr>\n",
       "\t<tr><th scope=row>251111</th><td>356927     </td><td>1.039      </td><td>0          </td><td>0          </td><td>0          </td><td>0          </td><td>0          </td><td>1          </td><td>Sun        </td><td> 0.033     </td><td>0.033      </td><td>1.124      </td><td>0.002204946</td><td>0.7519663  </td><td>0.009842989</td><td>0.9858574  </td><td>5017       </td><td>107        </td></tr>\n",
       "\t<tr><th scope=row>251112</th><td>356928     </td><td>1.067      </td><td>0          </td><td>0          </td><td>0          </td><td>0          </td><td>0          </td><td>1          </td><td>Sun        </td><td> 0.028     </td><td>0.028      </td><td>1.124      </td><td>0.002204015</td><td>0.7507712  </td><td>0.011399162</td><td>0.9858788  </td><td>5017       </td><td>108        </td></tr>\n",
       "\t<tr><th scope=row>251113</th><td>356929     </td><td>1.051      </td><td>0          </td><td>0          </td><td>0          </td><td>0          </td><td>0          </td><td>1          </td><td>Sun        </td><td>-0.016     </td><td>0.016      </td><td>1.124      </td><td>0.002203411</td><td>0.7489657  </td><td>0.014213713</td><td>0.9858902  </td><td>5017       </td><td>109        </td></tr>\n",
       "\t<tr><th scope=row>251114</th><td>356930     </td><td>1.035      </td><td>0          </td><td>0          </td><td>0          </td><td>0          </td><td>0          </td><td>1          </td><td>Sun        </td><td>-0.016     </td><td>0.016      </td><td>1.124      </td><td>0.002202900</td><td>0.7493984  </td><td>0.016518025</td><td>0.9858925  </td><td>5017       </td><td>110        </td></tr>\n",
       "\t<tr><th scope=row>251115</th><td>356931     </td><td>1.124      </td><td>0          </td><td>0          </td><td>0          </td><td>0          </td><td>0          </td><td>1          </td><td>Sun        </td><td> 0.089     </td><td>0.089      </td><td>1.124      </td><td>0.002229516</td><td>0.7515468  </td><td>0.034350744</td><td>0.9855746  </td><td>5017       </td><td>111        </td></tr>\n",
       "\t<tr><th scope=row>251116</th><td>356932     </td><td>1.106      </td><td>0          </td><td>0          </td><td>0          </td><td>0          </td><td>0          </td><td>1          </td><td>Sun        </td><td>-0.018     </td><td>0.018      </td><td>1.124      </td><td>0.002326784</td><td>0.7531625  </td><td>0.053204591</td><td>0.9856232  </td><td>5017       </td><td>112        </td></tr>\n",
       "\t<tr><th scope=row>251117</th><td>356933     </td><td>1.100      </td><td>0          </td><td>0          </td><td>0          </td><td>0          </td><td>0          </td><td>1          </td><td>Sun        </td><td>-0.006     </td><td>0.006      </td><td>1.124      </td><td>0.002380746</td><td>0.7542798  </td><td>0.078810708</td><td>0.9859827  </td><td>5017       </td><td>113        </td></tr>\n",
       "\t<tr><th scope=row>251118</th><td>356934     </td><td>1.054      </td><td>0          </td><td>0          </td><td>0          </td><td>0          </td><td>0          </td><td>1          </td><td>Sun        </td><td>-0.046     </td><td>0.046      </td><td>1.124      </td><td>0.002411583</td><td>0.7547008  </td><td>0.094122933</td><td>0.9861122  </td><td>5017       </td><td>114        </td></tr>\n",
       "\t<tr><th scope=row>251119</th><td>356935     </td><td>0.951      </td><td>0          </td><td>0          </td><td>0          </td><td>0          </td><td>0          </td><td>1          </td><td>Sun        </td><td>-0.103     </td><td>0.103      </td><td>1.124      </td><td>0.002444211</td><td>0.7515955  </td><td>0.101148292</td><td>0.9862652  </td><td>5017       </td><td>115        </td></tr>\n",
       "\t<tr><th scope=row>251120</th><td>356936     </td><td>0.984      </td><td>0          </td><td>0          </td><td>0          </td><td>0          </td><td>0          </td><td>1          </td><td>Sun        </td><td> 0.033     </td><td>0.033      </td><td>1.124      </td><td>0.002473282</td><td>0.7445675  </td><td>0.104502722</td><td>0.9864106  </td><td>5017       </td><td>116        </td></tr>\n",
       "\t<tr><th scope=row>251121</th><td>356937     </td><td>1.016      </td><td>0          </td><td>0          </td><td>0          </td><td>0          </td><td>0          </td><td>1          </td><td>Sun        </td><td> 0.032     </td><td>0.032      </td><td>1.124      </td><td>0.002504443</td><td>0.7373077  </td><td>0.111500792</td><td>0.9865746  </td><td>5017       </td><td>117        </td></tr>\n",
       "\t<tr><th scope=row>251122</th><td>356938     </td><td>1.022      </td><td>0          </td><td>0          </td><td>0          </td><td>0          </td><td>0          </td><td>1          </td><td>Sun        </td><td> 0.006     </td><td>0.006      </td><td>1.124      </td><td>0.002498334</td><td>0.7332963  </td><td>0.113309360</td><td>0.9861284  </td><td>5017       </td><td>118        </td></tr>\n",
       "\t<tr><th scope=row>251123</th><td>356939     </td><td>1.047      </td><td>0          </td><td>0          </td><td>0          </td><td>0          </td><td>0          </td><td>1          </td><td>Sun        </td><td> 0.025     </td><td>0.025      </td><td>1.124      </td><td>0.002492715</td><td>0.7328718  </td><td>0.096126531</td><td>0.9857848  </td><td>5017       </td><td>119        </td></tr>\n",
       "\t<tr><th scope=row>251124</th><td>356940     </td><td>1.090      </td><td>0          </td><td>0          </td><td>0          </td><td>0          </td><td>0          </td><td>1          </td><td>Sun        </td><td> 0.043     </td><td>0.043      </td><td>1.124      </td><td>0.002481828</td><td>0.7346180  </td><td>0.085234801</td><td>0.9858274  </td><td>5017       </td><td>120        </td></tr>\n",
       "</tbody>\n",
       "</table>\n"
      ],
      "text/latex": [
       "\\begin{tabular}{r|llllllllllllllllll}\n",
       "  & X & load & ac & ev & oven & wash & dryer & hourofday & dayofweek & dif & absdif & max & var & entropy & nonlinear & hurst & minuteofhr & minuteofhour\\\\\n",
       "\\hline\n",
       "\t27403 & 132949       & 4.891        & 1            & 0            & 0            & 0            & 1            & 0            & Fri          &  0.109       & 0.109        & 4.956        & 2.6361546721 & 0.6392512    &  0.03148504  & 0.9935212    &  471         & 61          \\\\\n",
       "\t27404 & 132950       & 4.779        & 1            & 0            & 0            & 0            & 1            & 0            & Fri          & -0.112       & 0.112        & 4.956        & 2.6471973235 & 0.6326943    &  0.02292327  & 0.9935300    &  471         & 62          \\\\\n",
       "\t27405 & 132951       & 4.777        & 1            & 0            & 0            & 0            & 1            & 0            & Fri          & -0.002       & 0.002        & 4.956        & 2.6557939115 & 0.6347873    &  0.02068625  & 0.9935320    &  471         & 63          \\\\\n",
       "\t27406 & 132952       & 3.071        & 1            & 0            & 0            & 0            & 1            & 0            & Fri          & -1.706       & 1.706        & 4.956        & 2.6645122721 & 0.6433018    &  0.01837958  & 0.9935329    &  471         & 64          \\\\\n",
       "\t27407 & 132953       & 1.602        & 0            & 0            & 0            & 0            & 0            & 0            & Fri          & -1.469       & 1.469        & 4.956        & 2.6729411792 & 0.6518286    &  0.01699347  & 0.9935326    &  471         & 65          \\\\\n",
       "\t27408 & 132954       & 0.993        & 0            & 0            & 0            & 0            & 0            & 0            & Fri          & -0.609       & 0.609        & 4.956        & 2.6812962885 & 0.6544906    &  0.02038191  & 0.9935344    &  471         & 66          \\\\\n",
       "\t27409 & 132955       & 0.618        & 0            & 0            & 0            & 0            & 0            & 0            & Fri          & -0.375       & 0.375        & 4.956        & 2.6923427727 & 0.6496374    &  0.01187911  & 0.9935394    &  471         & 67          \\\\\n",
       "\t27410 & 132956       & 0.635        & 0            & 0            & 0            & 0            & 0            & 0            & Fri          &  0.017       & 0.017        & 4.956        & 2.7009262825 & 0.6409704    &  0.01027663  & 0.9935360    &  471         & 68          \\\\\n",
       "\t27411 & 132957       & 0.679        & 0            & 0            & 0            & 0            & 0            & 0            & Fri          &  0.044       & 0.044        & 4.956        & 2.7674791858 & 0.6351432    &  0.09564141  & 0.9913762    &  471         & 69          \\\\\n",
       "\t27412 & 132958       & 0.697        & 0            & 0            & 0            & 0            & 0            & 0            & Fri          &  0.018       & 0.018        & 4.956        & 2.8898610874 & 0.6381889    &  0.21488418  & 0.9914636    &  471         & 70          \\\\\n",
       "\t27413 & 132959       & 0.704        & 0            & 0            & 0            & 0            & 0            & 0            & Fri          &  0.007       & 0.007        & 4.956        & 3.0035396765 & 0.6520006    &  0.21105383  & 0.9918545    &  471         & 71          \\\\\n",
       "\t27414 & 132960       & 0.715        & 0            & 0            & 0            & 0            & 0            & 0            & Fri          &  0.011       & 0.011        & 4.956        & 3.1063961847 & 0.6715857    &  0.21191231  & 0.9921434    &  471         & 72          \\\\\n",
       "\t251065 & 356881       & 1.045        & 0            & 0            & 0            & 0            & 0            & 1            & Sun          &  0.004       & 0.004        & 1.069        & 0.0014285279 & 0.7576937    & 11.37426203  & 0.9834435    & 5017         & 61          \\\\\n",
       "\t251066 & 356882       & 1.069        & 0            & 0            & 0            & 0            & 0            & 1            & Sun          &  0.024       & 0.024        & 1.069        & 0.0013737705 & 0.7868791    & 11.32508920  & 0.9829062    & 5017         & 62          \\\\\n",
       "\t251067 & 356883       & 1.061        & 0            & 0            & 0            & 0            & 0            & 1            & Sun          & -0.008       & 0.008        & 1.069        & 0.0013152131 & 0.7983761    & 11.14243021  & 0.9823243    & 5017         & 63          \\\\\n",
       "\t251068 & 356884       & 1.035        & 0            & 0            & 0            & 0            & 0            & 1            & Sun          & -0.026       & 0.026        & 1.069        & 0.0012563956 & 0.7940617    & 10.74353026  & 0.9815587    & 5017         & 64          \\\\\n",
       "\t251069 & 356885       & 1.022        & 0            & 0            & 0            & 0            & 0            & 1            & Sun          & -0.013       & 0.013        & 1.069        & 0.0012280940 & 0.7821717    &  8.73184283  & 0.9782847    & 5017         & 65          \\\\\n",
       "\t251070 & 356886       & 1.035        & 0            & 0            & 0            & 0            & 0            & 1            & Sun          &  0.013       & 0.013        & 1.069        & 0.0012146180 & 0.7827922    &  8.72748248  & 0.9791458    & 5017         & 66          \\\\\n",
       "\t251071 & 356887       & 1.038        & 0            & 0            & 0            & 0            & 0            & 1            & Sun          &  0.003       & 0.003        & 1.069        & 0.0012011153 & 0.8082793    &  8.62146773  & 0.9798602    & 5017         & 67          \\\\\n",
       "\t251072 & 356888       & 1.024        & 0            & 0            & 0            & 0            & 0            & 1            & Sun          & -0.014       & 0.014        & 1.069        & 0.0011875858 & 0.8454894    &  8.54079370  & 0.9802238    & 5017         & 68          \\\\\n",
       "\t251073 & 356889       & 1.027        & 0            & 0            & 0            & 0            & 0            & 1            & Sun          &  0.003       & 0.003        & 1.069        & 0.0011797760 & 0.8754010    &  8.47293638  & 0.9804876    & 5017         & 69          \\\\\n",
       "\t251074 & 356890       & 1.026        & 0            & 0            & 0            & 0            & 0            & 1            & Sun          & -0.001       & 0.001        & 1.069        & 0.0011562940 & 0.8895552    &  8.39131366  & 0.9799864    & 5017         & 70          \\\\\n",
       "\t251075 & 356891       & 1.029        & 0            & 0            & 0            & 0            & 0            & 1            & Sun          &  0.003       & 0.003        & 1.069        & 0.0011245235 & 0.8844381    &  8.12903125  & 0.9789065    & 5017         & 71          \\\\\n",
       "\t251076 & 356892       & 1.021        & 0            & 0            & 0            & 0            & 0            & 1            & Sun          & -0.008       & 0.008        & 1.069        & 0.0011020240 & 0.8547049    &  7.87562155  & 0.9779888    & 5017         & 72          \\\\\n",
       "\t251077 & 356893       & 1.026        & 0            & 0            & 0            & 0            & 0            & 1            & Sun          &  0.005       & 0.005        & 1.069        & 0.0010915486 & 0.7965450    &  7.97809946  & 0.9773380    & 5017         & 73          \\\\\n",
       "\t251078 & 356894       & 1.016        & 0            & 0            & 0            & 0            & 0            & 1            & Sun          & -0.010       & 0.010        & 1.069        & 0.0010969388 & 0.7225852    &  7.86319693  & 0.9772710    & 5017         & 74          \\\\\n",
       "\t251079 & 356895       & 1.025        & 0            & 0            & 0            & 0            & 0            & 1            & Sun          &  0.009       & 0.009        & 1.069        & 0.0010266710 & 0.6664253    &  6.66925115  & 0.9682735    & 5017         & 75          \\\\\n",
       "\t251080 & 356896       & 1.024        & 0            & 0            & 0            & 0            & 0            & 1            & Sun          & -0.001       & 0.001        & 1.069        & 0.0009240508 & 0.6486755    & 10.32601353  & 0.9479142    & 5017         & 76          \\\\\n",
       "\t251081 & 356897       & 1.025        & 0            & 0            & 0            & 0            & 0            & 1            & Sun          &  0.001       & 0.001        & 1.069        & 0.0007582541 & 0.6621786    &  0.44665490  & 0.9871122    & 5017         & 77          \\\\\n",
       "\t251082 & 356898       & 1.024        & 0            & 0            & 0            & 0            & 0            & 1            & Sun          & -0.001       & 0.001        & 1.069        & 0.0007677426 & 0.6860888    &  0.16035330  & 0.9876051    & 5017         & 78          \\\\\n",
       "\t... & ... & ... & ... & ... & ... & ... & ... & ... & ... & ... & ... & ... & ... & ... & ... & ... & ... & ...\\\\\n",
       "\t251095 & 356911      & 1.015       & 0           & 0           & 0           & 0           & 0           & 1           & Sun         & -0.006      & 0.006       & 1.124       & 0.001491084 & 0.8222937   & 0.114115465 & 0.9810417   & 5017        &  91        \\\\\n",
       "\t251096 & 356912      & 1.008       & 0           & 0           & 0           & 0           & 0           & 1           & Sun         & -0.007      & 0.007       & 1.124       & 0.001606170 & 0.8251944   & 0.080480943 & 0.9832155   & 5017        &  92        \\\\\n",
       "\t251097 & 356913      & 1.010       & 0           & 0           & 0           & 0           & 0           & 1           & Sun         &  0.002      & 0.002       & 1.124       & 0.001667711 & 0.8180277   & 0.081255258 & 0.9838230   & 5017        &  93        \\\\\n",
       "\t251098 & 356914      & 1.021       & 0           & 0           & 0           & 0           & 0           & 1           & Sun         &  0.011      & 0.011       & 1.124       & 0.001730063 & 0.8020266   & 0.033982969 & 0.9846410   & 5017        &  94        \\\\\n",
       "\t251099 & 356915      & 0.966       & 0           & 0           & 0           & 0           & 0           & 1           & Sun         & -0.055      & 0.055       & 1.124       & 0.001788596 & 0.7851224   & 0.033035748 & 0.9848675   & 5017        &  95        \\\\\n",
       "\t251100 & 356916      & 0.957       & 0           & 0           & 0           & 0           & 0           & 1           & Sun         & -0.009      & 0.009       & 1.124       & 0.001849323 & 0.7733451   & 0.015541368 & 0.9852695   & 5017        &  96        \\\\\n",
       "\t251101 & 356917      & 0.957       & 0           & 0           & 0           & 0           & 0           & 1           & Sun         &  0.000      & 0.000       & 1.124       & 0.001899195 & 0.7677973   & 0.011502991 & 0.9854183   & 5017        &  97        \\\\\n",
       "\t251102 & 356918      & 0.957       & 0           & 0           & 0           & 0           & 0           & 1           & Sun         &  0.000      & 0.000       & 1.124       & 0.001964578 & 0.7669521   & 0.008189656 & 0.9857994   & 5017        &  98        \\\\\n",
       "\t251103 & 356919      & 0.955       & 0           & 0           & 0           & 0           & 0           & 1           & Sun         & -0.002      & 0.002       & 1.124       & 0.002012701 & 0.7678811   & 0.007983372 & 0.9859142   & 5017        &  99        \\\\\n",
       "\t251104 & 356920      & 0.959       & 0           & 0           & 0           & 0           & 0           & 1           & Sun         &  0.004      & 0.004       & 1.124       & 0.002049449 & 0.7662992   & 0.008733181 & 0.9859487   & 5017        & 100        \\\\\n",
       "\t251105 & 356921      & 0.968       & 0           & 0           & 0           & 0           & 0           & 1           & Sun         &  0.009      & 0.009       & 1.124       & 0.002089571 & 0.7608446   & 0.009941337 & 0.9860810   & 5017        & 101        \\\\\n",
       "\t251106 & 356922      & 0.971       & 0           & 0           & 0           & 0           & 0           & 1           & Sun         &  0.003      & 0.003       & 1.124       & 0.002116748 & 0.7546128   & 0.013148933 & 0.9860982   & 5017        & 102        \\\\\n",
       "\t251107 & 356923      & 0.963       & 0           & 0           & 0           & 0           & 0           & 1           & Sun         & -0.008      & 0.008       & 1.124       & 0.002148439 & 0.7503590   & 0.016524772 & 0.9861850   & 5017        & 103        \\\\\n",
       "\t251108 & 356924      & 0.957       & 0           & 0           & 0           & 0           & 0           & 1           & Sun         & -0.006      & 0.006       & 1.124       & 0.002178472 & 0.7486268   & 0.023677638 & 0.9862955   & 5017        & 104        \\\\\n",
       "\t251109 & 356925      & 1.002       & 0           & 0           & 0           & 0           & 0           & 1           & Sun         &  0.045      & 0.045       & 1.124       & 0.002195720 & 0.7487358   & 0.021158075 & 0.9863000   & 5017        & 105        \\\\\n",
       "\t251110 & 356926      & 1.006       & 0           & 0           & 0           & 0           & 0           & 1           & Sun         &  0.004      & 0.004       & 1.124       & 0.002206199 & 0.7505589   & 0.019157737 & 0.9862178   & 5017        & 106        \\\\\n",
       "\t251111 & 356927      & 1.039       & 0           & 0           & 0           & 0           & 0           & 1           & Sun         &  0.033      & 0.033       & 1.124       & 0.002204946 & 0.7519663   & 0.009842989 & 0.9858574   & 5017        & 107        \\\\\n",
       "\t251112 & 356928      & 1.067       & 0           & 0           & 0           & 0           & 0           & 1           & Sun         &  0.028      & 0.028       & 1.124       & 0.002204015 & 0.7507712   & 0.011399162 & 0.9858788   & 5017        & 108        \\\\\n",
       "\t251113 & 356929      & 1.051       & 0           & 0           & 0           & 0           & 0           & 1           & Sun         & -0.016      & 0.016       & 1.124       & 0.002203411 & 0.7489657   & 0.014213713 & 0.9858902   & 5017        & 109        \\\\\n",
       "\t251114 & 356930      & 1.035       & 0           & 0           & 0           & 0           & 0           & 1           & Sun         & -0.016      & 0.016       & 1.124       & 0.002202900 & 0.7493984   & 0.016518025 & 0.9858925   & 5017        & 110        \\\\\n",
       "\t251115 & 356931      & 1.124       & 0           & 0           & 0           & 0           & 0           & 1           & Sun         &  0.089      & 0.089       & 1.124       & 0.002229516 & 0.7515468   & 0.034350744 & 0.9855746   & 5017        & 111        \\\\\n",
       "\t251116 & 356932      & 1.106       & 0           & 0           & 0           & 0           & 0           & 1           & Sun         & -0.018      & 0.018       & 1.124       & 0.002326784 & 0.7531625   & 0.053204591 & 0.9856232   & 5017        & 112        \\\\\n",
       "\t251117 & 356933      & 1.100       & 0           & 0           & 0           & 0           & 0           & 1           & Sun         & -0.006      & 0.006       & 1.124       & 0.002380746 & 0.7542798   & 0.078810708 & 0.9859827   & 5017        & 113        \\\\\n",
       "\t251118 & 356934      & 1.054       & 0           & 0           & 0           & 0           & 0           & 1           & Sun         & -0.046      & 0.046       & 1.124       & 0.002411583 & 0.7547008   & 0.094122933 & 0.9861122   & 5017        & 114        \\\\\n",
       "\t251119 & 356935      & 0.951       & 0           & 0           & 0           & 0           & 0           & 1           & Sun         & -0.103      & 0.103       & 1.124       & 0.002444211 & 0.7515955   & 0.101148292 & 0.9862652   & 5017        & 115        \\\\\n",
       "\t251120 & 356936      & 0.984       & 0           & 0           & 0           & 0           & 0           & 1           & Sun         &  0.033      & 0.033       & 1.124       & 0.002473282 & 0.7445675   & 0.104502722 & 0.9864106   & 5017        & 116        \\\\\n",
       "\t251121 & 356937      & 1.016       & 0           & 0           & 0           & 0           & 0           & 1           & Sun         &  0.032      & 0.032       & 1.124       & 0.002504443 & 0.7373077   & 0.111500792 & 0.9865746   & 5017        & 117        \\\\\n",
       "\t251122 & 356938      & 1.022       & 0           & 0           & 0           & 0           & 0           & 1           & Sun         &  0.006      & 0.006       & 1.124       & 0.002498334 & 0.7332963   & 0.113309360 & 0.9861284   & 5017        & 118        \\\\\n",
       "\t251123 & 356939      & 1.047       & 0           & 0           & 0           & 0           & 0           & 1           & Sun         &  0.025      & 0.025       & 1.124       & 0.002492715 & 0.7328718   & 0.096126531 & 0.9857848   & 5017        & 119        \\\\\n",
       "\t251124 & 356940      & 1.090       & 0           & 0           & 0           & 0           & 0           & 1           & Sun         &  0.043      & 0.043       & 1.124       & 0.002481828 & 0.7346180   & 0.085234801 & 0.9858274   & 5017        & 120        \\\\\n",
       "\\end{tabular}\n"
      ],
      "text/markdown": [
       "\n",
       "| <!--/--> | X | load | ac | ev | oven | wash | dryer | hourofday | dayofweek | dif | absdif | max | var | entropy | nonlinear | hurst | minuteofhr | minuteofhour |\n",
       "|---|---|---|---|---|---|---|---|---|---|---|---|---|---|---|---|---|---|---|\n",
       "| 27403 | 132949       | 4.891        | 1            | 0            | 0            | 0            | 1            | 0            | Fri          |  0.109       | 0.109        | 4.956        | 2.6361546721 | 0.6392512    |  0.03148504  | 0.9935212    |  471         | 61           |\n",
       "| 27404 | 132950       | 4.779        | 1            | 0            | 0            | 0            | 1            | 0            | Fri          | -0.112       | 0.112        | 4.956        | 2.6471973235 | 0.6326943    |  0.02292327  | 0.9935300    |  471         | 62           |\n",
       "| 27405 | 132951       | 4.777        | 1            | 0            | 0            | 0            | 1            | 0            | Fri          | -0.002       | 0.002        | 4.956        | 2.6557939115 | 0.6347873    |  0.02068625  | 0.9935320    |  471         | 63           |\n",
       "| 27406 | 132952       | 3.071        | 1            | 0            | 0            | 0            | 1            | 0            | Fri          | -1.706       | 1.706        | 4.956        | 2.6645122721 | 0.6433018    |  0.01837958  | 0.9935329    |  471         | 64           |\n",
       "| 27407 | 132953       | 1.602        | 0            | 0            | 0            | 0            | 0            | 0            | Fri          | -1.469       | 1.469        | 4.956        | 2.6729411792 | 0.6518286    |  0.01699347  | 0.9935326    |  471         | 65           |\n",
       "| 27408 | 132954       | 0.993        | 0            | 0            | 0            | 0            | 0            | 0            | Fri          | -0.609       | 0.609        | 4.956        | 2.6812962885 | 0.6544906    |  0.02038191  | 0.9935344    |  471         | 66           |\n",
       "| 27409 | 132955       | 0.618        | 0            | 0            | 0            | 0            | 0            | 0            | Fri          | -0.375       | 0.375        | 4.956        | 2.6923427727 | 0.6496374    |  0.01187911  | 0.9935394    |  471         | 67           |\n",
       "| 27410 | 132956       | 0.635        | 0            | 0            | 0            | 0            | 0            | 0            | Fri          |  0.017       | 0.017        | 4.956        | 2.7009262825 | 0.6409704    |  0.01027663  | 0.9935360    |  471         | 68           |\n",
       "| 27411 | 132957       | 0.679        | 0            | 0            | 0            | 0            | 0            | 0            | Fri          |  0.044       | 0.044        | 4.956        | 2.7674791858 | 0.6351432    |  0.09564141  | 0.9913762    |  471         | 69           |\n",
       "| 27412 | 132958       | 0.697        | 0            | 0            | 0            | 0            | 0            | 0            | Fri          |  0.018       | 0.018        | 4.956        | 2.8898610874 | 0.6381889    |  0.21488418  | 0.9914636    |  471         | 70           |\n",
       "| 27413 | 132959       | 0.704        | 0            | 0            | 0            | 0            | 0            | 0            | Fri          |  0.007       | 0.007        | 4.956        | 3.0035396765 | 0.6520006    |  0.21105383  | 0.9918545    |  471         | 71           |\n",
       "| 27414 | 132960       | 0.715        | 0            | 0            | 0            | 0            | 0            | 0            | Fri          |  0.011       | 0.011        | 4.956        | 3.1063961847 | 0.6715857    |  0.21191231  | 0.9921434    |  471         | 72           |\n",
       "| 251065 | 356881       | 1.045        | 0            | 0            | 0            | 0            | 0            | 1            | Sun          |  0.004       | 0.004        | 1.069        | 0.0014285279 | 0.7576937    | 11.37426203  | 0.9834435    | 5017         | 61           |\n",
       "| 251066 | 356882       | 1.069        | 0            | 0            | 0            | 0            | 0            | 1            | Sun          |  0.024       | 0.024        | 1.069        | 0.0013737705 | 0.7868791    | 11.32508920  | 0.9829062    | 5017         | 62           |\n",
       "| 251067 | 356883       | 1.061        | 0            | 0            | 0            | 0            | 0            | 1            | Sun          | -0.008       | 0.008        | 1.069        | 0.0013152131 | 0.7983761    | 11.14243021  | 0.9823243    | 5017         | 63           |\n",
       "| 251068 | 356884       | 1.035        | 0            | 0            | 0            | 0            | 0            | 1            | Sun          | -0.026       | 0.026        | 1.069        | 0.0012563956 | 0.7940617    | 10.74353026  | 0.9815587    | 5017         | 64           |\n",
       "| 251069 | 356885       | 1.022        | 0            | 0            | 0            | 0            | 0            | 1            | Sun          | -0.013       | 0.013        | 1.069        | 0.0012280940 | 0.7821717    |  8.73184283  | 0.9782847    | 5017         | 65           |\n",
       "| 251070 | 356886       | 1.035        | 0            | 0            | 0            | 0            | 0            | 1            | Sun          |  0.013       | 0.013        | 1.069        | 0.0012146180 | 0.7827922    |  8.72748248  | 0.9791458    | 5017         | 66           |\n",
       "| 251071 | 356887       | 1.038        | 0            | 0            | 0            | 0            | 0            | 1            | Sun          |  0.003       | 0.003        | 1.069        | 0.0012011153 | 0.8082793    |  8.62146773  | 0.9798602    | 5017         | 67           |\n",
       "| 251072 | 356888       | 1.024        | 0            | 0            | 0            | 0            | 0            | 1            | Sun          | -0.014       | 0.014        | 1.069        | 0.0011875858 | 0.8454894    |  8.54079370  | 0.9802238    | 5017         | 68           |\n",
       "| 251073 | 356889       | 1.027        | 0            | 0            | 0            | 0            | 0            | 1            | Sun          |  0.003       | 0.003        | 1.069        | 0.0011797760 | 0.8754010    |  8.47293638  | 0.9804876    | 5017         | 69           |\n",
       "| 251074 | 356890       | 1.026        | 0            | 0            | 0            | 0            | 0            | 1            | Sun          | -0.001       | 0.001        | 1.069        | 0.0011562940 | 0.8895552    |  8.39131366  | 0.9799864    | 5017         | 70           |\n",
       "| 251075 | 356891       | 1.029        | 0            | 0            | 0            | 0            | 0            | 1            | Sun          |  0.003       | 0.003        | 1.069        | 0.0011245235 | 0.8844381    |  8.12903125  | 0.9789065    | 5017         | 71           |\n",
       "| 251076 | 356892       | 1.021        | 0            | 0            | 0            | 0            | 0            | 1            | Sun          | -0.008       | 0.008        | 1.069        | 0.0011020240 | 0.8547049    |  7.87562155  | 0.9779888    | 5017         | 72           |\n",
       "| 251077 | 356893       | 1.026        | 0            | 0            | 0            | 0            | 0            | 1            | Sun          |  0.005       | 0.005        | 1.069        | 0.0010915486 | 0.7965450    |  7.97809946  | 0.9773380    | 5017         | 73           |\n",
       "| 251078 | 356894       | 1.016        | 0            | 0            | 0            | 0            | 0            | 1            | Sun          | -0.010       | 0.010        | 1.069        | 0.0010969388 | 0.7225852    |  7.86319693  | 0.9772710    | 5017         | 74           |\n",
       "| 251079 | 356895       | 1.025        | 0            | 0            | 0            | 0            | 0            | 1            | Sun          |  0.009       | 0.009        | 1.069        | 0.0010266710 | 0.6664253    |  6.66925115  | 0.9682735    | 5017         | 75           |\n",
       "| 251080 | 356896       | 1.024        | 0            | 0            | 0            | 0            | 0            | 1            | Sun          | -0.001       | 0.001        | 1.069        | 0.0009240508 | 0.6486755    | 10.32601353  | 0.9479142    | 5017         | 76           |\n",
       "| 251081 | 356897       | 1.025        | 0            | 0            | 0            | 0            | 0            | 1            | Sun          |  0.001       | 0.001        | 1.069        | 0.0007582541 | 0.6621786    |  0.44665490  | 0.9871122    | 5017         | 77           |\n",
       "| 251082 | 356898       | 1.024        | 0            | 0            | 0            | 0            | 0            | 1            | Sun          | -0.001       | 0.001        | 1.069        | 0.0007677426 | 0.6860888    |  0.16035330  | 0.9876051    | 5017         | 78           |\n",
       "| ... | ... | ... | ... | ... | ... | ... | ... | ... | ... | ... | ... | ... | ... | ... | ... | ... | ... | ... |\n",
       "| 251095 | 356911      | 1.015       | 0           | 0           | 0           | 0           | 0           | 1           | Sun         | -0.006      | 0.006       | 1.124       | 0.001491084 | 0.8222937   | 0.114115465 | 0.9810417   | 5017        |  91         |\n",
       "| 251096 | 356912      | 1.008       | 0           | 0           | 0           | 0           | 0           | 1           | Sun         | -0.007      | 0.007       | 1.124       | 0.001606170 | 0.8251944   | 0.080480943 | 0.9832155   | 5017        |  92         |\n",
       "| 251097 | 356913      | 1.010       | 0           | 0           | 0           | 0           | 0           | 1           | Sun         |  0.002      | 0.002       | 1.124       | 0.001667711 | 0.8180277   | 0.081255258 | 0.9838230   | 5017        |  93         |\n",
       "| 251098 | 356914      | 1.021       | 0           | 0           | 0           | 0           | 0           | 1           | Sun         |  0.011      | 0.011       | 1.124       | 0.001730063 | 0.8020266   | 0.033982969 | 0.9846410   | 5017        |  94         |\n",
       "| 251099 | 356915      | 0.966       | 0           | 0           | 0           | 0           | 0           | 1           | Sun         | -0.055      | 0.055       | 1.124       | 0.001788596 | 0.7851224   | 0.033035748 | 0.9848675   | 5017        |  95         |\n",
       "| 251100 | 356916      | 0.957       | 0           | 0           | 0           | 0           | 0           | 1           | Sun         | -0.009      | 0.009       | 1.124       | 0.001849323 | 0.7733451   | 0.015541368 | 0.9852695   | 5017        |  96         |\n",
       "| 251101 | 356917      | 0.957       | 0           | 0           | 0           | 0           | 0           | 1           | Sun         |  0.000      | 0.000       | 1.124       | 0.001899195 | 0.7677973   | 0.011502991 | 0.9854183   | 5017        |  97         |\n",
       "| 251102 | 356918      | 0.957       | 0           | 0           | 0           | 0           | 0           | 1           | Sun         |  0.000      | 0.000       | 1.124       | 0.001964578 | 0.7669521   | 0.008189656 | 0.9857994   | 5017        |  98         |\n",
       "| 251103 | 356919      | 0.955       | 0           | 0           | 0           | 0           | 0           | 1           | Sun         | -0.002      | 0.002       | 1.124       | 0.002012701 | 0.7678811   | 0.007983372 | 0.9859142   | 5017        |  99         |\n",
       "| 251104 | 356920      | 0.959       | 0           | 0           | 0           | 0           | 0           | 1           | Sun         |  0.004      | 0.004       | 1.124       | 0.002049449 | 0.7662992   | 0.008733181 | 0.9859487   | 5017        | 100         |\n",
       "| 251105 | 356921      | 0.968       | 0           | 0           | 0           | 0           | 0           | 1           | Sun         |  0.009      | 0.009       | 1.124       | 0.002089571 | 0.7608446   | 0.009941337 | 0.9860810   | 5017        | 101         |\n",
       "| 251106 | 356922      | 0.971       | 0           | 0           | 0           | 0           | 0           | 1           | Sun         |  0.003      | 0.003       | 1.124       | 0.002116748 | 0.7546128   | 0.013148933 | 0.9860982   | 5017        | 102         |\n",
       "| 251107 | 356923      | 0.963       | 0           | 0           | 0           | 0           | 0           | 1           | Sun         | -0.008      | 0.008       | 1.124       | 0.002148439 | 0.7503590   | 0.016524772 | 0.9861850   | 5017        | 103         |\n",
       "| 251108 | 356924      | 0.957       | 0           | 0           | 0           | 0           | 0           | 1           | Sun         | -0.006      | 0.006       | 1.124       | 0.002178472 | 0.7486268   | 0.023677638 | 0.9862955   | 5017        | 104         |\n",
       "| 251109 | 356925      | 1.002       | 0           | 0           | 0           | 0           | 0           | 1           | Sun         |  0.045      | 0.045       | 1.124       | 0.002195720 | 0.7487358   | 0.021158075 | 0.9863000   | 5017        | 105         |\n",
       "| 251110 | 356926      | 1.006       | 0           | 0           | 0           | 0           | 0           | 1           | Sun         |  0.004      | 0.004       | 1.124       | 0.002206199 | 0.7505589   | 0.019157737 | 0.9862178   | 5017        | 106         |\n",
       "| 251111 | 356927      | 1.039       | 0           | 0           | 0           | 0           | 0           | 1           | Sun         |  0.033      | 0.033       | 1.124       | 0.002204946 | 0.7519663   | 0.009842989 | 0.9858574   | 5017        | 107         |\n",
       "| 251112 | 356928      | 1.067       | 0           | 0           | 0           | 0           | 0           | 1           | Sun         |  0.028      | 0.028       | 1.124       | 0.002204015 | 0.7507712   | 0.011399162 | 0.9858788   | 5017        | 108         |\n",
       "| 251113 | 356929      | 1.051       | 0           | 0           | 0           | 0           | 0           | 1           | Sun         | -0.016      | 0.016       | 1.124       | 0.002203411 | 0.7489657   | 0.014213713 | 0.9858902   | 5017        | 109         |\n",
       "| 251114 | 356930      | 1.035       | 0           | 0           | 0           | 0           | 0           | 1           | Sun         | -0.016      | 0.016       | 1.124       | 0.002202900 | 0.7493984   | 0.016518025 | 0.9858925   | 5017        | 110         |\n",
       "| 251115 | 356931      | 1.124       | 0           | 0           | 0           | 0           | 0           | 1           | Sun         |  0.089      | 0.089       | 1.124       | 0.002229516 | 0.7515468   | 0.034350744 | 0.9855746   | 5017        | 111         |\n",
       "| 251116 | 356932      | 1.106       | 0           | 0           | 0           | 0           | 0           | 1           | Sun         | -0.018      | 0.018       | 1.124       | 0.002326784 | 0.7531625   | 0.053204591 | 0.9856232   | 5017        | 112         |\n",
       "| 251117 | 356933      | 1.100       | 0           | 0           | 0           | 0           | 0           | 1           | Sun         | -0.006      | 0.006       | 1.124       | 0.002380746 | 0.7542798   | 0.078810708 | 0.9859827   | 5017        | 113         |\n",
       "| 251118 | 356934      | 1.054       | 0           | 0           | 0           | 0           | 0           | 1           | Sun         | -0.046      | 0.046       | 1.124       | 0.002411583 | 0.7547008   | 0.094122933 | 0.9861122   | 5017        | 114         |\n",
       "| 251119 | 356935      | 0.951       | 0           | 0           | 0           | 0           | 0           | 1           | Sun         | -0.103      | 0.103       | 1.124       | 0.002444211 | 0.7515955   | 0.101148292 | 0.9862652   | 5017        | 115         |\n",
       "| 251120 | 356936      | 0.984       | 0           | 0           | 0           | 0           | 0           | 1           | Sun         |  0.033      | 0.033       | 1.124       | 0.002473282 | 0.7445675   | 0.104502722 | 0.9864106   | 5017        | 116         |\n",
       "| 251121 | 356937      | 1.016       | 0           | 0           | 0           | 0           | 0           | 1           | Sun         |  0.032      | 0.032       | 1.124       | 0.002504443 | 0.7373077   | 0.111500792 | 0.9865746   | 5017        | 117         |\n",
       "| 251122 | 356938      | 1.022       | 0           | 0           | 0           | 0           | 0           | 1           | Sun         |  0.006      | 0.006       | 1.124       | 0.002498334 | 0.7332963   | 0.113309360 | 0.9861284   | 5017        | 118         |\n",
       "| 251123 | 356939      | 1.047       | 0           | 0           | 0           | 0           | 0           | 1           | Sun         |  0.025      | 0.025       | 1.124       | 0.002492715 | 0.7328718   | 0.096126531 | 0.9857848   | 5017        | 119         |\n",
       "| 251124 | 356940      | 1.090       | 0           | 0           | 0           | 0           | 0           | 1           | Sun         |  0.043      | 0.043       | 1.124       | 0.002481828 | 0.7346180   | 0.085234801 | 0.9858274   | 5017        | 120         |\n",
       "\n"
      ],
      "text/plain": [
       "       X      load  ac  ev  oven wash dryer hourofday dayofweek dif    absdif\n",
       "27403  132949 4.891 1   0   0    0    1     0         Fri        0.109 0.109 \n",
       "27404  132950 4.779 1   0   0    0    1     0         Fri       -0.112 0.112 \n",
       "27405  132951 4.777 1   0   0    0    1     0         Fri       -0.002 0.002 \n",
       "27406  132952 3.071 1   0   0    0    1     0         Fri       -1.706 1.706 \n",
       "27407  132953 1.602 0   0   0    0    0     0         Fri       -1.469 1.469 \n",
       "27408  132954 0.993 0   0   0    0    0     0         Fri       -0.609 0.609 \n",
       "27409  132955 0.618 0   0   0    0    0     0         Fri       -0.375 0.375 \n",
       "27410  132956 0.635 0   0   0    0    0     0         Fri        0.017 0.017 \n",
       "27411  132957 0.679 0   0   0    0    0     0         Fri        0.044 0.044 \n",
       "27412  132958 0.697 0   0   0    0    0     0         Fri        0.018 0.018 \n",
       "27413  132959 0.704 0   0   0    0    0     0         Fri        0.007 0.007 \n",
       "27414  132960 0.715 0   0   0    0    0     0         Fri        0.011 0.011 \n",
       "251065 356881 1.045 0   0   0    0    0     1         Sun        0.004 0.004 \n",
       "251066 356882 1.069 0   0   0    0    0     1         Sun        0.024 0.024 \n",
       "251067 356883 1.061 0   0   0    0    0     1         Sun       -0.008 0.008 \n",
       "251068 356884 1.035 0   0   0    0    0     1         Sun       -0.026 0.026 \n",
       "251069 356885 1.022 0   0   0    0    0     1         Sun       -0.013 0.013 \n",
       "251070 356886 1.035 0   0   0    0    0     1         Sun        0.013 0.013 \n",
       "251071 356887 1.038 0   0   0    0    0     1         Sun        0.003 0.003 \n",
       "251072 356888 1.024 0   0   0    0    0     1         Sun       -0.014 0.014 \n",
       "251073 356889 1.027 0   0   0    0    0     1         Sun        0.003 0.003 \n",
       "251074 356890 1.026 0   0   0    0    0     1         Sun       -0.001 0.001 \n",
       "251075 356891 1.029 0   0   0    0    0     1         Sun        0.003 0.003 \n",
       "251076 356892 1.021 0   0   0    0    0     1         Sun       -0.008 0.008 \n",
       "251077 356893 1.026 0   0   0    0    0     1         Sun        0.005 0.005 \n",
       "251078 356894 1.016 0   0   0    0    0     1         Sun       -0.010 0.010 \n",
       "251079 356895 1.025 0   0   0    0    0     1         Sun        0.009 0.009 \n",
       "251080 356896 1.024 0   0   0    0    0     1         Sun       -0.001 0.001 \n",
       "251081 356897 1.025 0   0   0    0    0     1         Sun        0.001 0.001 \n",
       "251082 356898 1.024 0   0   0    0    0     1         Sun       -0.001 0.001 \n",
       "...    ...    ...   ... ... ...  ...  ...   ...       ...       ...    ...   \n",
       "251095 356911 1.015 0   0   0    0    0     1         Sun       -0.006 0.006 \n",
       "251096 356912 1.008 0   0   0    0    0     1         Sun       -0.007 0.007 \n",
       "251097 356913 1.010 0   0   0    0    0     1         Sun        0.002 0.002 \n",
       "251098 356914 1.021 0   0   0    0    0     1         Sun        0.011 0.011 \n",
       "251099 356915 0.966 0   0   0    0    0     1         Sun       -0.055 0.055 \n",
       "251100 356916 0.957 0   0   0    0    0     1         Sun       -0.009 0.009 \n",
       "251101 356917 0.957 0   0   0    0    0     1         Sun        0.000 0.000 \n",
       "251102 356918 0.957 0   0   0    0    0     1         Sun        0.000 0.000 \n",
       "251103 356919 0.955 0   0   0    0    0     1         Sun       -0.002 0.002 \n",
       "251104 356920 0.959 0   0   0    0    0     1         Sun        0.004 0.004 \n",
       "251105 356921 0.968 0   0   0    0    0     1         Sun        0.009 0.009 \n",
       "251106 356922 0.971 0   0   0    0    0     1         Sun        0.003 0.003 \n",
       "251107 356923 0.963 0   0   0    0    0     1         Sun       -0.008 0.008 \n",
       "251108 356924 0.957 0   0   0    0    0     1         Sun       -0.006 0.006 \n",
       "251109 356925 1.002 0   0   0    0    0     1         Sun        0.045 0.045 \n",
       "251110 356926 1.006 0   0   0    0    0     1         Sun        0.004 0.004 \n",
       "251111 356927 1.039 0   0   0    0    0     1         Sun        0.033 0.033 \n",
       "251112 356928 1.067 0   0   0    0    0     1         Sun        0.028 0.028 \n",
       "251113 356929 1.051 0   0   0    0    0     1         Sun       -0.016 0.016 \n",
       "251114 356930 1.035 0   0   0    0    0     1         Sun       -0.016 0.016 \n",
       "251115 356931 1.124 0   0   0    0    0     1         Sun        0.089 0.089 \n",
       "251116 356932 1.106 0   0   0    0    0     1         Sun       -0.018 0.018 \n",
       "251117 356933 1.100 0   0   0    0    0     1         Sun       -0.006 0.006 \n",
       "251118 356934 1.054 0   0   0    0    0     1         Sun       -0.046 0.046 \n",
       "251119 356935 0.951 0   0   0    0    0     1         Sun       -0.103 0.103 \n",
       "251120 356936 0.984 0   0   0    0    0     1         Sun        0.033 0.033 \n",
       "251121 356937 1.016 0   0   0    0    0     1         Sun        0.032 0.032 \n",
       "251122 356938 1.022 0   0   0    0    0     1         Sun        0.006 0.006 \n",
       "251123 356939 1.047 0   0   0    0    0     1         Sun        0.025 0.025 \n",
       "251124 356940 1.090 0   0   0    0    0     1         Sun        0.043 0.043 \n",
       "       max   var          entropy   nonlinear   hurst     minuteofhr\n",
       "27403  4.956 2.6361546721 0.6392512  0.03148504 0.9935212  471      \n",
       "27404  4.956 2.6471973235 0.6326943  0.02292327 0.9935300  471      \n",
       "27405  4.956 2.6557939115 0.6347873  0.02068625 0.9935320  471      \n",
       "27406  4.956 2.6645122721 0.6433018  0.01837958 0.9935329  471      \n",
       "27407  4.956 2.6729411792 0.6518286  0.01699347 0.9935326  471      \n",
       "27408  4.956 2.6812962885 0.6544906  0.02038191 0.9935344  471      \n",
       "27409  4.956 2.6923427727 0.6496374  0.01187911 0.9935394  471      \n",
       "27410  4.956 2.7009262825 0.6409704  0.01027663 0.9935360  471      \n",
       "27411  4.956 2.7674791858 0.6351432  0.09564141 0.9913762  471      \n",
       "27412  4.956 2.8898610874 0.6381889  0.21488418 0.9914636  471      \n",
       "27413  4.956 3.0035396765 0.6520006  0.21105383 0.9918545  471      \n",
       "27414  4.956 3.1063961847 0.6715857  0.21191231 0.9921434  471      \n",
       "251065 1.069 0.0014285279 0.7576937 11.37426203 0.9834435 5017      \n",
       "251066 1.069 0.0013737705 0.7868791 11.32508920 0.9829062 5017      \n",
       "251067 1.069 0.0013152131 0.7983761 11.14243021 0.9823243 5017      \n",
       "251068 1.069 0.0012563956 0.7940617 10.74353026 0.9815587 5017      \n",
       "251069 1.069 0.0012280940 0.7821717  8.73184283 0.9782847 5017      \n",
       "251070 1.069 0.0012146180 0.7827922  8.72748248 0.9791458 5017      \n",
       "251071 1.069 0.0012011153 0.8082793  8.62146773 0.9798602 5017      \n",
       "251072 1.069 0.0011875858 0.8454894  8.54079370 0.9802238 5017      \n",
       "251073 1.069 0.0011797760 0.8754010  8.47293638 0.9804876 5017      \n",
       "251074 1.069 0.0011562940 0.8895552  8.39131366 0.9799864 5017      \n",
       "251075 1.069 0.0011245235 0.8844381  8.12903125 0.9789065 5017      \n",
       "251076 1.069 0.0011020240 0.8547049  7.87562155 0.9779888 5017      \n",
       "251077 1.069 0.0010915486 0.7965450  7.97809946 0.9773380 5017      \n",
       "251078 1.069 0.0010969388 0.7225852  7.86319693 0.9772710 5017      \n",
       "251079 1.069 0.0010266710 0.6664253  6.66925115 0.9682735 5017      \n",
       "251080 1.069 0.0009240508 0.6486755 10.32601353 0.9479142 5017      \n",
       "251081 1.069 0.0007582541 0.6621786  0.44665490 0.9871122 5017      \n",
       "251082 1.069 0.0007677426 0.6860888  0.16035330 0.9876051 5017      \n",
       "...    ...   ...          ...       ...         ...       ...       \n",
       "251095 1.124 0.001491084  0.8222937 0.114115465 0.9810417 5017      \n",
       "251096 1.124 0.001606170  0.8251944 0.080480943 0.9832155 5017      \n",
       "251097 1.124 0.001667711  0.8180277 0.081255258 0.9838230 5017      \n",
       "251098 1.124 0.001730063  0.8020266 0.033982969 0.9846410 5017      \n",
       "251099 1.124 0.001788596  0.7851224 0.033035748 0.9848675 5017      \n",
       "251100 1.124 0.001849323  0.7733451 0.015541368 0.9852695 5017      \n",
       "251101 1.124 0.001899195  0.7677973 0.011502991 0.9854183 5017      \n",
       "251102 1.124 0.001964578  0.7669521 0.008189656 0.9857994 5017      \n",
       "251103 1.124 0.002012701  0.7678811 0.007983372 0.9859142 5017      \n",
       "251104 1.124 0.002049449  0.7662992 0.008733181 0.9859487 5017      \n",
       "251105 1.124 0.002089571  0.7608446 0.009941337 0.9860810 5017      \n",
       "251106 1.124 0.002116748  0.7546128 0.013148933 0.9860982 5017      \n",
       "251107 1.124 0.002148439  0.7503590 0.016524772 0.9861850 5017      \n",
       "251108 1.124 0.002178472  0.7486268 0.023677638 0.9862955 5017      \n",
       "251109 1.124 0.002195720  0.7487358 0.021158075 0.9863000 5017      \n",
       "251110 1.124 0.002206199  0.7505589 0.019157737 0.9862178 5017      \n",
       "251111 1.124 0.002204946  0.7519663 0.009842989 0.9858574 5017      \n",
       "251112 1.124 0.002204015  0.7507712 0.011399162 0.9858788 5017      \n",
       "251113 1.124 0.002203411  0.7489657 0.014213713 0.9858902 5017      \n",
       "251114 1.124 0.002202900  0.7493984 0.016518025 0.9858925 5017      \n",
       "251115 1.124 0.002229516  0.7515468 0.034350744 0.9855746 5017      \n",
       "251116 1.124 0.002326784  0.7531625 0.053204591 0.9856232 5017      \n",
       "251117 1.124 0.002380746  0.7542798 0.078810708 0.9859827 5017      \n",
       "251118 1.124 0.002411583  0.7547008 0.094122933 0.9861122 5017      \n",
       "251119 1.124 0.002444211  0.7515955 0.101148292 0.9862652 5017      \n",
       "251120 1.124 0.002473282  0.7445675 0.104502722 0.9864106 5017      \n",
       "251121 1.124 0.002504443  0.7373077 0.111500792 0.9865746 5017      \n",
       "251122 1.124 0.002498334  0.7332963 0.113309360 0.9861284 5017      \n",
       "251123 1.124 0.002492715  0.7328718 0.096126531 0.9857848 5017      \n",
       "251124 1.124 0.002481828  0.7346180 0.085234801 0.9858274 5017      \n",
       "       minuteofhour\n",
       "27403  61          \n",
       "27404  62          \n",
       "27405  63          \n",
       "27406  64          \n",
       "27407  65          \n",
       "27408  66          \n",
       "27409  67          \n",
       "27410  68          \n",
       "27411  69          \n",
       "27412  70          \n",
       "27413  71          \n",
       "27414  72          \n",
       "251065 61          \n",
       "251066 62          \n",
       "251067 63          \n",
       "251068 64          \n",
       "251069 65          \n",
       "251070 66          \n",
       "251071 67          \n",
       "251072 68          \n",
       "251073 69          \n",
       "251074 70          \n",
       "251075 71          \n",
       "251076 72          \n",
       "251077 73          \n",
       "251078 74          \n",
       "251079 75          \n",
       "251080 76          \n",
       "251081 77          \n",
       "251082 78          \n",
       "...    ...         \n",
       "251095  91         \n",
       "251096  92         \n",
       "251097  93         \n",
       "251098  94         \n",
       "251099  95         \n",
       "251100  96         \n",
       "251101  97         \n",
       "251102  98         \n",
       "251103  99         \n",
       "251104 100         \n",
       "251105 101         \n",
       "251106 102         \n",
       "251107 103         \n",
       "251108 104         \n",
       "251109 105         \n",
       "251110 106         \n",
       "251111 107         \n",
       "251112 108         \n",
       "251113 109         \n",
       "251114 110         \n",
       "251115 111         \n",
       "251116 112         \n",
       "251117 113         \n",
       "251118 114         \n",
       "251119 115         \n",
       "251120 116         \n",
       "251121 117         \n",
       "251122 118         \n",
       "251123 119         \n",
       "251124 120         "
      ]
     },
     "metadata": {},
     "output_type": "display_data"
    }
   ],
   "source": [
    "#Create minuteofhr that increments on the difference of hourofday\n",
    "train.data$minuteofhr <- cumsum(c(0,as.numeric(diff(train.data$hourofday))!=0))\n",
    "\n",
    "#Convert to data table form \n",
    "train.data=data.table(train.data)\n",
    "N<-nrow(train.data)\n",
    "\n",
    "#Create minuteofhour that increments by the same value of minuteofhr, reset for new value of minuteofhr\n",
    "train.data[,minuteofhour:=1:.N,by=minuteofhr]\n",
    "\n",
    "#convert back to data frame\n",
    "train.data=data.frame(train.data)\n",
    "\n",
    "#There are some strange values of minuteofhour (>60)\n",
    "train.data[train.data$minuteofhour>60,]"
   ]
  },
  {
   "cell_type": "code",
   "execution_count": 16,
   "metadata": {},
   "outputs": [],
   "source": [
    "#Subtract these values of minuteofhour by 60, to get a valid value of minuteofhour\n",
    "train.data$minuteofhour<-ifelse(train.data$minuteofhour>60,train.data$minuteofhour-60,train.data$minuteofhour)\n",
    "train.data<-train.data[,-17]"
   ]
  },
  {
   "cell_type": "code",
   "execution_count": 17,
   "metadata": {
    "scrolled": true
   },
   "outputs": [
    {
     "data": {
      "text/html": [
       "<table>\n",
       "<thead><tr><th></th><th scope=col>X</th><th scope=col>load</th><th scope=col>ac</th><th scope=col>ev</th><th scope=col>oven</th><th scope=col>wash</th><th scope=col>dryer</th><th scope=col>hourofday</th><th scope=col>dayofweek</th><th scope=col>dif</th><th scope=col>absdif</th><th scope=col>max</th><th scope=col>var</th><th scope=col>entropy</th><th scope=col>nonlinear</th><th scope=col>hurst</th><th scope=col>minuteofhour</th><th scope=col>minofday</th><th scope=col>minuteofday</th></tr></thead>\n",
       "<tbody>\n",
       "\t<tr><th scope=row>248020</th><td>353835     </td><td>0.751      </td><td>0          </td><td>0          </td><td>0          </td><td>0          </td><td>0          </td><td>23         </td><td>Thu        </td><td>-0.092     </td><td>0.092      </td><td>1.076      </td><td>0.034173646</td><td>0.5591225  </td><td>0.73548259 </td><td>0.9960161  </td><td>15         </td><td>258        </td><td>1441       </td></tr>\n",
       "\t<tr><th scope=row>248021</th><td>353836     </td><td>0.757      </td><td>0          </td><td>0          </td><td>0          </td><td>0          </td><td>0          </td><td>23         </td><td>Thu        </td><td> 0.006     </td><td>0.006      </td><td>1.076      </td><td>0.034843090</td><td>0.5531365  </td><td>0.77056438 </td><td>0.9963005  </td><td>16         </td><td>258        </td><td>1442       </td></tr>\n",
       "\t<tr><th scope=row>248022</th><td>353837     </td><td>0.740      </td><td>0          </td><td>0          </td><td>0          </td><td>0          </td><td>0          </td><td>23         </td><td>Thu        </td><td>-0.017     </td><td>0.017      </td><td>1.076      </td><td>0.034956478</td><td>0.5480139  </td><td>0.75319765 </td><td>0.9963821  </td><td>17         </td><td>258        </td><td>1443       </td></tr>\n",
       "\t<tr><th scope=row>248023</th><td>353838     </td><td>0.744      </td><td>0          </td><td>0          </td><td>0          </td><td>0          </td><td>0          </td><td>23         </td><td>Thu        </td><td> 0.004     </td><td>0.004      </td><td>1.049      </td><td>0.034220032</td><td>0.5466768  </td><td>0.70911576 </td><td>0.9963915  </td><td>18         </td><td>258        </td><td>1444       </td></tr>\n",
       "\t<tr><th scope=row>248024</th><td>353839     </td><td>0.690      </td><td>0          </td><td>0          </td><td>0          </td><td>0          </td><td>0          </td><td>23         </td><td>Thu        </td><td>-0.054     </td><td>0.054      </td><td>1.041      </td><td>0.033616394</td><td>0.5500914  </td><td>0.69805031 </td><td>0.9963955  </td><td>19         </td><td>258        </td><td>1445       </td></tr>\n",
       "\t<tr><th scope=row>248025</th><td>353840     </td><td>0.633      </td><td>0          </td><td>0          </td><td>0          </td><td>0          </td><td>0          </td><td>23         </td><td>Thu        </td><td>-0.057     </td><td>0.057      </td><td>1.041      </td><td>0.033212486</td><td>0.5555042  </td><td>0.62188972 </td><td>0.9963877  </td><td>20         </td><td>258        </td><td>1446       </td></tr>\n",
       "\t<tr><th scope=row>248026</th><td>353841     </td><td>0.612      </td><td>0          </td><td>0          </td><td>0          </td><td>0          </td><td>0          </td><td>23         </td><td>Thu        </td><td>-0.021     </td><td>0.021      </td><td>1.041      </td><td>0.032984551</td><td>0.5595246  </td><td>0.47526666 </td><td>0.9963723  </td><td>21         </td><td>258        </td><td>1447       </td></tr>\n",
       "\t<tr><th scope=row>248027</th><td>353842     </td><td>0.589      </td><td>0          </td><td>0          </td><td>0          </td><td>0          </td><td>0          </td><td>23         </td><td>Thu        </td><td>-0.023     </td><td>0.023      </td><td>1.041      </td><td>0.032759123</td><td>0.5605104  </td><td>0.41066859 </td><td>0.9963636  </td><td>22         </td><td>258        </td><td>1448       </td></tr>\n",
       "\t<tr><th scope=row>248028</th><td>353843     </td><td>0.616      </td><td>0          </td><td>0          </td><td>0          </td><td>0          </td><td>0          </td><td>23         </td><td>Thu        </td><td> 0.027     </td><td>0.027      </td><td>1.041      </td><td>0.032369401</td><td>0.5579804  </td><td>0.38324600 </td><td>0.9963589  </td><td>23         </td><td>258        </td><td>1449       </td></tr>\n",
       "\t<tr><th scope=row>248029</th><td>353844     </td><td>0.631      </td><td>0          </td><td>0          </td><td>0          </td><td>0          </td><td>0          </td><td>23         </td><td>Thu        </td><td> 0.015     </td><td>0.015      </td><td>1.041      </td><td>0.032031005</td><td>0.5532167  </td><td>0.30041561 </td><td>0.9963451  </td><td>24         </td><td>258        </td><td>1450       </td></tr>\n",
       "\t<tr><th scope=row>248030</th><td>353845     </td><td>0.630      </td><td>0          </td><td>0          </td><td>0          </td><td>0          </td><td>0          </td><td>23         </td><td>Thu        </td><td>-0.001     </td><td>0.001      </td><td>1.041      </td><td>0.031590881</td><td>0.5501071  </td><td>0.27317195 </td><td>0.9963302  </td><td>25         </td><td>258        </td><td>1451       </td></tr>\n",
       "\t<tr><th scope=row>248031</th><td>353846     </td><td>0.628      </td><td>0          </td><td>0          </td><td>0          </td><td>0          </td><td>0          </td><td>23         </td><td>Thu        </td><td>-0.002     </td><td>0.002      </td><td>1.041      </td><td>0.030843871</td><td>0.5526608  </td><td>0.32806793 </td><td>0.9963169  </td><td>26         </td><td>258        </td><td>1452       </td></tr>\n",
       "\t<tr><th scope=row>248032</th><td>353847     </td><td>0.627      </td><td>0          </td><td>0          </td><td>0          </td><td>0          </td><td>0          </td><td>23         </td><td>Thu        </td><td>-0.001     </td><td>0.001      </td><td>1.041      </td><td>0.030136468</td><td>0.5599026  </td><td>0.29010599 </td><td>0.9962979  </td><td>27         </td><td>258        </td><td>1453       </td></tr>\n",
       "\t<tr><th scope=row>248033</th><td>353848     </td><td>0.627      </td><td>0          </td><td>0          </td><td>0          </td><td>0          </td><td>0          </td><td>23         </td><td>Thu        </td><td> 0.000     </td><td>0.000      </td><td>1.041      </td><td>0.029438437</td><td>0.5673589  </td><td>0.26193505 </td><td>0.9962607  </td><td>28         </td><td>258        </td><td>1454       </td></tr>\n",
       "\t<tr><th scope=row>248034</th><td>353849     </td><td>0.624      </td><td>0          </td><td>0          </td><td>0          </td><td>0          </td><td>0          </td><td>23         </td><td>Thu        </td><td>-0.003     </td><td>0.003      </td><td>1.041      </td><td>0.028659539</td><td>0.5721193  </td><td>0.24337909 </td><td>0.9962298  </td><td>29         </td><td>258        </td><td>1455       </td></tr>\n",
       "\t<tr><th scope=row>248035</th><td>353850     </td><td>0.628      </td><td>0          </td><td>0          </td><td>0          </td><td>0          </td><td>0          </td><td>23         </td><td>Thu        </td><td> 0.004     </td><td>0.004      </td><td>1.041      </td><td>0.027623919</td><td>0.5730937  </td><td>0.31824075 </td><td>0.9962199  </td><td>30         </td><td>258        </td><td>1456       </td></tr>\n",
       "\t<tr><th scope=row>248036</th><td>353851     </td><td>0.640      </td><td>0          </td><td>0          </td><td>0          </td><td>0          </td><td>0          </td><td>23         </td><td>Thu        </td><td> 0.012     </td><td>0.012      </td><td>1.041      </td><td>0.026398916</td><td>0.5700071  </td><td>0.34678055 </td><td>0.9961479  </td><td>31         </td><td>258        </td><td>1457       </td></tr>\n",
       "\t<tr><th scope=row>248037</th><td>353852     </td><td>0.639      </td><td>0          </td><td>0          </td><td>0          </td><td>0          </td><td>0          </td><td>23         </td><td>Thu        </td><td>-0.001     </td><td>0.001      </td><td>1.041      </td><td>0.024994316</td><td>0.5649756  </td><td>0.33574759 </td><td>0.9960264  </td><td>32         </td><td>258        </td><td>1458       </td></tr>\n",
       "\t<tr><th scope=row>248038</th><td>353853     </td><td>0.625      </td><td>0          </td><td>0          </td><td>0          </td><td>0          </td><td>0          </td><td>23         </td><td>Thu        </td><td>-0.014     </td><td>0.014      </td><td>1.041      </td><td>0.023481883</td><td>0.5633413  </td><td>0.22805502 </td><td>0.9957531  </td><td>33         </td><td>258        </td><td>1459       </td></tr>\n",
       "\t<tr><th scope=row>248039</th><td>353854     </td><td>0.583      </td><td>0          </td><td>0          </td><td>0          </td><td>0          </td><td>0          </td><td>23         </td><td>Thu        </td><td>-0.042     </td><td>0.042      </td><td>1.041      </td><td>0.022169180</td><td>0.5695387  </td><td>0.36511480 </td><td>0.9957435  </td><td>34         </td><td>258        </td><td>1460       </td></tr>\n",
       "\t<tr><th scope=row>248040</th><td>353855     </td><td>0.584      </td><td>0          </td><td>0          </td><td>0          </td><td>0          </td><td>0          </td><td>23         </td><td>Thu        </td><td> 0.001     </td><td>0.001      </td><td>1.041      </td><td>0.020090823</td><td>0.5815655  </td><td>0.21601058 </td><td>0.9955936  </td><td>35         </td><td>258        </td><td>1461       </td></tr>\n",
       "\t<tr><th scope=row>248041</th><td>353856     </td><td>0.582      </td><td>0          </td><td>0          </td><td>0          </td><td>0          </td><td>0          </td><td>23         </td><td>Thu        </td><td>-0.002     </td><td>0.002      </td><td>1.041      </td><td>0.017709416</td><td>0.5951846  </td><td>0.06228086 </td><td>0.9953499  </td><td>36         </td><td>258        </td><td>1462       </td></tr>\n",
       "\t<tr><th scope=row>248042</th><td>353857     </td><td>0.581      </td><td>0          </td><td>0          </td><td>0          </td><td>0          </td><td>0          </td><td>23         </td><td>Thu        </td><td>-0.001     </td><td>0.001      </td><td>1.041      </td><td>0.015244227</td><td>0.6082840  </td><td>0.09964975 </td><td>0.9950237  </td><td>37         </td><td>258        </td><td>1463       </td></tr>\n",
       "\t<tr><th scope=row>248043</th><td>353858     </td><td>0.576      </td><td>0          </td><td>0          </td><td>0          </td><td>0          </td><td>0          </td><td>23         </td><td>Thu        </td><td>-0.005     </td><td>0.005      </td><td>0.983      </td><td>0.012571161</td><td>0.6198304  </td><td>0.12319491 </td><td>0.9949022  </td><td>38         </td><td>258        </td><td>1464       </td></tr>\n",
       "\t<tr><th scope=row>248044</th><td>353859     </td><td>0.575      </td><td>0          </td><td>0          </td><td>0          </td><td>0          </td><td>0          </td><td>23         </td><td>Thu        </td><td>-0.001     </td><td>0.001      </td><td>0.925      </td><td>0.010536617</td><td>0.6303871  </td><td>0.81467462 </td><td>0.9949741  </td><td>39         </td><td>258        </td><td>1465       </td></tr>\n",
       "\t<tr><th scope=row>248045</th><td>353860     </td><td>0.576      </td><td>0          </td><td>0          </td><td>0          </td><td>0          </td><td>0          </td><td>23         </td><td>Thu        </td><td> 0.001     </td><td>0.001      </td><td>0.925      </td><td>0.009387546</td><td>0.6420642  </td><td>0.70161787 </td><td>0.9947518  </td><td>40         </td><td>258        </td><td>1466       </td></tr>\n",
       "\t<tr><th scope=row>248046</th><td>353861     </td><td>0.575      </td><td>0          </td><td>0          </td><td>0          </td><td>0          </td><td>0          </td><td>23         </td><td>Thu        </td><td>-0.001     </td><td>0.001      </td><td>0.925      </td><td>0.008056562</td><td>0.6555294  </td><td>0.41106707 </td><td>0.9943353  </td><td>41         </td><td>258        </td><td>1467       </td></tr>\n",
       "\t<tr><th scope=row>248047</th><td>353862     </td><td>0.574      </td><td>0          </td><td>0          </td><td>0          </td><td>0          </td><td>0          </td><td>23         </td><td>Thu        </td><td>-0.001     </td><td>0.001      </td><td>0.890      </td><td>0.006491710</td><td>0.6687001  </td><td>0.37191074 </td><td>0.9938656  </td><td>42         </td><td>258        </td><td>1468       </td></tr>\n",
       "\t<tr><th scope=row>248048</th><td>353863     </td><td>0.573      </td><td>0          </td><td>0          </td><td>0          </td><td>0          </td><td>0          </td><td>23         </td><td>Thu        </td><td>-0.001     </td><td>0.001      </td><td>0.865      </td><td>0.005221039</td><td>0.6795152  </td><td>0.33005319 </td><td>0.9932562  </td><td>43         </td><td>258        </td><td>1469       </td></tr>\n",
       "\t<tr><th scope=row>248049</th><td>353864     </td><td>0.573      </td><td>0          </td><td>0          </td><td>0          </td><td>0          </td><td>0          </td><td>23         </td><td>Thu        </td><td> 0.000     </td><td>0.000      </td><td>0.843      </td><td>0.004133524</td><td>0.6896477  </td><td>1.04233378 </td><td>0.9924207  </td><td>44         </td><td>258        </td><td>1470       </td></tr>\n",
       "\t<tr><th scope=row>...</th><td>...</td><td>...</td><td>...</td><td>...</td><td>...</td><td>...</td><td>...</td><td>...</td><td>...</td><td>...</td><td>...</td><td>...</td><td>...</td><td>...</td><td>...</td><td>...</td><td>...</td><td>...</td><td>...</td></tr>\n",
       "\t<tr><th scope=row>252415</th><td>358231    </td><td>0.564     </td><td>0         </td><td>0         </td><td>0         </td><td>0         </td><td>0         </td><td>23        </td><td>Sun       </td><td>-0.001    </td><td>0.001     </td><td>2.021     </td><td>0.3586474 </td><td>0.5835685 </td><td>0.27144716</td><td>0.9924997 </td><td>31        </td><td>261       </td><td>1471      </td></tr>\n",
       "\t<tr><th scope=row>252416</th><td>358232    </td><td>0.499     </td><td>0         </td><td>0         </td><td>0         </td><td>0         </td><td>0         </td><td>23        </td><td>Sun       </td><td>-0.065    </td><td>0.065     </td><td>2.021     </td><td>0.3609701 </td><td>0.5835323 </td><td>0.23952091</td><td>0.9923584 </td><td>32        </td><td>261       </td><td>1472      </td></tr>\n",
       "\t<tr><th scope=row>252417</th><td>358233    </td><td>0.490     </td><td>0         </td><td>0         </td><td>0         </td><td>0         </td><td>0         </td><td>23        </td><td>Sun       </td><td>-0.009    </td><td>0.009     </td><td>2.021     </td><td>0.3605016 </td><td>0.5953772 </td><td>0.23957170</td><td>0.9922766 </td><td>33        </td><td>261       </td><td>1473      </td></tr>\n",
       "\t<tr><th scope=row>252418</th><td>358234    </td><td>0.497     </td><td>0         </td><td>0         </td><td>0         </td><td>0         </td><td>0         </td><td>23        </td><td>Sun       </td><td> 0.007    </td><td>0.007     </td><td>2.021     </td><td>0.3689761 </td><td>0.6076496 </td><td>0.23853477</td><td>0.9925438 </td><td>34        </td><td>261       </td><td>1474      </td></tr>\n",
       "\t<tr><th scope=row>252419</th><td>358235    </td><td>0.496     </td><td>0         </td><td>0         </td><td>0         </td><td>0         </td><td>0         </td><td>23        </td><td>Sun       </td><td>-0.001    </td><td>0.001     </td><td>2.021     </td><td>0.3670894 </td><td>0.6146179 </td><td>0.21551849</td><td>0.9927413 </td><td>35        </td><td>261       </td><td>1475      </td></tr>\n",
       "\t<tr><th scope=row>252420</th><td>358236    </td><td>0.512     </td><td>0         </td><td>0         </td><td>0         </td><td>0         </td><td>0         </td><td>23        </td><td>Sun       </td><td> 0.016    </td><td>0.016     </td><td>2.013     </td><td>0.3623327 </td><td>0.6176065 </td><td>0.26317520</td><td>0.9928605 </td><td>36        </td><td>261       </td><td>1476      </td></tr>\n",
       "\t<tr><th scope=row>252421</th><td>358237    </td><td>0.535     </td><td>0         </td><td>0         </td><td>0         </td><td>0         </td><td>0         </td><td>23        </td><td>Sun       </td><td> 0.023    </td><td>0.023     </td><td>2.013     </td><td>0.3600788 </td><td>0.6224280 </td><td>0.23821068</td><td>0.9929559 </td><td>37        </td><td>261       </td><td>1477      </td></tr>\n",
       "\t<tr><th scope=row>252422</th><td>358238    </td><td>0.544     </td><td>0         </td><td>0         </td><td>0         </td><td>0         </td><td>0         </td><td>23        </td><td>Sun       </td><td> 0.009    </td><td>0.009     </td><td>2.013     </td><td>0.3571057 </td><td>0.6347868 </td><td>0.22318991</td><td>0.9930189 </td><td>38        </td><td>261       </td><td>1478      </td></tr>\n",
       "\t<tr><th scope=row>252423</th><td>358239    </td><td>0.542     </td><td>0         </td><td>0         </td><td>0         </td><td>0         </td><td>0         </td><td>23        </td><td>Sun       </td><td>-0.002    </td><td>0.002     </td><td>2.013     </td><td>0.3540925 </td><td>0.6543011 </td><td>0.18268440</td><td>0.9930515 </td><td>39        </td><td>261       </td><td>1479      </td></tr>\n",
       "\t<tr><th scope=row>252424</th><td>358240    </td><td>0.582     </td><td>0         </td><td>0         </td><td>0         </td><td>0         </td><td>0         </td><td>23        </td><td>Sun       </td><td> 0.040    </td><td>0.040     </td><td>2.013     </td><td>0.3529941 </td><td>0.6739373 </td><td>0.15274354</td><td>0.9930873 </td><td>40        </td><td>261       </td><td>1480      </td></tr>\n",
       "\t<tr><th scope=row>252425</th><td>358241    </td><td>0.619     </td><td>0         </td><td>0         </td><td>0         </td><td>0         </td><td>0         </td><td>23        </td><td>Sun       </td><td> 0.037    </td><td>0.037     </td><td>2.013     </td><td>0.3498003 </td><td>0.6858486 </td><td>0.13540796</td><td>0.9930929 </td><td>41        </td><td>261       </td><td>1481      </td></tr>\n",
       "\t<tr><th scope=row>252426</th><td>358242    </td><td>0.672     </td><td>0         </td><td>0         </td><td>0         </td><td>0         </td><td>0         </td><td>23        </td><td>Sun       </td><td> 0.053    </td><td>0.053     </td><td>2.013     </td><td>0.3482699 </td><td>0.6850873 </td><td>0.09805526</td><td>0.9930941 </td><td>42        </td><td>261       </td><td>1482      </td></tr>\n",
       "\t<tr><th scope=row>252427</th><td>358243    </td><td>0.688     </td><td>0         </td><td>0         </td><td>0         </td><td>1         </td><td>0         </td><td>23        </td><td>Sun       </td><td> 0.016    </td><td>0.016     </td><td>2.013     </td><td>0.3488298 </td><td>0.6723959 </td><td>0.08486888</td><td>0.9931037 </td><td>43        </td><td>261       </td><td>1483      </td></tr>\n",
       "\t<tr><th scope=row>252428</th><td>358244    </td><td>0.696     </td><td>0         </td><td>0         </td><td>0         </td><td>1         </td><td>0         </td><td>23        </td><td>Sun       </td><td> 0.008    </td><td>0.008     </td><td>1.989     </td><td>0.3475524 </td><td>0.6556057 </td><td>0.09733448</td><td>0.9931033 </td><td>44        </td><td>261       </td><td>1484      </td></tr>\n",
       "\t<tr><th scope=row>252429</th><td>358245    </td><td>0.741     </td><td>0         </td><td>0         </td><td>0         </td><td>1         </td><td>0         </td><td>23        </td><td>Sun       </td><td> 0.045    </td><td>0.045     </td><td>1.989     </td><td>0.3424762 </td><td>0.6471252 </td><td>0.06176518</td><td>0.9929641 </td><td>45        </td><td>261       </td><td>1485      </td></tr>\n",
       "\t<tr><th scope=row>252430</th><td>358246    </td><td>0.681     </td><td>0         </td><td>0         </td><td>0         </td><td>1         </td><td>0         </td><td>23        </td><td>Sun       </td><td>-0.060    </td><td>0.060     </td><td>1.989     </td><td>0.3385493 </td><td>0.6550215 </td><td>0.05891186</td><td>0.9929035 </td><td>46        </td><td>261       </td><td>1486      </td></tr>\n",
       "\t<tr><th scope=row>252431</th><td>358247    </td><td>0.670     </td><td>0         </td><td>0         </td><td>0         </td><td>1         </td><td>0         </td><td>23        </td><td>Sun       </td><td>-0.011    </td><td>0.011     </td><td>1.989     </td><td>0.3376892 </td><td>0.6740019 </td><td>0.05725797</td><td>0.9928632 </td><td>47        </td><td>261       </td><td>1487      </td></tr>\n",
       "\t<tr><th scope=row>252432</th><td>358248    </td><td>0.702     </td><td>0         </td><td>0         </td><td>0         </td><td>1         </td><td>0         </td><td>23        </td><td>Sun       </td><td> 0.032    </td><td>0.032     </td><td>1.989     </td><td>0.3366163 </td><td>0.6910606 </td><td>0.05735195</td><td>0.9928122 </td><td>48        </td><td>261       </td><td>1488      </td></tr>\n",
       "\t<tr><th scope=row>252433</th><td>358249    </td><td>0.694     </td><td>0         </td><td>0         </td><td>0         </td><td>1         </td><td>0         </td><td>23        </td><td>Sun       </td><td>-0.008    </td><td>0.008     </td><td>1.989     </td><td>0.3411813 </td><td>0.6964235 </td><td>0.05928766</td><td>0.9927666 </td><td>49        </td><td>261       </td><td>1489      </td></tr>\n",
       "\t<tr><th scope=row>252434</th><td>358250    </td><td>0.785     </td><td>0         </td><td>0         </td><td>0         </td><td>1         </td><td>0         </td><td>23        </td><td>Sun       </td><td> 0.091    </td><td>0.091     </td><td>1.989     </td><td>0.3455669 </td><td>0.6869915 </td><td>0.05320258</td><td>0.9927722 </td><td>50        </td><td>261       </td><td>1490      </td></tr>\n",
       "\t<tr><th scope=row>252435</th><td>358251    </td><td>0.784     </td><td>0         </td><td>0         </td><td>0         </td><td>1         </td><td>0         </td><td>23        </td><td>Sun       </td><td>-0.001    </td><td>0.001     </td><td>1.989     </td><td>0.3497818 </td><td>0.6643256 </td><td>0.05266079</td><td>0.9927539 </td><td>51        </td><td>261       </td><td>1491      </td></tr>\n",
       "\t<tr><th scope=row>252436</th><td>358252    </td><td>0.749     </td><td>0         </td><td>0         </td><td>0         </td><td>1         </td><td>0         </td><td>23        </td><td>Sun       </td><td>-0.035    </td><td>0.035     </td><td>1.989     </td><td>0.3539148 </td><td>0.6362440 </td><td>0.05600847</td><td>0.9927096 </td><td>52        </td><td>261       </td><td>1492      </td></tr>\n",
       "\t<tr><th scope=row>252437</th><td>358253    </td><td>0.812     </td><td>0         </td><td>0         </td><td>0         </td><td>1         </td><td>0         </td><td>23        </td><td>Sun       </td><td> 0.063    </td><td>0.063     </td><td>1.989     </td><td>0.3552548 </td><td>0.6161821 </td><td>0.05632466</td><td>0.9925703 </td><td>53        </td><td>261       </td><td>1493      </td></tr>\n",
       "\t<tr><th scope=row>252438</th><td>358254    </td><td>0.805     </td><td>0         </td><td>0         </td><td>0         </td><td>1         </td><td>0         </td><td>23        </td><td>Sun       </td><td>-0.007    </td><td>0.007     </td><td>1.989     </td><td>0.3564768 </td><td>0.6135738 </td><td>0.05708920</td><td>0.9924071 </td><td>54        </td><td>261       </td><td>1494      </td></tr>\n",
       "\t<tr><th scope=row>252439</th><td>358255    </td><td>0.796     </td><td>0         </td><td>0         </td><td>0         </td><td>1         </td><td>0         </td><td>23        </td><td>Sun       </td><td>-0.009    </td><td>0.009     </td><td>1.989     </td><td>0.3580572 </td><td>0.6230951 </td><td>0.05641674</td><td>0.9922101 </td><td>55        </td><td>261       </td><td>1495      </td></tr>\n",
       "\t<tr><th scope=row>252440</th><td>358256    </td><td>0.816     </td><td>0         </td><td>0         </td><td>0         </td><td>1         </td><td>0         </td><td>23        </td><td>Sun       </td><td> 0.020    </td><td>0.020     </td><td>2.008     </td><td>0.3634135 </td><td>0.6314626 </td><td>0.05247937</td><td>0.9920494 </td><td>56        </td><td>261       </td><td>1496      </td></tr>\n",
       "\t<tr><th scope=row>252441</th><td>358257    </td><td>0.814     </td><td>0         </td><td>0         </td><td>0         </td><td>1         </td><td>0         </td><td>23        </td><td>Sun       </td><td>-0.002    </td><td>0.002     </td><td>2.047     </td><td>0.3698609 </td><td>0.6303033 </td><td>0.19527575</td><td>0.9942587 </td><td>57        </td><td>261       </td><td>1497      </td></tr>\n",
       "\t<tr><th scope=row>252442</th><td>358258    </td><td>0.808     </td><td>0         </td><td>0         </td><td>0         </td><td>1         </td><td>0         </td><td>23        </td><td>Sun       </td><td>-0.006    </td><td>0.006     </td><td>2.047     </td><td>0.3814802 </td><td>0.6194868 </td><td>0.35347091</td><td>0.9945440 </td><td>58        </td><td>261       </td><td>1498      </td></tr>\n",
       "\t<tr><th scope=row>252443</th><td>358259    </td><td>0.806     </td><td>0         </td><td>0         </td><td>0         </td><td>1         </td><td>0         </td><td>23        </td><td>Sun       </td><td>-0.002    </td><td>0.002     </td><td>2.047     </td><td>0.3801021 </td><td>0.6066759 </td><td>1.60197694</td><td>0.9899090 </td><td>59        </td><td>261       </td><td>1499      </td></tr>\n",
       "\t<tr><th scope=row>252444</th><td>358260    </td><td>0.802     </td><td>0         </td><td>0         </td><td>0         </td><td>1         </td><td>0         </td><td>23        </td><td>Sun       </td><td>-0.004    </td><td>0.004     </td><td>2.047     </td><td>0.3804731 </td><td>0.6041013 </td><td>1.60634360</td><td>0.9901620 </td><td>60        </td><td>261       </td><td>1500      </td></tr>\n",
       "</tbody>\n",
       "</table>\n"
      ],
      "text/latex": [
       "\\begin{tabular}{r|lllllllllllllllllll}\n",
       "  & X & load & ac & ev & oven & wash & dryer & hourofday & dayofweek & dif & absdif & max & var & entropy & nonlinear & hurst & minuteofhour & minofday & minuteofday\\\\\n",
       "\\hline\n",
       "\t248020 & 353835      & 0.751       & 0           & 0           & 0           & 0           & 0           & 23          & Thu         & -0.092      & 0.092       & 1.076       & 0.034173646 & 0.5591225   & 0.73548259  & 0.9960161   & 15          & 258         & 1441       \\\\\n",
       "\t248021 & 353836      & 0.757       & 0           & 0           & 0           & 0           & 0           & 23          & Thu         &  0.006      & 0.006       & 1.076       & 0.034843090 & 0.5531365   & 0.77056438  & 0.9963005   & 16          & 258         & 1442       \\\\\n",
       "\t248022 & 353837      & 0.740       & 0           & 0           & 0           & 0           & 0           & 23          & Thu         & -0.017      & 0.017       & 1.076       & 0.034956478 & 0.5480139   & 0.75319765  & 0.9963821   & 17          & 258         & 1443       \\\\\n",
       "\t248023 & 353838      & 0.744       & 0           & 0           & 0           & 0           & 0           & 23          & Thu         &  0.004      & 0.004       & 1.049       & 0.034220032 & 0.5466768   & 0.70911576  & 0.9963915   & 18          & 258         & 1444       \\\\\n",
       "\t248024 & 353839      & 0.690       & 0           & 0           & 0           & 0           & 0           & 23          & Thu         & -0.054      & 0.054       & 1.041       & 0.033616394 & 0.5500914   & 0.69805031  & 0.9963955   & 19          & 258         & 1445       \\\\\n",
       "\t248025 & 353840      & 0.633       & 0           & 0           & 0           & 0           & 0           & 23          & Thu         & -0.057      & 0.057       & 1.041       & 0.033212486 & 0.5555042   & 0.62188972  & 0.9963877   & 20          & 258         & 1446       \\\\\n",
       "\t248026 & 353841      & 0.612       & 0           & 0           & 0           & 0           & 0           & 23          & Thu         & -0.021      & 0.021       & 1.041       & 0.032984551 & 0.5595246   & 0.47526666  & 0.9963723   & 21          & 258         & 1447       \\\\\n",
       "\t248027 & 353842      & 0.589       & 0           & 0           & 0           & 0           & 0           & 23          & Thu         & -0.023      & 0.023       & 1.041       & 0.032759123 & 0.5605104   & 0.41066859  & 0.9963636   & 22          & 258         & 1448       \\\\\n",
       "\t248028 & 353843      & 0.616       & 0           & 0           & 0           & 0           & 0           & 23          & Thu         &  0.027      & 0.027       & 1.041       & 0.032369401 & 0.5579804   & 0.38324600  & 0.9963589   & 23          & 258         & 1449       \\\\\n",
       "\t248029 & 353844      & 0.631       & 0           & 0           & 0           & 0           & 0           & 23          & Thu         &  0.015      & 0.015       & 1.041       & 0.032031005 & 0.5532167   & 0.30041561  & 0.9963451   & 24          & 258         & 1450       \\\\\n",
       "\t248030 & 353845      & 0.630       & 0           & 0           & 0           & 0           & 0           & 23          & Thu         & -0.001      & 0.001       & 1.041       & 0.031590881 & 0.5501071   & 0.27317195  & 0.9963302   & 25          & 258         & 1451       \\\\\n",
       "\t248031 & 353846      & 0.628       & 0           & 0           & 0           & 0           & 0           & 23          & Thu         & -0.002      & 0.002       & 1.041       & 0.030843871 & 0.5526608   & 0.32806793  & 0.9963169   & 26          & 258         & 1452       \\\\\n",
       "\t248032 & 353847      & 0.627       & 0           & 0           & 0           & 0           & 0           & 23          & Thu         & -0.001      & 0.001       & 1.041       & 0.030136468 & 0.5599026   & 0.29010599  & 0.9962979   & 27          & 258         & 1453       \\\\\n",
       "\t248033 & 353848      & 0.627       & 0           & 0           & 0           & 0           & 0           & 23          & Thu         &  0.000      & 0.000       & 1.041       & 0.029438437 & 0.5673589   & 0.26193505  & 0.9962607   & 28          & 258         & 1454       \\\\\n",
       "\t248034 & 353849      & 0.624       & 0           & 0           & 0           & 0           & 0           & 23          & Thu         & -0.003      & 0.003       & 1.041       & 0.028659539 & 0.5721193   & 0.24337909  & 0.9962298   & 29          & 258         & 1455       \\\\\n",
       "\t248035 & 353850      & 0.628       & 0           & 0           & 0           & 0           & 0           & 23          & Thu         &  0.004      & 0.004       & 1.041       & 0.027623919 & 0.5730937   & 0.31824075  & 0.9962199   & 30          & 258         & 1456       \\\\\n",
       "\t248036 & 353851      & 0.640       & 0           & 0           & 0           & 0           & 0           & 23          & Thu         &  0.012      & 0.012       & 1.041       & 0.026398916 & 0.5700071   & 0.34678055  & 0.9961479   & 31          & 258         & 1457       \\\\\n",
       "\t248037 & 353852      & 0.639       & 0           & 0           & 0           & 0           & 0           & 23          & Thu         & -0.001      & 0.001       & 1.041       & 0.024994316 & 0.5649756   & 0.33574759  & 0.9960264   & 32          & 258         & 1458       \\\\\n",
       "\t248038 & 353853      & 0.625       & 0           & 0           & 0           & 0           & 0           & 23          & Thu         & -0.014      & 0.014       & 1.041       & 0.023481883 & 0.5633413   & 0.22805502  & 0.9957531   & 33          & 258         & 1459       \\\\\n",
       "\t248039 & 353854      & 0.583       & 0           & 0           & 0           & 0           & 0           & 23          & Thu         & -0.042      & 0.042       & 1.041       & 0.022169180 & 0.5695387   & 0.36511480  & 0.9957435   & 34          & 258         & 1460       \\\\\n",
       "\t248040 & 353855      & 0.584       & 0           & 0           & 0           & 0           & 0           & 23          & Thu         &  0.001      & 0.001       & 1.041       & 0.020090823 & 0.5815655   & 0.21601058  & 0.9955936   & 35          & 258         & 1461       \\\\\n",
       "\t248041 & 353856      & 0.582       & 0           & 0           & 0           & 0           & 0           & 23          & Thu         & -0.002      & 0.002       & 1.041       & 0.017709416 & 0.5951846   & 0.06228086  & 0.9953499   & 36          & 258         & 1462       \\\\\n",
       "\t248042 & 353857      & 0.581       & 0           & 0           & 0           & 0           & 0           & 23          & Thu         & -0.001      & 0.001       & 1.041       & 0.015244227 & 0.6082840   & 0.09964975  & 0.9950237   & 37          & 258         & 1463       \\\\\n",
       "\t248043 & 353858      & 0.576       & 0           & 0           & 0           & 0           & 0           & 23          & Thu         & -0.005      & 0.005       & 0.983       & 0.012571161 & 0.6198304   & 0.12319491  & 0.9949022   & 38          & 258         & 1464       \\\\\n",
       "\t248044 & 353859      & 0.575       & 0           & 0           & 0           & 0           & 0           & 23          & Thu         & -0.001      & 0.001       & 0.925       & 0.010536617 & 0.6303871   & 0.81467462  & 0.9949741   & 39          & 258         & 1465       \\\\\n",
       "\t248045 & 353860      & 0.576       & 0           & 0           & 0           & 0           & 0           & 23          & Thu         &  0.001      & 0.001       & 0.925       & 0.009387546 & 0.6420642   & 0.70161787  & 0.9947518   & 40          & 258         & 1466       \\\\\n",
       "\t248046 & 353861      & 0.575       & 0           & 0           & 0           & 0           & 0           & 23          & Thu         & -0.001      & 0.001       & 0.925       & 0.008056562 & 0.6555294   & 0.41106707  & 0.9943353   & 41          & 258         & 1467       \\\\\n",
       "\t248047 & 353862      & 0.574       & 0           & 0           & 0           & 0           & 0           & 23          & Thu         & -0.001      & 0.001       & 0.890       & 0.006491710 & 0.6687001   & 0.37191074  & 0.9938656   & 42          & 258         & 1468       \\\\\n",
       "\t248048 & 353863      & 0.573       & 0           & 0           & 0           & 0           & 0           & 23          & Thu         & -0.001      & 0.001       & 0.865       & 0.005221039 & 0.6795152   & 0.33005319  & 0.9932562   & 43          & 258         & 1469       \\\\\n",
       "\t248049 & 353864      & 0.573       & 0           & 0           & 0           & 0           & 0           & 23          & Thu         &  0.000      & 0.000       & 0.843       & 0.004133524 & 0.6896477   & 1.04233378  & 0.9924207   & 44          & 258         & 1470       \\\\\n",
       "\t... & ... & ... & ... & ... & ... & ... & ... & ... & ... & ... & ... & ... & ... & ... & ... & ... & ... & ... & ...\\\\\n",
       "\t252415 & 358231     & 0.564      & 0          & 0          & 0          & 0          & 0          & 23         & Sun        & -0.001     & 0.001      & 2.021      & 0.3586474  & 0.5835685  & 0.27144716 & 0.9924997  & 31         & 261        & 1471      \\\\\n",
       "\t252416 & 358232     & 0.499      & 0          & 0          & 0          & 0          & 0          & 23         & Sun        & -0.065     & 0.065      & 2.021      & 0.3609701  & 0.5835323  & 0.23952091 & 0.9923584  & 32         & 261        & 1472      \\\\\n",
       "\t252417 & 358233     & 0.490      & 0          & 0          & 0          & 0          & 0          & 23         & Sun        & -0.009     & 0.009      & 2.021      & 0.3605016  & 0.5953772  & 0.23957170 & 0.9922766  & 33         & 261        & 1473      \\\\\n",
       "\t252418 & 358234     & 0.497      & 0          & 0          & 0          & 0          & 0          & 23         & Sun        &  0.007     & 0.007      & 2.021      & 0.3689761  & 0.6076496  & 0.23853477 & 0.9925438  & 34         & 261        & 1474      \\\\\n",
       "\t252419 & 358235     & 0.496      & 0          & 0          & 0          & 0          & 0          & 23         & Sun        & -0.001     & 0.001      & 2.021      & 0.3670894  & 0.6146179  & 0.21551849 & 0.9927413  & 35         & 261        & 1475      \\\\\n",
       "\t252420 & 358236     & 0.512      & 0          & 0          & 0          & 0          & 0          & 23         & Sun        &  0.016     & 0.016      & 2.013      & 0.3623327  & 0.6176065  & 0.26317520 & 0.9928605  & 36         & 261        & 1476      \\\\\n",
       "\t252421 & 358237     & 0.535      & 0          & 0          & 0          & 0          & 0          & 23         & Sun        &  0.023     & 0.023      & 2.013      & 0.3600788  & 0.6224280  & 0.23821068 & 0.9929559  & 37         & 261        & 1477      \\\\\n",
       "\t252422 & 358238     & 0.544      & 0          & 0          & 0          & 0          & 0          & 23         & Sun        &  0.009     & 0.009      & 2.013      & 0.3571057  & 0.6347868  & 0.22318991 & 0.9930189  & 38         & 261        & 1478      \\\\\n",
       "\t252423 & 358239     & 0.542      & 0          & 0          & 0          & 0          & 0          & 23         & Sun        & -0.002     & 0.002      & 2.013      & 0.3540925  & 0.6543011  & 0.18268440 & 0.9930515  & 39         & 261        & 1479      \\\\\n",
       "\t252424 & 358240     & 0.582      & 0          & 0          & 0          & 0          & 0          & 23         & Sun        &  0.040     & 0.040      & 2.013      & 0.3529941  & 0.6739373  & 0.15274354 & 0.9930873  & 40         & 261        & 1480      \\\\\n",
       "\t252425 & 358241     & 0.619      & 0          & 0          & 0          & 0          & 0          & 23         & Sun        &  0.037     & 0.037      & 2.013      & 0.3498003  & 0.6858486  & 0.13540796 & 0.9930929  & 41         & 261        & 1481      \\\\\n",
       "\t252426 & 358242     & 0.672      & 0          & 0          & 0          & 0          & 0          & 23         & Sun        &  0.053     & 0.053      & 2.013      & 0.3482699  & 0.6850873  & 0.09805526 & 0.9930941  & 42         & 261        & 1482      \\\\\n",
       "\t252427 & 358243     & 0.688      & 0          & 0          & 0          & 1          & 0          & 23         & Sun        &  0.016     & 0.016      & 2.013      & 0.3488298  & 0.6723959  & 0.08486888 & 0.9931037  & 43         & 261        & 1483      \\\\\n",
       "\t252428 & 358244     & 0.696      & 0          & 0          & 0          & 1          & 0          & 23         & Sun        &  0.008     & 0.008      & 1.989      & 0.3475524  & 0.6556057  & 0.09733448 & 0.9931033  & 44         & 261        & 1484      \\\\\n",
       "\t252429 & 358245     & 0.741      & 0          & 0          & 0          & 1          & 0          & 23         & Sun        &  0.045     & 0.045      & 1.989      & 0.3424762  & 0.6471252  & 0.06176518 & 0.9929641  & 45         & 261        & 1485      \\\\\n",
       "\t252430 & 358246     & 0.681      & 0          & 0          & 0          & 1          & 0          & 23         & Sun        & -0.060     & 0.060      & 1.989      & 0.3385493  & 0.6550215  & 0.05891186 & 0.9929035  & 46         & 261        & 1486      \\\\\n",
       "\t252431 & 358247     & 0.670      & 0          & 0          & 0          & 1          & 0          & 23         & Sun        & -0.011     & 0.011      & 1.989      & 0.3376892  & 0.6740019  & 0.05725797 & 0.9928632  & 47         & 261        & 1487      \\\\\n",
       "\t252432 & 358248     & 0.702      & 0          & 0          & 0          & 1          & 0          & 23         & Sun        &  0.032     & 0.032      & 1.989      & 0.3366163  & 0.6910606  & 0.05735195 & 0.9928122  & 48         & 261        & 1488      \\\\\n",
       "\t252433 & 358249     & 0.694      & 0          & 0          & 0          & 1          & 0          & 23         & Sun        & -0.008     & 0.008      & 1.989      & 0.3411813  & 0.6964235  & 0.05928766 & 0.9927666  & 49         & 261        & 1489      \\\\\n",
       "\t252434 & 358250     & 0.785      & 0          & 0          & 0          & 1          & 0          & 23         & Sun        &  0.091     & 0.091      & 1.989      & 0.3455669  & 0.6869915  & 0.05320258 & 0.9927722  & 50         & 261        & 1490      \\\\\n",
       "\t252435 & 358251     & 0.784      & 0          & 0          & 0          & 1          & 0          & 23         & Sun        & -0.001     & 0.001      & 1.989      & 0.3497818  & 0.6643256  & 0.05266079 & 0.9927539  & 51         & 261        & 1491      \\\\\n",
       "\t252436 & 358252     & 0.749      & 0          & 0          & 0          & 1          & 0          & 23         & Sun        & -0.035     & 0.035      & 1.989      & 0.3539148  & 0.6362440  & 0.05600847 & 0.9927096  & 52         & 261        & 1492      \\\\\n",
       "\t252437 & 358253     & 0.812      & 0          & 0          & 0          & 1          & 0          & 23         & Sun        &  0.063     & 0.063      & 1.989      & 0.3552548  & 0.6161821  & 0.05632466 & 0.9925703  & 53         & 261        & 1493      \\\\\n",
       "\t252438 & 358254     & 0.805      & 0          & 0          & 0          & 1          & 0          & 23         & Sun        & -0.007     & 0.007      & 1.989      & 0.3564768  & 0.6135738  & 0.05708920 & 0.9924071  & 54         & 261        & 1494      \\\\\n",
       "\t252439 & 358255     & 0.796      & 0          & 0          & 0          & 1          & 0          & 23         & Sun        & -0.009     & 0.009      & 1.989      & 0.3580572  & 0.6230951  & 0.05641674 & 0.9922101  & 55         & 261        & 1495      \\\\\n",
       "\t252440 & 358256     & 0.816      & 0          & 0          & 0          & 1          & 0          & 23         & Sun        &  0.020     & 0.020      & 2.008      & 0.3634135  & 0.6314626  & 0.05247937 & 0.9920494  & 56         & 261        & 1496      \\\\\n",
       "\t252441 & 358257     & 0.814      & 0          & 0          & 0          & 1          & 0          & 23         & Sun        & -0.002     & 0.002      & 2.047      & 0.3698609  & 0.6303033  & 0.19527575 & 0.9942587  & 57         & 261        & 1497      \\\\\n",
       "\t252442 & 358258     & 0.808      & 0          & 0          & 0          & 1          & 0          & 23         & Sun        & -0.006     & 0.006      & 2.047      & 0.3814802  & 0.6194868  & 0.35347091 & 0.9945440  & 58         & 261        & 1498      \\\\\n",
       "\t252443 & 358259     & 0.806      & 0          & 0          & 0          & 1          & 0          & 23         & Sun        & -0.002     & 0.002      & 2.047      & 0.3801021  & 0.6066759  & 1.60197694 & 0.9899090  & 59         & 261        & 1499      \\\\\n",
       "\t252444 & 358260     & 0.802      & 0          & 0          & 0          & 1          & 0          & 23         & Sun        & -0.004     & 0.004      & 2.047      & 0.3804731  & 0.6041013  & 1.60634360 & 0.9901620  & 60         & 261        & 1500      \\\\\n",
       "\\end{tabular}\n"
      ],
      "text/markdown": [
       "\n",
       "| <!--/--> | X | load | ac | ev | oven | wash | dryer | hourofday | dayofweek | dif | absdif | max | var | entropy | nonlinear | hurst | minuteofhour | minofday | minuteofday |\n",
       "|---|---|---|---|---|---|---|---|---|---|---|---|---|---|---|---|---|---|---|---|\n",
       "| 248020 | 353835      | 0.751       | 0           | 0           | 0           | 0           | 0           | 23          | Thu         | -0.092      | 0.092       | 1.076       | 0.034173646 | 0.5591225   | 0.73548259  | 0.9960161   | 15          | 258         | 1441        |\n",
       "| 248021 | 353836      | 0.757       | 0           | 0           | 0           | 0           | 0           | 23          | Thu         |  0.006      | 0.006       | 1.076       | 0.034843090 | 0.5531365   | 0.77056438  | 0.9963005   | 16          | 258         | 1442        |\n",
       "| 248022 | 353837      | 0.740       | 0           | 0           | 0           | 0           | 0           | 23          | Thu         | -0.017      | 0.017       | 1.076       | 0.034956478 | 0.5480139   | 0.75319765  | 0.9963821   | 17          | 258         | 1443        |\n",
       "| 248023 | 353838      | 0.744       | 0           | 0           | 0           | 0           | 0           | 23          | Thu         |  0.004      | 0.004       | 1.049       | 0.034220032 | 0.5466768   | 0.70911576  | 0.9963915   | 18          | 258         | 1444        |\n",
       "| 248024 | 353839      | 0.690       | 0           | 0           | 0           | 0           | 0           | 23          | Thu         | -0.054      | 0.054       | 1.041       | 0.033616394 | 0.5500914   | 0.69805031  | 0.9963955   | 19          | 258         | 1445        |\n",
       "| 248025 | 353840      | 0.633       | 0           | 0           | 0           | 0           | 0           | 23          | Thu         | -0.057      | 0.057       | 1.041       | 0.033212486 | 0.5555042   | 0.62188972  | 0.9963877   | 20          | 258         | 1446        |\n",
       "| 248026 | 353841      | 0.612       | 0           | 0           | 0           | 0           | 0           | 23          | Thu         | -0.021      | 0.021       | 1.041       | 0.032984551 | 0.5595246   | 0.47526666  | 0.9963723   | 21          | 258         | 1447        |\n",
       "| 248027 | 353842      | 0.589       | 0           | 0           | 0           | 0           | 0           | 23          | Thu         | -0.023      | 0.023       | 1.041       | 0.032759123 | 0.5605104   | 0.41066859  | 0.9963636   | 22          | 258         | 1448        |\n",
       "| 248028 | 353843      | 0.616       | 0           | 0           | 0           | 0           | 0           | 23          | Thu         |  0.027      | 0.027       | 1.041       | 0.032369401 | 0.5579804   | 0.38324600  | 0.9963589   | 23          | 258         | 1449        |\n",
       "| 248029 | 353844      | 0.631       | 0           | 0           | 0           | 0           | 0           | 23          | Thu         |  0.015      | 0.015       | 1.041       | 0.032031005 | 0.5532167   | 0.30041561  | 0.9963451   | 24          | 258         | 1450        |\n",
       "| 248030 | 353845      | 0.630       | 0           | 0           | 0           | 0           | 0           | 23          | Thu         | -0.001      | 0.001       | 1.041       | 0.031590881 | 0.5501071   | 0.27317195  | 0.9963302   | 25          | 258         | 1451        |\n",
       "| 248031 | 353846      | 0.628       | 0           | 0           | 0           | 0           | 0           | 23          | Thu         | -0.002      | 0.002       | 1.041       | 0.030843871 | 0.5526608   | 0.32806793  | 0.9963169   | 26          | 258         | 1452        |\n",
       "| 248032 | 353847      | 0.627       | 0           | 0           | 0           | 0           | 0           | 23          | Thu         | -0.001      | 0.001       | 1.041       | 0.030136468 | 0.5599026   | 0.29010599  | 0.9962979   | 27          | 258         | 1453        |\n",
       "| 248033 | 353848      | 0.627       | 0           | 0           | 0           | 0           | 0           | 23          | Thu         |  0.000      | 0.000       | 1.041       | 0.029438437 | 0.5673589   | 0.26193505  | 0.9962607   | 28          | 258         | 1454        |\n",
       "| 248034 | 353849      | 0.624       | 0           | 0           | 0           | 0           | 0           | 23          | Thu         | -0.003      | 0.003       | 1.041       | 0.028659539 | 0.5721193   | 0.24337909  | 0.9962298   | 29          | 258         | 1455        |\n",
       "| 248035 | 353850      | 0.628       | 0           | 0           | 0           | 0           | 0           | 23          | Thu         |  0.004      | 0.004       | 1.041       | 0.027623919 | 0.5730937   | 0.31824075  | 0.9962199   | 30          | 258         | 1456        |\n",
       "| 248036 | 353851      | 0.640       | 0           | 0           | 0           | 0           | 0           | 23          | Thu         |  0.012      | 0.012       | 1.041       | 0.026398916 | 0.5700071   | 0.34678055  | 0.9961479   | 31          | 258         | 1457        |\n",
       "| 248037 | 353852      | 0.639       | 0           | 0           | 0           | 0           | 0           | 23          | Thu         | -0.001      | 0.001       | 1.041       | 0.024994316 | 0.5649756   | 0.33574759  | 0.9960264   | 32          | 258         | 1458        |\n",
       "| 248038 | 353853      | 0.625       | 0           | 0           | 0           | 0           | 0           | 23          | Thu         | -0.014      | 0.014       | 1.041       | 0.023481883 | 0.5633413   | 0.22805502  | 0.9957531   | 33          | 258         | 1459        |\n",
       "| 248039 | 353854      | 0.583       | 0           | 0           | 0           | 0           | 0           | 23          | Thu         | -0.042      | 0.042       | 1.041       | 0.022169180 | 0.5695387   | 0.36511480  | 0.9957435   | 34          | 258         | 1460        |\n",
       "| 248040 | 353855      | 0.584       | 0           | 0           | 0           | 0           | 0           | 23          | Thu         |  0.001      | 0.001       | 1.041       | 0.020090823 | 0.5815655   | 0.21601058  | 0.9955936   | 35          | 258         | 1461        |\n",
       "| 248041 | 353856      | 0.582       | 0           | 0           | 0           | 0           | 0           | 23          | Thu         | -0.002      | 0.002       | 1.041       | 0.017709416 | 0.5951846   | 0.06228086  | 0.9953499   | 36          | 258         | 1462        |\n",
       "| 248042 | 353857      | 0.581       | 0           | 0           | 0           | 0           | 0           | 23          | Thu         | -0.001      | 0.001       | 1.041       | 0.015244227 | 0.6082840   | 0.09964975  | 0.9950237   | 37          | 258         | 1463        |\n",
       "| 248043 | 353858      | 0.576       | 0           | 0           | 0           | 0           | 0           | 23          | Thu         | -0.005      | 0.005       | 0.983       | 0.012571161 | 0.6198304   | 0.12319491  | 0.9949022   | 38          | 258         | 1464        |\n",
       "| 248044 | 353859      | 0.575       | 0           | 0           | 0           | 0           | 0           | 23          | Thu         | -0.001      | 0.001       | 0.925       | 0.010536617 | 0.6303871   | 0.81467462  | 0.9949741   | 39          | 258         | 1465        |\n",
       "| 248045 | 353860      | 0.576       | 0           | 0           | 0           | 0           | 0           | 23          | Thu         |  0.001      | 0.001       | 0.925       | 0.009387546 | 0.6420642   | 0.70161787  | 0.9947518   | 40          | 258         | 1466        |\n",
       "| 248046 | 353861      | 0.575       | 0           | 0           | 0           | 0           | 0           | 23          | Thu         | -0.001      | 0.001       | 0.925       | 0.008056562 | 0.6555294   | 0.41106707  | 0.9943353   | 41          | 258         | 1467        |\n",
       "| 248047 | 353862      | 0.574       | 0           | 0           | 0           | 0           | 0           | 23          | Thu         | -0.001      | 0.001       | 0.890       | 0.006491710 | 0.6687001   | 0.37191074  | 0.9938656   | 42          | 258         | 1468        |\n",
       "| 248048 | 353863      | 0.573       | 0           | 0           | 0           | 0           | 0           | 23          | Thu         | -0.001      | 0.001       | 0.865       | 0.005221039 | 0.6795152   | 0.33005319  | 0.9932562   | 43          | 258         | 1469        |\n",
       "| 248049 | 353864      | 0.573       | 0           | 0           | 0           | 0           | 0           | 23          | Thu         |  0.000      | 0.000       | 0.843       | 0.004133524 | 0.6896477   | 1.04233378  | 0.9924207   | 44          | 258         | 1470        |\n",
       "| ... | ... | ... | ... | ... | ... | ... | ... | ... | ... | ... | ... | ... | ... | ... | ... | ... | ... | ... | ... |\n",
       "| 252415 | 358231     | 0.564      | 0          | 0          | 0          | 0          | 0          | 23         | Sun        | -0.001     | 0.001      | 2.021      | 0.3586474  | 0.5835685  | 0.27144716 | 0.9924997  | 31         | 261        | 1471       |\n",
       "| 252416 | 358232     | 0.499      | 0          | 0          | 0          | 0          | 0          | 23         | Sun        | -0.065     | 0.065      | 2.021      | 0.3609701  | 0.5835323  | 0.23952091 | 0.9923584  | 32         | 261        | 1472       |\n",
       "| 252417 | 358233     | 0.490      | 0          | 0          | 0          | 0          | 0          | 23         | Sun        | -0.009     | 0.009      | 2.021      | 0.3605016  | 0.5953772  | 0.23957170 | 0.9922766  | 33         | 261        | 1473       |\n",
       "| 252418 | 358234     | 0.497      | 0          | 0          | 0          | 0          | 0          | 23         | Sun        |  0.007     | 0.007      | 2.021      | 0.3689761  | 0.6076496  | 0.23853477 | 0.9925438  | 34         | 261        | 1474       |\n",
       "| 252419 | 358235     | 0.496      | 0          | 0          | 0          | 0          | 0          | 23         | Sun        | -0.001     | 0.001      | 2.021      | 0.3670894  | 0.6146179  | 0.21551849 | 0.9927413  | 35         | 261        | 1475       |\n",
       "| 252420 | 358236     | 0.512      | 0          | 0          | 0          | 0          | 0          | 23         | Sun        |  0.016     | 0.016      | 2.013      | 0.3623327  | 0.6176065  | 0.26317520 | 0.9928605  | 36         | 261        | 1476       |\n",
       "| 252421 | 358237     | 0.535      | 0          | 0          | 0          | 0          | 0          | 23         | Sun        |  0.023     | 0.023      | 2.013      | 0.3600788  | 0.6224280  | 0.23821068 | 0.9929559  | 37         | 261        | 1477       |\n",
       "| 252422 | 358238     | 0.544      | 0          | 0          | 0          | 0          | 0          | 23         | Sun        |  0.009     | 0.009      | 2.013      | 0.3571057  | 0.6347868  | 0.22318991 | 0.9930189  | 38         | 261        | 1478       |\n",
       "| 252423 | 358239     | 0.542      | 0          | 0          | 0          | 0          | 0          | 23         | Sun        | -0.002     | 0.002      | 2.013      | 0.3540925  | 0.6543011  | 0.18268440 | 0.9930515  | 39         | 261        | 1479       |\n",
       "| 252424 | 358240     | 0.582      | 0          | 0          | 0          | 0          | 0          | 23         | Sun        |  0.040     | 0.040      | 2.013      | 0.3529941  | 0.6739373  | 0.15274354 | 0.9930873  | 40         | 261        | 1480       |\n",
       "| 252425 | 358241     | 0.619      | 0          | 0          | 0          | 0          | 0          | 23         | Sun        |  0.037     | 0.037      | 2.013      | 0.3498003  | 0.6858486  | 0.13540796 | 0.9930929  | 41         | 261        | 1481       |\n",
       "| 252426 | 358242     | 0.672      | 0          | 0          | 0          | 0          | 0          | 23         | Sun        |  0.053     | 0.053      | 2.013      | 0.3482699  | 0.6850873  | 0.09805526 | 0.9930941  | 42         | 261        | 1482       |\n",
       "| 252427 | 358243     | 0.688      | 0          | 0          | 0          | 1          | 0          | 23         | Sun        |  0.016     | 0.016      | 2.013      | 0.3488298  | 0.6723959  | 0.08486888 | 0.9931037  | 43         | 261        | 1483       |\n",
       "| 252428 | 358244     | 0.696      | 0          | 0          | 0          | 1          | 0          | 23         | Sun        |  0.008     | 0.008      | 1.989      | 0.3475524  | 0.6556057  | 0.09733448 | 0.9931033  | 44         | 261        | 1484       |\n",
       "| 252429 | 358245     | 0.741      | 0          | 0          | 0          | 1          | 0          | 23         | Sun        |  0.045     | 0.045      | 1.989      | 0.3424762  | 0.6471252  | 0.06176518 | 0.9929641  | 45         | 261        | 1485       |\n",
       "| 252430 | 358246     | 0.681      | 0          | 0          | 0          | 1          | 0          | 23         | Sun        | -0.060     | 0.060      | 1.989      | 0.3385493  | 0.6550215  | 0.05891186 | 0.9929035  | 46         | 261        | 1486       |\n",
       "| 252431 | 358247     | 0.670      | 0          | 0          | 0          | 1          | 0          | 23         | Sun        | -0.011     | 0.011      | 1.989      | 0.3376892  | 0.6740019  | 0.05725797 | 0.9928632  | 47         | 261        | 1487       |\n",
       "| 252432 | 358248     | 0.702      | 0          | 0          | 0          | 1          | 0          | 23         | Sun        |  0.032     | 0.032      | 1.989      | 0.3366163  | 0.6910606  | 0.05735195 | 0.9928122  | 48         | 261        | 1488       |\n",
       "| 252433 | 358249     | 0.694      | 0          | 0          | 0          | 1          | 0          | 23         | Sun        | -0.008     | 0.008      | 1.989      | 0.3411813  | 0.6964235  | 0.05928766 | 0.9927666  | 49         | 261        | 1489       |\n",
       "| 252434 | 358250     | 0.785      | 0          | 0          | 0          | 1          | 0          | 23         | Sun        |  0.091     | 0.091      | 1.989      | 0.3455669  | 0.6869915  | 0.05320258 | 0.9927722  | 50         | 261        | 1490       |\n",
       "| 252435 | 358251     | 0.784      | 0          | 0          | 0          | 1          | 0          | 23         | Sun        | -0.001     | 0.001      | 1.989      | 0.3497818  | 0.6643256  | 0.05266079 | 0.9927539  | 51         | 261        | 1491       |\n",
       "| 252436 | 358252     | 0.749      | 0          | 0          | 0          | 1          | 0          | 23         | Sun        | -0.035     | 0.035      | 1.989      | 0.3539148  | 0.6362440  | 0.05600847 | 0.9927096  | 52         | 261        | 1492       |\n",
       "| 252437 | 358253     | 0.812      | 0          | 0          | 0          | 1          | 0          | 23         | Sun        |  0.063     | 0.063      | 1.989      | 0.3552548  | 0.6161821  | 0.05632466 | 0.9925703  | 53         | 261        | 1493       |\n",
       "| 252438 | 358254     | 0.805      | 0          | 0          | 0          | 1          | 0          | 23         | Sun        | -0.007     | 0.007      | 1.989      | 0.3564768  | 0.6135738  | 0.05708920 | 0.9924071  | 54         | 261        | 1494       |\n",
       "| 252439 | 358255     | 0.796      | 0          | 0          | 0          | 1          | 0          | 23         | Sun        | -0.009     | 0.009      | 1.989      | 0.3580572  | 0.6230951  | 0.05641674 | 0.9922101  | 55         | 261        | 1495       |\n",
       "| 252440 | 358256     | 0.816      | 0          | 0          | 0          | 1          | 0          | 23         | Sun        |  0.020     | 0.020      | 2.008      | 0.3634135  | 0.6314626  | 0.05247937 | 0.9920494  | 56         | 261        | 1496       |\n",
       "| 252441 | 358257     | 0.814      | 0          | 0          | 0          | 1          | 0          | 23         | Sun        | -0.002     | 0.002      | 2.047      | 0.3698609  | 0.6303033  | 0.19527575 | 0.9942587  | 57         | 261        | 1497       |\n",
       "| 252442 | 358258     | 0.808      | 0          | 0          | 0          | 1          | 0          | 23         | Sun        | -0.006     | 0.006      | 2.047      | 0.3814802  | 0.6194868  | 0.35347091 | 0.9945440  | 58         | 261        | 1498       |\n",
       "| 252443 | 358259     | 0.806      | 0          | 0          | 0          | 1          | 0          | 23         | Sun        | -0.002     | 0.002      | 2.047      | 0.3801021  | 0.6066759  | 1.60197694 | 0.9899090  | 59         | 261        | 1499       |\n",
       "| 252444 | 358260     | 0.802      | 0          | 0          | 0          | 1          | 0          | 23         | Sun        | -0.004     | 0.004      | 2.047      | 0.3804731  | 0.6041013  | 1.60634360 | 0.9901620  | 60         | 261        | 1500       |\n",
       "\n"
      ],
      "text/plain": [
       "       X      load  ac  ev  oven wash dryer hourofday dayofweek dif    absdif\n",
       "248020 353835 0.751 0   0   0    0    0     23        Thu       -0.092 0.092 \n",
       "248021 353836 0.757 0   0   0    0    0     23        Thu        0.006 0.006 \n",
       "248022 353837 0.740 0   0   0    0    0     23        Thu       -0.017 0.017 \n",
       "248023 353838 0.744 0   0   0    0    0     23        Thu        0.004 0.004 \n",
       "248024 353839 0.690 0   0   0    0    0     23        Thu       -0.054 0.054 \n",
       "248025 353840 0.633 0   0   0    0    0     23        Thu       -0.057 0.057 \n",
       "248026 353841 0.612 0   0   0    0    0     23        Thu       -0.021 0.021 \n",
       "248027 353842 0.589 0   0   0    0    0     23        Thu       -0.023 0.023 \n",
       "248028 353843 0.616 0   0   0    0    0     23        Thu        0.027 0.027 \n",
       "248029 353844 0.631 0   0   0    0    0     23        Thu        0.015 0.015 \n",
       "248030 353845 0.630 0   0   0    0    0     23        Thu       -0.001 0.001 \n",
       "248031 353846 0.628 0   0   0    0    0     23        Thu       -0.002 0.002 \n",
       "248032 353847 0.627 0   0   0    0    0     23        Thu       -0.001 0.001 \n",
       "248033 353848 0.627 0   0   0    0    0     23        Thu        0.000 0.000 \n",
       "248034 353849 0.624 0   0   0    0    0     23        Thu       -0.003 0.003 \n",
       "248035 353850 0.628 0   0   0    0    0     23        Thu        0.004 0.004 \n",
       "248036 353851 0.640 0   0   0    0    0     23        Thu        0.012 0.012 \n",
       "248037 353852 0.639 0   0   0    0    0     23        Thu       -0.001 0.001 \n",
       "248038 353853 0.625 0   0   0    0    0     23        Thu       -0.014 0.014 \n",
       "248039 353854 0.583 0   0   0    0    0     23        Thu       -0.042 0.042 \n",
       "248040 353855 0.584 0   0   0    0    0     23        Thu        0.001 0.001 \n",
       "248041 353856 0.582 0   0   0    0    0     23        Thu       -0.002 0.002 \n",
       "248042 353857 0.581 0   0   0    0    0     23        Thu       -0.001 0.001 \n",
       "248043 353858 0.576 0   0   0    0    0     23        Thu       -0.005 0.005 \n",
       "248044 353859 0.575 0   0   0    0    0     23        Thu       -0.001 0.001 \n",
       "248045 353860 0.576 0   0   0    0    0     23        Thu        0.001 0.001 \n",
       "248046 353861 0.575 0   0   0    0    0     23        Thu       -0.001 0.001 \n",
       "248047 353862 0.574 0   0   0    0    0     23        Thu       -0.001 0.001 \n",
       "248048 353863 0.573 0   0   0    0    0     23        Thu       -0.001 0.001 \n",
       "248049 353864 0.573 0   0   0    0    0     23        Thu        0.000 0.000 \n",
       "...    ...    ...   ... ... ...  ...  ...   ...       ...       ...    ...   \n",
       "252415 358231 0.564 0   0   0    0    0     23        Sun       -0.001 0.001 \n",
       "252416 358232 0.499 0   0   0    0    0     23        Sun       -0.065 0.065 \n",
       "252417 358233 0.490 0   0   0    0    0     23        Sun       -0.009 0.009 \n",
       "252418 358234 0.497 0   0   0    0    0     23        Sun        0.007 0.007 \n",
       "252419 358235 0.496 0   0   0    0    0     23        Sun       -0.001 0.001 \n",
       "252420 358236 0.512 0   0   0    0    0     23        Sun        0.016 0.016 \n",
       "252421 358237 0.535 0   0   0    0    0     23        Sun        0.023 0.023 \n",
       "252422 358238 0.544 0   0   0    0    0     23        Sun        0.009 0.009 \n",
       "252423 358239 0.542 0   0   0    0    0     23        Sun       -0.002 0.002 \n",
       "252424 358240 0.582 0   0   0    0    0     23        Sun        0.040 0.040 \n",
       "252425 358241 0.619 0   0   0    0    0     23        Sun        0.037 0.037 \n",
       "252426 358242 0.672 0   0   0    0    0     23        Sun        0.053 0.053 \n",
       "252427 358243 0.688 0   0   0    1    0     23        Sun        0.016 0.016 \n",
       "252428 358244 0.696 0   0   0    1    0     23        Sun        0.008 0.008 \n",
       "252429 358245 0.741 0   0   0    1    0     23        Sun        0.045 0.045 \n",
       "252430 358246 0.681 0   0   0    1    0     23        Sun       -0.060 0.060 \n",
       "252431 358247 0.670 0   0   0    1    0     23        Sun       -0.011 0.011 \n",
       "252432 358248 0.702 0   0   0    1    0     23        Sun        0.032 0.032 \n",
       "252433 358249 0.694 0   0   0    1    0     23        Sun       -0.008 0.008 \n",
       "252434 358250 0.785 0   0   0    1    0     23        Sun        0.091 0.091 \n",
       "252435 358251 0.784 0   0   0    1    0     23        Sun       -0.001 0.001 \n",
       "252436 358252 0.749 0   0   0    1    0     23        Sun       -0.035 0.035 \n",
       "252437 358253 0.812 0   0   0    1    0     23        Sun        0.063 0.063 \n",
       "252438 358254 0.805 0   0   0    1    0     23        Sun       -0.007 0.007 \n",
       "252439 358255 0.796 0   0   0    1    0     23        Sun       -0.009 0.009 \n",
       "252440 358256 0.816 0   0   0    1    0     23        Sun        0.020 0.020 \n",
       "252441 358257 0.814 0   0   0    1    0     23        Sun       -0.002 0.002 \n",
       "252442 358258 0.808 0   0   0    1    0     23        Sun       -0.006 0.006 \n",
       "252443 358259 0.806 0   0   0    1    0     23        Sun       -0.002 0.002 \n",
       "252444 358260 0.802 0   0   0    1    0     23        Sun       -0.004 0.004 \n",
       "       max   var         entropy   nonlinear  hurst     minuteofhour minofday\n",
       "248020 1.076 0.034173646 0.5591225 0.73548259 0.9960161 15           258     \n",
       "248021 1.076 0.034843090 0.5531365 0.77056438 0.9963005 16           258     \n",
       "248022 1.076 0.034956478 0.5480139 0.75319765 0.9963821 17           258     \n",
       "248023 1.049 0.034220032 0.5466768 0.70911576 0.9963915 18           258     \n",
       "248024 1.041 0.033616394 0.5500914 0.69805031 0.9963955 19           258     \n",
       "248025 1.041 0.033212486 0.5555042 0.62188972 0.9963877 20           258     \n",
       "248026 1.041 0.032984551 0.5595246 0.47526666 0.9963723 21           258     \n",
       "248027 1.041 0.032759123 0.5605104 0.41066859 0.9963636 22           258     \n",
       "248028 1.041 0.032369401 0.5579804 0.38324600 0.9963589 23           258     \n",
       "248029 1.041 0.032031005 0.5532167 0.30041561 0.9963451 24           258     \n",
       "248030 1.041 0.031590881 0.5501071 0.27317195 0.9963302 25           258     \n",
       "248031 1.041 0.030843871 0.5526608 0.32806793 0.9963169 26           258     \n",
       "248032 1.041 0.030136468 0.5599026 0.29010599 0.9962979 27           258     \n",
       "248033 1.041 0.029438437 0.5673589 0.26193505 0.9962607 28           258     \n",
       "248034 1.041 0.028659539 0.5721193 0.24337909 0.9962298 29           258     \n",
       "248035 1.041 0.027623919 0.5730937 0.31824075 0.9962199 30           258     \n",
       "248036 1.041 0.026398916 0.5700071 0.34678055 0.9961479 31           258     \n",
       "248037 1.041 0.024994316 0.5649756 0.33574759 0.9960264 32           258     \n",
       "248038 1.041 0.023481883 0.5633413 0.22805502 0.9957531 33           258     \n",
       "248039 1.041 0.022169180 0.5695387 0.36511480 0.9957435 34           258     \n",
       "248040 1.041 0.020090823 0.5815655 0.21601058 0.9955936 35           258     \n",
       "248041 1.041 0.017709416 0.5951846 0.06228086 0.9953499 36           258     \n",
       "248042 1.041 0.015244227 0.6082840 0.09964975 0.9950237 37           258     \n",
       "248043 0.983 0.012571161 0.6198304 0.12319491 0.9949022 38           258     \n",
       "248044 0.925 0.010536617 0.6303871 0.81467462 0.9949741 39           258     \n",
       "248045 0.925 0.009387546 0.6420642 0.70161787 0.9947518 40           258     \n",
       "248046 0.925 0.008056562 0.6555294 0.41106707 0.9943353 41           258     \n",
       "248047 0.890 0.006491710 0.6687001 0.37191074 0.9938656 42           258     \n",
       "248048 0.865 0.005221039 0.6795152 0.33005319 0.9932562 43           258     \n",
       "248049 0.843 0.004133524 0.6896477 1.04233378 0.9924207 44           258     \n",
       "...    ...   ...         ...       ...        ...       ...          ...     \n",
       "252415 2.021 0.3586474   0.5835685 0.27144716 0.9924997 31           261     \n",
       "252416 2.021 0.3609701   0.5835323 0.23952091 0.9923584 32           261     \n",
       "252417 2.021 0.3605016   0.5953772 0.23957170 0.9922766 33           261     \n",
       "252418 2.021 0.3689761   0.6076496 0.23853477 0.9925438 34           261     \n",
       "252419 2.021 0.3670894   0.6146179 0.21551849 0.9927413 35           261     \n",
       "252420 2.013 0.3623327   0.6176065 0.26317520 0.9928605 36           261     \n",
       "252421 2.013 0.3600788   0.6224280 0.23821068 0.9929559 37           261     \n",
       "252422 2.013 0.3571057   0.6347868 0.22318991 0.9930189 38           261     \n",
       "252423 2.013 0.3540925   0.6543011 0.18268440 0.9930515 39           261     \n",
       "252424 2.013 0.3529941   0.6739373 0.15274354 0.9930873 40           261     \n",
       "252425 2.013 0.3498003   0.6858486 0.13540796 0.9930929 41           261     \n",
       "252426 2.013 0.3482699   0.6850873 0.09805526 0.9930941 42           261     \n",
       "252427 2.013 0.3488298   0.6723959 0.08486888 0.9931037 43           261     \n",
       "252428 1.989 0.3475524   0.6556057 0.09733448 0.9931033 44           261     \n",
       "252429 1.989 0.3424762   0.6471252 0.06176518 0.9929641 45           261     \n",
       "252430 1.989 0.3385493   0.6550215 0.05891186 0.9929035 46           261     \n",
       "252431 1.989 0.3376892   0.6740019 0.05725797 0.9928632 47           261     \n",
       "252432 1.989 0.3366163   0.6910606 0.05735195 0.9928122 48           261     \n",
       "252433 1.989 0.3411813   0.6964235 0.05928766 0.9927666 49           261     \n",
       "252434 1.989 0.3455669   0.6869915 0.05320258 0.9927722 50           261     \n",
       "252435 1.989 0.3497818   0.6643256 0.05266079 0.9927539 51           261     \n",
       "252436 1.989 0.3539148   0.6362440 0.05600847 0.9927096 52           261     \n",
       "252437 1.989 0.3552548   0.6161821 0.05632466 0.9925703 53           261     \n",
       "252438 1.989 0.3564768   0.6135738 0.05708920 0.9924071 54           261     \n",
       "252439 1.989 0.3580572   0.6230951 0.05641674 0.9922101 55           261     \n",
       "252440 2.008 0.3634135   0.6314626 0.05247937 0.9920494 56           261     \n",
       "252441 2.047 0.3698609   0.6303033 0.19527575 0.9942587 57           261     \n",
       "252442 2.047 0.3814802   0.6194868 0.35347091 0.9945440 58           261     \n",
       "252443 2.047 0.3801021   0.6066759 1.60197694 0.9899090 59           261     \n",
       "252444 2.047 0.3804731   0.6041013 1.60634360 0.9901620 60           261     \n",
       "       minuteofday\n",
       "248020 1441       \n",
       "248021 1442       \n",
       "248022 1443       \n",
       "248023 1444       \n",
       "248024 1445       \n",
       "248025 1446       \n",
       "248026 1447       \n",
       "248027 1448       \n",
       "248028 1449       \n",
       "248029 1450       \n",
       "248030 1451       \n",
       "248031 1452       \n",
       "248032 1453       \n",
       "248033 1454       \n",
       "248034 1455       \n",
       "248035 1456       \n",
       "248036 1457       \n",
       "248037 1458       \n",
       "248038 1459       \n",
       "248039 1460       \n",
       "248040 1461       \n",
       "248041 1462       \n",
       "248042 1463       \n",
       "248043 1464       \n",
       "248044 1465       \n",
       "248045 1466       \n",
       "248046 1467       \n",
       "248047 1468       \n",
       "248048 1469       \n",
       "248049 1470       \n",
       "...    ...        \n",
       "252415 1471       \n",
       "252416 1472       \n",
       "252417 1473       \n",
       "252418 1474       \n",
       "252419 1475       \n",
       "252420 1476       \n",
       "252421 1477       \n",
       "252422 1478       \n",
       "252423 1479       \n",
       "252424 1480       \n",
       "252425 1481       \n",
       "252426 1482       \n",
       "252427 1483       \n",
       "252428 1484       \n",
       "252429 1485       \n",
       "252430 1486       \n",
       "252431 1487       \n",
       "252432 1488       \n",
       "252433 1489       \n",
       "252434 1490       \n",
       "252435 1491       \n",
       "252436 1492       \n",
       "252437 1493       \n",
       "252438 1494       \n",
       "252439 1495       \n",
       "252440 1496       \n",
       "252441 1497       \n",
       "252442 1498       \n",
       "252443 1499       \n",
       "252444 1500       "
      ]
     },
     "metadata": {},
     "output_type": "display_data"
    }
   ],
   "source": [
    "#Create minofday that increments on the difference of dayofweek\n",
    "train.data$minofday <- cumsum(c(0,as.numeric(diff(train.data$dayofweek))!=0))\n",
    "\n",
    "#Convert to data table form \n",
    "train.data=data.table(train.data)\n",
    "N<-nrow(train.data)\n",
    "\n",
    "#Create minuteofday that increments by the same value of minofday, reset for new value of minofday\n",
    "train.data[,minuteofday:=1:.N,by=minofday]\n",
    "\n",
    "#convert back to data frame\n",
    "train.data=data.frame(train.data)\n",
    "\n",
    "#Once again, there are some strange values of minuteofday (>1440)\n",
    "train.data[train.data$minuteofday>1440,]"
   ]
  },
  {
   "cell_type": "code",
   "execution_count": 18,
   "metadata": {},
   "outputs": [],
   "source": [
    "#Subtract these values of minuteofday by 1440, to get a valid value of minuteofday\n",
    "train.data$minuteofday<-ifelse(train.data$minuteofday>1440,train.data$minuteofday-1440,train.data$minuteofday)\n",
    "train.data<-train.data[,-18]"
   ]
  },
  {
   "cell_type": "markdown",
   "metadata": {},
   "source": [
    "Also create `minuteofhour` and `minuteofday` for test data"
   ]
  },
  {
   "cell_type": "code",
   "execution_count": 19,
   "metadata": {},
   "outputs": [
    {
     "data": {
      "text/html": [
       "<table>\n",
       "<thead><tr><th scope=col>X</th><th scope=col>load</th><th scope=col>hourofday</th><th scope=col>dayofweek</th><th scope=col>dif</th><th scope=col>absdif</th><th scope=col>max</th><th scope=col>var</th><th scope=col>entropy</th><th scope=col>nonlinear</th><th scope=col>hurst</th><th scope=col>minuteofhour</th><th scope=col>minuteofday</th></tr></thead>\n",
       "<tbody>\n",
       "\t<tr><td>1     </td><td>1.869 </td><td>0     </td><td>Mon   </td><td> 0.000</td><td>0.000 </td><td>0     </td><td>0     </td><td>0     </td><td>0     </td><td>0     </td><td>1     </td><td>1     </td></tr>\n",
       "\t<tr><td>2     </td><td>1.673 </td><td>0     </td><td>Mon   </td><td>-0.196</td><td>0.196 </td><td>0     </td><td>0     </td><td>0     </td><td>0     </td><td>0     </td><td>2     </td><td>2     </td></tr>\n",
       "\t<tr><td>3     </td><td>1.660 </td><td>0     </td><td>Mon   </td><td>-0.013</td><td>0.013 </td><td>0     </td><td>0     </td><td>0     </td><td>0     </td><td>0     </td><td>3     </td><td>3     </td></tr>\n",
       "\t<tr><td>4     </td><td>1.772 </td><td>0     </td><td>Mon   </td><td> 0.112</td><td>0.112 </td><td>0     </td><td>0     </td><td>0     </td><td>0     </td><td>0     </td><td>4     </td><td>4     </td></tr>\n",
       "\t<tr><td>5     </td><td>1.679 </td><td>0     </td><td>Mon   </td><td>-0.093</td><td>0.093 </td><td>0     </td><td>0     </td><td>0     </td><td>0     </td><td>0     </td><td>5     </td><td>5     </td></tr>\n",
       "\t<tr><td>6     </td><td>1.775 </td><td>0     </td><td>Mon   </td><td> 0.096</td><td>0.096 </td><td>0     </td><td>0     </td><td>0     </td><td>0     </td><td>0     </td><td>6     </td><td>6     </td></tr>\n",
       "</tbody>\n",
       "</table>\n"
      ],
      "text/latex": [
       "\\begin{tabular}{r|lllllllllllll}\n",
       " X & load & hourofday & dayofweek & dif & absdif & max & var & entropy & nonlinear & hurst & minuteofhour & minuteofday\\\\\n",
       "\\hline\n",
       "\t 1      & 1.869  & 0      & Mon    &  0.000 & 0.000  & 0      & 0      & 0      & 0      & 0      & 1      & 1     \\\\\n",
       "\t 2      & 1.673  & 0      & Mon    & -0.196 & 0.196  & 0      & 0      & 0      & 0      & 0      & 2      & 2     \\\\\n",
       "\t 3      & 1.660  & 0      & Mon    & -0.013 & 0.013  & 0      & 0      & 0      & 0      & 0      & 3      & 3     \\\\\n",
       "\t 4      & 1.772  & 0      & Mon    &  0.112 & 0.112  & 0      & 0      & 0      & 0      & 0      & 4      & 4     \\\\\n",
       "\t 5      & 1.679  & 0      & Mon    & -0.093 & 0.093  & 0      & 0      & 0      & 0      & 0      & 5      & 5     \\\\\n",
       "\t 6      & 1.775  & 0      & Mon    &  0.096 & 0.096  & 0      & 0      & 0      & 0      & 0      & 6      & 6     \\\\\n",
       "\\end{tabular}\n"
      ],
      "text/markdown": [
       "\n",
       "| X | load | hourofday | dayofweek | dif | absdif | max | var | entropy | nonlinear | hurst | minuteofhour | minuteofday |\n",
       "|---|---|---|---|---|---|---|---|---|---|---|---|---|\n",
       "| 1      | 1.869  | 0      | Mon    |  0.000 | 0.000  | 0      | 0      | 0      | 0      | 0      | 1      | 1      |\n",
       "| 2      | 1.673  | 0      | Mon    | -0.196 | 0.196  | 0      | 0      | 0      | 0      | 0      | 2      | 2      |\n",
       "| 3      | 1.660  | 0      | Mon    | -0.013 | 0.013  | 0      | 0      | 0      | 0      | 0      | 3      | 3      |\n",
       "| 4      | 1.772  | 0      | Mon    |  0.112 | 0.112  | 0      | 0      | 0      | 0      | 0      | 4      | 4      |\n",
       "| 5      | 1.679  | 0      | Mon    | -0.093 | 0.093  | 0      | 0      | 0      | 0      | 0      | 5      | 5      |\n",
       "| 6      | 1.775  | 0      | Mon    |  0.096 | 0.096  | 0      | 0      | 0      | 0      | 0      | 6      | 6      |\n",
       "\n"
      ],
      "text/plain": [
       "  X load  hourofday dayofweek dif    absdif max var entropy nonlinear hurst\n",
       "1 1 1.869 0         Mon        0.000 0.000  0   0   0       0         0    \n",
       "2 2 1.673 0         Mon       -0.196 0.196  0   0   0       0         0    \n",
       "3 3 1.660 0         Mon       -0.013 0.013  0   0   0       0         0    \n",
       "4 4 1.772 0         Mon        0.112 0.112  0   0   0       0         0    \n",
       "5 5 1.679 0         Mon       -0.093 0.093  0   0   0       0         0    \n",
       "6 6 1.775 0         Mon        0.096 0.096  0   0   0       0         0    \n",
       "  minuteofhour minuteofday\n",
       "1 1            1          \n",
       "2 2            2          \n",
       "3 3            3          \n",
       "4 4            4          \n",
       "5 5            5          \n",
       "6 6            6          "
      ]
     },
     "metadata": {},
     "output_type": "display_data"
    }
   ],
   "source": [
    "test.dat<-test.data\n",
    "#Create minuteofhour\n",
    "test.dat$minuteofhr <- cumsum(c(0,as.numeric(diff(test.dat$hourofday))!=0))\n",
    "test.dat=data.table(test.dat)\n",
    "N<-nrow(test.dat)\n",
    "test.dat[,minuteofhour:=1:.N,by=minuteofhr]\n",
    "test.dat=data.frame(test.dat)\n",
    "test.dat<-test.dat[,-12]\n",
    "\n",
    "#Create minuteofday\n",
    "test.dat$minofday <- cumsum(c(0,as.numeric(diff(test.dat$dayofweek))!=0))\n",
    "test.dat=data.table(test.dat)\n",
    "N<-nrow(test.dat)\n",
    "test.dat[,minuteofday:=1:.N,by=minofday]\n",
    "test.dat=data.frame(test.dat)\n",
    "test.dat<-test.dat[,-13]\n",
    "head(test.dat)"
   ]
  },
  {
   "cell_type": "markdown",
   "metadata": {},
   "source": [
    "#### Generate `difflag` variables for `ac`"
   ]
  },
  {
   "cell_type": "code",
   "execution_count": 20,
   "metadata": {},
   "outputs": [
    {
     "data": {
      "text/plain": [
       "   Min. 1st Qu.  Median    Mean 3rd Qu.    Max. \n",
       "   1.00   15.00   17.00   21.44   23.00  585.00 "
      ]
     },
     "metadata": {},
     "output_type": "display_data"
    }
   ],
   "source": [
    "ac.data<-train.data\n",
    "\n",
    "#Extract only target column ac\n",
    "ac.data<-ac.data %>% select(-(4:7))\n",
    "\n",
    "##Create ac_grp that increments on the difference of ac\n",
    "ac.data$ac_grp <- cumsum(c(0,as.numeric(diff(ac.data$ac))!=0))\n",
    "\n",
    "#Get the data where ac=1\n",
    "ac.data.1<-ac.data[ac.data$ac==1,]\n",
    "\n",
    "#Get the count of ac_grp, hence obtain all the values of activation window for ac\n",
    "ac.window.size<-ac.data.1 %>% count(ac_grp)\n",
    "summary(ac.window.size$n)"
   ]
  },
  {
   "cell_type": "code",
   "execution_count": 21,
   "metadata": {},
   "outputs": [
    {
     "data": {
      "image/png": "[encoded data removed]",
      "text/plain": [
       "Plot with title \"Histogram of ac.window.size$n[ac.window.size$n < 100]\""
      ]
     },
     "metadata": {},
     "output_type": "display_data"
    }
   ],
   "source": [
    "#plot a histogram for activation window of ac\n",
    "hist(ac.window.size$n[ac.window.size$n<100],freq=FALSE)"
   ]
  },
  {
   "cell_type": "code",
   "execution_count": 22,
   "metadata": {},
   "outputs": [],
   "source": [
    "#activation window for ac seems to be predominantly around 10 to 30\n",
    "#Hence, create difference with lag 10 to lag 30\n",
    "for (i in 10:30){\n",
    "    ac.data[,paste0('difflag',i)]<-ac.data$load-lag(ac.data$load,i,na.pad=TRUE)\n",
    "}\n",
    "ac.data<-ac.data[-15]\n",
    "\n",
    "#Also generate the same difflag variables for ac test data\n",
    "ac.test<-test.dat\n",
    "for (i in 10:30){\n",
    "    ac.test[,paste0('difflag',i)]<-ac.test$load-lag(ac.test$load,i,na.pad=TRUE)\n",
    "}"
   ]
  },
  {
   "cell_type": "markdown",
   "metadata": {},
   "source": [
    "#### Generate `difflag` variables for `ev`"
   ]
  },
  {
   "cell_type": "code",
   "execution_count": 23,
   "metadata": {},
   "outputs": [
    {
     "data": {
      "text/plain": [
       "   Min. 1st Qu.  Median    Mean 3rd Qu.    Max. \n",
       "   2.00    9.00   18.00   80.52  157.00  239.00 "
      ]
     },
     "metadata": {},
     "output_type": "display_data"
    }
   ],
   "source": [
    "ev.data<-train.data\n",
    "\n",
    "#Extract only target column ev\n",
    "ev.data<-ev.data %>% select(-c(3,5,6,7))\n",
    "\n",
    "#Create ev_grp that increments on the difference of ac\n",
    "ev.data$ev_grp <- cumsum(c(0,as.numeric(diff(ev.data$ev))!=0))\n",
    "\n",
    "#Get the data where ev=1\n",
    "ev.data.1<-ev.data[ev.data$ev==1,]\n",
    "\n",
    "#Get the count of ev_grp, hence obtain all the values of activation window for ev\n",
    "ev.window.size<-ev.data.1 %>% count(ev_grp)\n",
    "summary(ev.window.size$n)"
   ]
  },
  {
   "cell_type": "code",
   "execution_count": 24,
   "metadata": {},
   "outputs": [
    {
     "data": {
      "image/png": "[encoded data removed]",
      "text/plain": [
       "Plot with title \"Histogram of ev.window.size$n\""
      ]
     },
     "metadata": {},
     "output_type": "display_data"
    }
   ],
   "source": [
    "# hist(ac.window.size$n[ac.window.size$n<100],freq=FALSE)\n",
    "hist(ev.window.size$n,freq=FALSE)"
   ]
  },
  {
   "cell_type": "code",
   "execution_count": 25,
   "metadata": {},
   "outputs": [],
   "source": [
    "#activation window for ev are much more spread out compared to ac, so we consider a wider range of values \n",
    "ev.lag<-c(10, 12, 14, 16, 18, 20, 50, 100, 120, 140, 160, 180, 200, 220, 240)\n",
    "for (i in ev.lag){\n",
    "    ev.data[,paste0('difflag',i)]<-ev.data$load-lag(ev.data$load,i,na.pad=TRUE)\n",
    "}\n",
    "ev.data<-ev.data[-15]\n",
    "\n",
    "#Also generate the same difflag variables for ev test data\n",
    "ev.test<-test.dat\n",
    "for (i in ev.lag){\n",
    "    ev.test[,paste0('difflag',i)]<-ev.test$load-lag(ev.test$load,i,na.pad=TRUE)\n",
    "}"
   ]
  },
  {
   "cell_type": "markdown",
   "metadata": {},
   "source": [
    "#### Generate `difflag` variables for `oven`"
   ]
  },
  {
   "cell_type": "code",
   "execution_count": 26,
   "metadata": {},
   "outputs": [
    {
     "data": {
      "text/plain": [
       "   Min. 1st Qu.  Median    Mean 3rd Qu.    Max. \n",
       "  1.000   3.000   3.000   5.568   5.000 143.000 "
      ]
     },
     "metadata": {},
     "output_type": "display_data"
    }
   ],
   "source": [
    "oven.data<-train.data\n",
    "\n",
    "#Extract only target column oven\n",
    "oven.data<-oven.data %>% select(-c(3,4,6,7))\n",
    "\n",
    "##Create oven_grp that increments on the difference of oven\n",
    "oven.data$oven_grp <- cumsum(c(0,as.numeric(diff(oven.data$oven))!=0))\n",
    "\n",
    "#Get the data where oven=1\n",
    "oven.data.1<-oven.data[oven.data$oven==1,]\n",
    "\n",
    "#Get the count of oven_grp, hence obtain all the values of activation window for oven\n",
    "oven.window.size<-oven.data.1 %>% count(oven_grp)\n",
    "summary(oven.window.size$n)"
   ]
  },
  {
   "cell_type": "code",
   "execution_count": 27,
   "metadata": {},
   "outputs": [
    {
     "data": {
      "image/png": "[encoded data removed]",
      "text/plain": [
       "Plot with title \"Histogram of oven.window.size$n[oven.window.size$n < 100]\""
      ]
     },
     "metadata": {},
     "output_type": "display_data"
    }
   ],
   "source": [
    "hist(oven.window.size$n[oven.window.size$n<100],freq=FALSE)"
   ]
  },
  {
   "cell_type": "code",
   "execution_count": 28,
   "metadata": {},
   "outputs": [],
   "source": [
    "#activation window for oven is mainly around 1 to 20 \n",
    "#Hence, create difference with lag 2 to lag 20\n",
    "for (i in 2:20){\n",
    "    oven.data[,paste0('difflag',i)]<-oven.data$load-lag(oven.data$load,i,na.pad=TRUE)\n",
    "}\n",
    "oven.data<-oven.data[-15]\n",
    "\n",
    "#Also generate the same difflag variables for oven test data\n",
    "oven.test<-test.dat\n",
    "for (i in 2:20){\n",
    "    oven.test[,paste0('difflag',i)]<-oven.test$load-lag(oven.test$load,i,na.pad=TRUE)\n",
    "}"
   ]
  },
  {
   "cell_type": "markdown",
   "metadata": {},
   "source": [
    "#### Generate `difflag` variables for `wash`"
   ]
  },
  {
   "cell_type": "code",
   "execution_count": 29,
   "metadata": {},
   "outputs": [
    {
     "data": {
      "text/plain": [
       "   Min. 1st Qu.  Median    Mean 3rd Qu.    Max. \n",
       "  1.000   2.000   3.000   6.387   5.000 103.000 "
      ]
     },
     "metadata": {},
     "output_type": "display_data"
    }
   ],
   "source": [
    "wash.data<-train.data\n",
    "\n",
    "#Extract only target column wash\n",
    "wash.data<-wash.data %>% select(-c(3,4,5,7))\n",
    "\n",
    "##Create wash_grp that increments on the difference of wash\n",
    "wash.data$wash_grp <- cumsum(c(0,as.numeric(diff(wash.data$wash))!=0))\n",
    "\n",
    "#Get the data where wash=1\n",
    "wash.data.1<-wash.data[wash.data$wash==1,]\n",
    "\n",
    "#Get the count of wash_grp, hence obtain all the values of activation window for wash\n",
    "wash.window.size<-wash.data.1 %>% count(wash_grp)\n",
    "summary(wash.window.size$n)"
   ]
  },
  {
   "cell_type": "code",
   "execution_count": 30,
   "metadata": {},
   "outputs": [
    {
     "data": {
      "image/png": "[encoded data removed]",
      "text/plain": [
       "Plot with title \"Histogram of wash.window.size$n\""
      ]
     },
     "metadata": {},
     "output_type": "display_data"
    }
   ],
   "source": [
    "hist(wash.window.size$n,freq=FALSE)"
   ]
  },
  {
   "cell_type": "code",
   "execution_count": 31,
   "metadata": {},
   "outputs": [],
   "source": [
    "#activation window for wash is mainly around 1 to 20 \n",
    "#Hence, create difference with lag 2 to lag 20\n",
    "for (i in 2:20){\n",
    "    wash.data[,paste0('difflag',i)]<-wash.data$load-lag(wash.data$load,i,na.pad=TRUE)\n",
    "}\n",
    "wash.data<-wash.data[-15]\n",
    "\n",
    "#Also generate the same difflag variables for wash test data\n",
    "wash.test<-test.dat\n",
    "for (i in 2:20){\n",
    "    wash.test[,paste0('difflag',i)]<-wash.test$load-lag(wash.test$load,i,na.pad=TRUE)\n",
    "}"
   ]
  },
  {
   "cell_type": "markdown",
   "metadata": {},
   "source": [
    "#### Generate `difflag` variables for `dryer`"
   ]
  },
  {
   "cell_type": "code",
   "execution_count": 32,
   "metadata": {},
   "outputs": [
    {
     "data": {
      "text/plain": [
       "   Min. 1st Qu.  Median    Mean 3rd Qu.    Max. \n",
       "   1.00   45.00   87.00   88.09  135.00  177.00 "
      ]
     },
     "metadata": {},
     "output_type": "display_data"
    }
   ],
   "source": [
    "dryer.data<-train.data\n",
    "\n",
    "#Extract only target column dryer\n",
    "dryer.data<-dryer.data %>% select(-c(3,4,5,6))\n",
    "\n",
    "##Create dryer_grp that increments on the difference of dryer\n",
    "dryer.data$dryer_grp <- cumsum(c(0,as.numeric(diff(dryer.data$dryer))!=0))\n",
    "\n",
    "##Get the data where dryer=1\n",
    "dryer.data.1<-dryer.data[dryer.data$dryer==1,]\n",
    "\n",
    "##Get the count of dryer_grp, hence obtain all the values of activation window for dryer\n",
    "dryer.window.size<-dryer.data.1 %>% count(dryer_grp)\n",
    "summary(dryer.window.size$n)"
   ]
  },
  {
   "cell_type": "code",
   "execution_count": 33,
   "metadata": {},
   "outputs": [
    {
     "data": {
      "image/png": "[encoded data removed]",
      "text/plain": [
       "Plot with title \"Histogram of dryer.window.size$n\""
      ]
     },
     "metadata": {},
     "output_type": "display_data"
    }
   ],
   "source": [
    "hist(dryer.window.size$n,freq=FALSE)"
   ]
  },
  {
   "cell_type": "code",
   "execution_count": 34,
   "metadata": {},
   "outputs": [],
   "source": [
    "#Activation windows of dryer have no most commonly-occurred range, take on different range of values almost equally\n",
    "#Hence, create difference with lag 20 to lag 180, step by 10\n",
    "dryer.lag<-seq(20,180,10)\n",
    "for (i in dryer.lag){\n",
    "    dryer.data[,paste0('difflag',i)]<-dryer.data$load-lag(dryer.data$load,i,na.pad=TRUE)\n",
    "}\n",
    "dryer.data<-dryer.data[-15]\n",
    "\n",
    "#Also generate the same difflag variables for dryer test data\n",
    "dryer.test<-test.dat\n",
    "for (i in dryer.lag){\n",
    "    dryer.test[,paste0('difflag',i)]<-dryer.test$load-lag(dryer.test$load,i,na.pad=TRUE)\n",
    "}"
   ]
  },
  {
   "cell_type": "markdown",
   "metadata": {},
   "source": [
    "Since there are severe class imbalance issue in this data, we will make use of `f1 score` as the evaluation metrics. Now, we define a function to help us get f1 score from the actual true label and the prediction"
   ]
  },
  {
   "cell_type": "code",
   "execution_count": 35,
   "metadata": {},
   "outputs": [],
   "source": [
    "f1<-function(truth,predict){\n",
    "    conf.mat<-table(truth,predict)\n",
    "    precision<-(conf.mat[2,2])/(conf.mat[2,2]+conf.mat[1,2])\n",
    "    recall<-(conf.mat[2,2])/(conf.mat[2,2]+conf.mat[2,1])\n",
    "    #handle zero division\n",
    "    f1_score<-ifelse(conf.mat[2,2]==0,0,2*(precision*recall)/(precision+recall))\n",
    "    return (f1_score)\n",
    "}"
   ]
  },
  {
   "cell_type": "markdown",
   "metadata": {},
   "source": [
    "## 2. Model Development <a class=\"anchor\" id=\"2\"></a>"
   ]
  },
  {
   "cell_type": "markdown",
   "metadata": {},
   "source": [
    "### Build classifier for `ac`"
   ]
  },
  {
   "cell_type": "code",
   "execution_count": 36,
   "metadata": {},
   "outputs": [
    {
     "data": {
      "text/plain": [
       "\n",
       "     0      1 \n",
       "316267 101103 "
      ]
     },
     "metadata": {},
     "output_type": "display_data"
    }
   ],
   "source": [
    "table(ac.data$ac)"
   ]
  },
  {
   "cell_type": "markdown",
   "metadata": {},
   "source": [
    "There is no severe class imbalance issue for `ac`"
   ]
  },
  {
   "cell_type": "code",
   "execution_count": 37,
   "metadata": {},
   "outputs": [
    {
     "data": {
      "text/html": [
       "<table>\n",
       "<thead><tr><th></th><th scope=col>load</th><th scope=col>ac</th><th scope=col>hourofday</th><th scope=col>dayofweek</th><th scope=col>dif</th><th scope=col>absdif</th><th scope=col>max</th><th scope=col>var</th><th scope=col>entropy</th><th scope=col>nonlinear</th><th scope=col>...</th><th scope=col>difflag21</th><th scope=col>difflag22</th><th scope=col>difflag23</th><th scope=col>difflag24</th><th scope=col>difflag25</th><th scope=col>difflag26</th><th scope=col>difflag27</th><th scope=col>difflag28</th><th scope=col>difflag29</th><th scope=col>difflag30</th></tr></thead>\n",
       "<tbody>\n",
       "\t<tr><th scope=row>24</th><td>3.361    </td><td>1        </td><td>0        </td><td>Sun      </td><td> 0.941   </td><td>0.941    </td><td>6.215    </td><td>3.208320 </td><td>0.6568986</td><td>0.3055014</td><td>...      </td><td>1.092    </td><td>1.102    </td><td>1.116    </td><td>   NA    </td><td>   NA    </td><td>   NA    </td><td>   NA    </td><td>   NA    </td><td>NA       </td><td>NA       </td></tr>\n",
       "\t<tr><th scope=row>25</th><td>6.167    </td><td>1        </td><td>0        </td><td>Sun      </td><td> 2.806   </td><td>2.806    </td><td>6.215    </td><td>3.209429 </td><td>0.6483738</td><td>0.3068348</td><td>...      </td><td>3.899    </td><td>3.898    </td><td>3.908    </td><td>3.922    </td><td>   NA    </td><td>   NA    </td><td>   NA    </td><td>   NA    </td><td>NA       </td><td>NA       </td></tr>\n",
       "\t<tr><th scope=row>26</th><td>6.204    </td><td>1        </td><td>0        </td><td>Sun      </td><td> 0.037   </td><td>0.037    </td><td>6.215    </td><td>3.210533 </td><td>0.6323101</td><td>0.3064766</td><td>...      </td><td>3.934    </td><td>3.936    </td><td>3.935    </td><td>3.945    </td><td>3.959    </td><td>   NA    </td><td>   NA    </td><td>   NA    </td><td>NA       </td><td>NA       </td></tr>\n",
       "\t<tr><th scope=row>27</th><td>6.215    </td><td>1        </td><td>0        </td><td>Sun      </td><td> 0.011   </td><td>0.011    </td><td>6.215    </td><td>3.211904 </td><td>0.6157109</td><td>0.3029531</td><td>...      </td><td>3.956    </td><td>3.945    </td><td>3.947    </td><td>3.946    </td><td>3.956    </td><td>3.970    </td><td>   NA    </td><td>   NA    </td><td>NA       </td><td>NA       </td></tr>\n",
       "\t<tr><th scope=row>28</th><td>6.207    </td><td>1        </td><td>0        </td><td>Sun      </td><td>-0.008   </td><td>0.008    </td><td>6.215    </td><td>3.210240 </td><td>0.6082089</td><td>0.3023561</td><td>...      </td><td>3.957    </td><td>3.948    </td><td>3.937    </td><td>3.939    </td><td>3.938    </td><td>3.948    </td><td>3.962    </td><td>   NA    </td><td>NA       </td><td>NA       </td></tr>\n",
       "\t<tr><th scope=row>29</th><td>6.199    </td><td>1        </td><td>0        </td><td>Sun      </td><td>-0.008   </td><td>0.008    </td><td>6.215    </td><td>3.208092 </td><td>0.6153455</td><td>0.3016025</td><td>...      </td><td>3.948    </td><td>3.949    </td><td>3.940    </td><td>3.929    </td><td>3.931    </td><td>3.930    </td><td>3.940    </td><td>3.954    </td><td>NA       </td><td>NA       </td></tr>\n",
       "</tbody>\n",
       "</table>\n"
      ],
      "text/latex": [
       "\\begin{tabular}{r|llllllllllllllllllllllllllllllllll}\n",
       "  & load & ac & hourofday & dayofweek & dif & absdif & max & var & entropy & nonlinear & ... & difflag21 & difflag22 & difflag23 & difflag24 & difflag25 & difflag26 & difflag27 & difflag28 & difflag29 & difflag30\\\\\n",
       "\\hline\n",
       "\t24 & 3.361     & 1         & 0         & Sun       &  0.941    & 0.941     & 6.215     & 3.208320  & 0.6568986 & 0.3055014 & ...       & 1.092     & 1.102     & 1.116     &    NA     &    NA     &    NA     &    NA     &    NA     & NA        & NA       \\\\\n",
       "\t25 & 6.167     & 1         & 0         & Sun       &  2.806    & 2.806     & 6.215     & 3.209429  & 0.6483738 & 0.3068348 & ...       & 3.899     & 3.898     & 3.908     & 3.922     &    NA     &    NA     &    NA     &    NA     & NA        & NA       \\\\\n",
       "\t26 & 6.204     & 1         & 0         & Sun       &  0.037    & 0.037     & 6.215     & 3.210533  & 0.6323101 & 0.3064766 & ...       & 3.934     & 3.936     & 3.935     & 3.945     & 3.959     &    NA     &    NA     &    NA     & NA        & NA       \\\\\n",
       "\t27 & 6.215     & 1         & 0         & Sun       &  0.011    & 0.011     & 6.215     & 3.211904  & 0.6157109 & 0.3029531 & ...       & 3.956     & 3.945     & 3.947     & 3.946     & 3.956     & 3.970     &    NA     &    NA     & NA        & NA       \\\\\n",
       "\t28 & 6.207     & 1         & 0         & Sun       & -0.008    & 0.008     & 6.215     & 3.210240  & 0.6082089 & 0.3023561 & ...       & 3.957     & 3.948     & 3.937     & 3.939     & 3.938     & 3.948     & 3.962     &    NA     & NA        & NA       \\\\\n",
       "\t29 & 6.199     & 1         & 0         & Sun       & -0.008    & 0.008     & 6.215     & 3.208092  & 0.6153455 & 0.3016025 & ...       & 3.948     & 3.949     & 3.940     & 3.929     & 3.931     & 3.930     & 3.940     & 3.954     & NA        & NA       \\\\\n",
       "\\end{tabular}\n"
      ],
      "text/markdown": [
       "\n",
       "| <!--/--> | load | ac | hourofday | dayofweek | dif | absdif | max | var | entropy | nonlinear | ... | difflag21 | difflag22 | difflag23 | difflag24 | difflag25 | difflag26 | difflag27 | difflag28 | difflag29 | difflag30 |\n",
       "|---|---|---|---|---|---|---|---|---|---|---|---|---|---|---|---|---|---|---|---|---|---|\n",
       "| 24 | 3.361     | 1         | 0         | Sun       |  0.941    | 0.941     | 6.215     | 3.208320  | 0.6568986 | 0.3055014 | ...       | 1.092     | 1.102     | 1.116     |    NA     |    NA     |    NA     |    NA     |    NA     | NA        | NA        |\n",
       "| 25 | 6.167     | 1         | 0         | Sun       |  2.806    | 2.806     | 6.215     | 3.209429  | 0.6483738 | 0.3068348 | ...       | 3.899     | 3.898     | 3.908     | 3.922     |    NA     |    NA     |    NA     |    NA     | NA        | NA        |\n",
       "| 26 | 6.204     | 1         | 0         | Sun       |  0.037    | 0.037     | 6.215     | 3.210533  | 0.6323101 | 0.3064766 | ...       | 3.934     | 3.936     | 3.935     | 3.945     | 3.959     |    NA     |    NA     |    NA     | NA        | NA        |\n",
       "| 27 | 6.215     | 1         | 0         | Sun       |  0.011    | 0.011     | 6.215     | 3.211904  | 0.6157109 | 0.3029531 | ...       | 3.956     | 3.945     | 3.947     | 3.946     | 3.956     | 3.970     |    NA     |    NA     | NA        | NA        |\n",
       "| 28 | 6.207     | 1         | 0         | Sun       | -0.008    | 0.008     | 6.215     | 3.210240  | 0.6082089 | 0.3023561 | ...       | 3.957     | 3.948     | 3.937     | 3.939     | 3.938     | 3.948     | 3.962     |    NA     | NA        | NA        |\n",
       "| 29 | 6.199     | 1         | 0         | Sun       | -0.008    | 0.008     | 6.215     | 3.208092  | 0.6153455 | 0.3016025 | ...       | 3.948     | 3.949     | 3.940     | 3.929     | 3.931     | 3.930     | 3.940     | 3.954     | NA        | NA        |\n",
       "\n"
      ],
      "text/plain": [
       "   load  ac hourofday dayofweek dif    absdif max   var      entropy  \n",
       "24 3.361 1  0         Sun        0.941 0.941  6.215 3.208320 0.6568986\n",
       "25 6.167 1  0         Sun        2.806 2.806  6.215 3.209429 0.6483738\n",
       "26 6.204 1  0         Sun        0.037 0.037  6.215 3.210533 0.6323101\n",
       "27 6.215 1  0         Sun        0.011 0.011  6.215 3.211904 0.6157109\n",
       "28 6.207 1  0         Sun       -0.008 0.008  6.215 3.210240 0.6082089\n",
       "29 6.199 1  0         Sun       -0.008 0.008  6.215 3.208092 0.6153455\n",
       "   nonlinear ... difflag21 difflag22 difflag23 difflag24 difflag25 difflag26\n",
       "24 0.3055014 ... 1.092     1.102     1.116        NA        NA        NA    \n",
       "25 0.3068348 ... 3.899     3.898     3.908     3.922        NA        NA    \n",
       "26 0.3064766 ... 3.934     3.936     3.935     3.945     3.959        NA    \n",
       "27 0.3029531 ... 3.956     3.945     3.947     3.946     3.956     3.970    \n",
       "28 0.3023561 ... 3.957     3.948     3.937     3.939     3.938     3.948    \n",
       "29 0.3016025 ... 3.948     3.949     3.940     3.929     3.931     3.930    \n",
       "   difflag27 difflag28 difflag29 difflag30\n",
       "24    NA        NA     NA        NA       \n",
       "25    NA        NA     NA        NA       \n",
       "26    NA        NA     NA        NA       \n",
       "27    NA        NA     NA        NA       \n",
       "28 3.962        NA     NA        NA       \n",
       "29 3.940     3.954     NA        NA       "
      ]
     },
     "metadata": {},
     "output_type": "display_data"
    }
   ],
   "source": [
    "#Get rid of X column\n",
    "ac.data<-ac.data[-1]\n",
    "#Get only rows where ac=1\n",
    "ac.only<-ac.data[ac.data$ac==1,]\n",
    "head(ac.only)"
   ]
  },
  {
   "cell_type": "code",
   "execution_count": 38,
   "metadata": {},
   "outputs": [
    {
     "data": {
      "text/html": [
       "<table>\n",
       "<thead><tr><th></th><th scope=col>load</th><th scope=col>ac</th><th scope=col>hourofday</th><th scope=col>dayofweek</th><th scope=col>dif</th><th scope=col>absdif</th><th scope=col>max</th><th scope=col>var</th><th scope=col>entropy</th><th scope=col>nonlinear</th><th scope=col>...</th><th scope=col>difflag21</th><th scope=col>difflag22</th><th scope=col>difflag23</th><th scope=col>difflag24</th><th scope=col>difflag25</th><th scope=col>difflag26</th><th scope=col>difflag27</th><th scope=col>difflag28</th><th scope=col>difflag29</th><th scope=col>difflag30</th></tr></thead>\n",
       "<tbody>\n",
       "\t<tr><th scope=row>256726</th><td>4.161    </td><td>1        </td><td>23       </td><td>Wed      </td><td> 0.033   </td><td>0.033    </td><td>5.528    </td><td>2.124582 </td><td>0.6717405</td><td>0.6583473</td><td>...      </td><td>3.203    </td><td>3.201    </td><td>3.206    </td><td>3.192    </td><td>3.193    </td><td>3.191    </td><td>3.198    </td><td>3.197    </td><td>3.211    </td><td>3.211    </td></tr>\n",
       "\t<tr><th scope=row>256727</th><td>4.159    </td><td>1        </td><td>23       </td><td>Wed      </td><td>-0.002   </td><td>0.002    </td><td>5.528    </td><td>2.136711 </td><td>0.6752240</td><td>0.6627708</td><td>...      </td><td>3.206    </td><td>3.201    </td><td>3.199    </td><td>3.204    </td><td>3.190    </td><td>3.191    </td><td>3.189    </td><td>3.196    </td><td>3.195    </td><td>3.209    </td></tr>\n",
       "\t<tr><th scope=row>256728</th><td>4.125    </td><td>1        </td><td>23       </td><td>Wed      </td><td>-0.034   </td><td>0.034    </td><td>5.528    </td><td>2.148734 </td><td>0.6735393</td><td>0.6662568</td><td>...      </td><td>3.171    </td><td>3.172    </td><td>3.167    </td><td>3.165    </td><td>3.170    </td><td>3.156    </td><td>3.157    </td><td>3.155    </td><td>3.162    </td><td>3.161    </td></tr>\n",
       "\t<tr><th scope=row>256729</th><td>4.116    </td><td>1        </td><td>23       </td><td>Wed      </td><td>-0.009   </td><td>0.009    </td><td>5.528    </td><td>2.160962 </td><td>0.6689354</td><td>0.6729648</td><td>...      </td><td>3.164    </td><td>3.162    </td><td>3.163    </td><td>3.158    </td><td>3.156    </td><td>3.161    </td><td>3.147    </td><td>3.148    </td><td>3.146    </td><td>3.153    </td></tr>\n",
       "\t<tr><th scope=row>256730</th><td>4.116    </td><td>1        </td><td>23       </td><td>Wed      </td><td> 0.000   </td><td>0.000    </td><td>5.528    </td><td>2.172718 </td><td>0.6635515</td><td>0.6778273</td><td>...      </td><td>3.163    </td><td>3.164    </td><td>3.162    </td><td>3.163    </td><td>3.158    </td><td>3.156    </td><td>3.161    </td><td>3.147    </td><td>3.148    </td><td>3.146    </td></tr>\n",
       "\t<tr><th scope=row>256731</th><td>3.965    </td><td>1        </td><td>23       </td><td>Wed      </td><td>-0.151   </td><td>0.151    </td><td>5.528    </td><td>2.184972 </td><td>0.6588178</td><td>0.6891294</td><td>...      </td><td>3.020    </td><td>3.012    </td><td>3.013    </td><td>3.011    </td><td>3.012    </td><td>3.007    </td><td>3.005    </td><td>3.010    </td><td>2.996    </td><td>2.997    </td></tr>\n",
       "</tbody>\n",
       "</table>\n"
      ],
      "text/latex": [
       "\\begin{tabular}{r|llllllllllllllllllllllllllllllllll}\n",
       "  & load & ac & hourofday & dayofweek & dif & absdif & max & var & entropy & nonlinear & ... & difflag21 & difflag22 & difflag23 & difflag24 & difflag25 & difflag26 & difflag27 & difflag28 & difflag29 & difflag30\\\\\n",
       "\\hline\n",
       "\t256726 & 4.161     & 1         & 23        & Wed       &  0.033    & 0.033     & 5.528     & 2.124582  & 0.6717405 & 0.6583473 & ...       & 3.203     & 3.201     & 3.206     & 3.192     & 3.193     & 3.191     & 3.198     & 3.197     & 3.211     & 3.211    \\\\\n",
       "\t256727 & 4.159     & 1         & 23        & Wed       & -0.002    & 0.002     & 5.528     & 2.136711  & 0.6752240 & 0.6627708 & ...       & 3.206     & 3.201     & 3.199     & 3.204     & 3.190     & 3.191     & 3.189     & 3.196     & 3.195     & 3.209    \\\\\n",
       "\t256728 & 4.125     & 1         & 23        & Wed       & -0.034    & 0.034     & 5.528     & 2.148734  & 0.6735393 & 0.6662568 & ...       & 3.171     & 3.172     & 3.167     & 3.165     & 3.170     & 3.156     & 3.157     & 3.155     & 3.162     & 3.161    \\\\\n",
       "\t256729 & 4.116     & 1         & 23        & Wed       & -0.009    & 0.009     & 5.528     & 2.160962  & 0.6689354 & 0.6729648 & ...       & 3.164     & 3.162     & 3.163     & 3.158     & 3.156     & 3.161     & 3.147     & 3.148     & 3.146     & 3.153    \\\\\n",
       "\t256730 & 4.116     & 1         & 23        & Wed       &  0.000    & 0.000     & 5.528     & 2.172718  & 0.6635515 & 0.6778273 & ...       & 3.163     & 3.164     & 3.162     & 3.163     & 3.158     & 3.156     & 3.161     & 3.147     & 3.148     & 3.146    \\\\\n",
       "\t256731 & 3.965     & 1         & 23        & Wed       & -0.151    & 0.151     & 5.528     & 2.184972  & 0.6588178 & 0.6891294 & ...       & 3.020     & 3.012     & 3.013     & 3.011     & 3.012     & 3.007     & 3.005     & 3.010     & 2.996     & 2.997    \\\\\n",
       "\\end{tabular}\n"
      ],
      "text/markdown": [
       "\n",
       "| <!--/--> | load | ac | hourofday | dayofweek | dif | absdif | max | var | entropy | nonlinear | ... | difflag21 | difflag22 | difflag23 | difflag24 | difflag25 | difflag26 | difflag27 | difflag28 | difflag29 | difflag30 |\n",
       "|---|---|---|---|---|---|---|---|---|---|---|---|---|---|---|---|---|---|---|---|---|---|\n",
       "| 256726 | 4.161     | 1         | 23        | Wed       |  0.033    | 0.033     | 5.528     | 2.124582  | 0.6717405 | 0.6583473 | ...       | 3.203     | 3.201     | 3.206     | 3.192     | 3.193     | 3.191     | 3.198     | 3.197     | 3.211     | 3.211     |\n",
       "| 256727 | 4.159     | 1         | 23        | Wed       | -0.002    | 0.002     | 5.528     | 2.136711  | 0.6752240 | 0.6627708 | ...       | 3.206     | 3.201     | 3.199     | 3.204     | 3.190     | 3.191     | 3.189     | 3.196     | 3.195     | 3.209     |\n",
       "| 256728 | 4.125     | 1         | 23        | Wed       | -0.034    | 0.034     | 5.528     | 2.148734  | 0.6735393 | 0.6662568 | ...       | 3.171     | 3.172     | 3.167     | 3.165     | 3.170     | 3.156     | 3.157     | 3.155     | 3.162     | 3.161     |\n",
       "| 256729 | 4.116     | 1         | 23        | Wed       | -0.009    | 0.009     | 5.528     | 2.160962  | 0.6689354 | 0.6729648 | ...       | 3.164     | 3.162     | 3.163     | 3.158     | 3.156     | 3.161     | 3.147     | 3.148     | 3.146     | 3.153     |\n",
       "| 256730 | 4.116     | 1         | 23        | Wed       |  0.000    | 0.000     | 5.528     | 2.172718  | 0.6635515 | 0.6778273 | ...       | 3.163     | 3.164     | 3.162     | 3.163     | 3.158     | 3.156     | 3.161     | 3.147     | 3.148     | 3.146     |\n",
       "| 256731 | 3.965     | 1         | 23        | Wed       | -0.151    | 0.151     | 5.528     | 2.184972  | 0.6588178 | 0.6891294 | ...       | 3.020     | 3.012     | 3.013     | 3.011     | 3.012     | 3.007     | 3.005     | 3.010     | 2.996     | 2.997     |\n",
       "\n"
      ],
      "text/plain": [
       "       load  ac hourofday dayofweek dif    absdif max   var      entropy  \n",
       "256726 4.161 1  23        Wed        0.033 0.033  5.528 2.124582 0.6717405\n",
       "256727 4.159 1  23        Wed       -0.002 0.002  5.528 2.136711 0.6752240\n",
       "256728 4.125 1  23        Wed       -0.034 0.034  5.528 2.148734 0.6735393\n",
       "256729 4.116 1  23        Wed       -0.009 0.009  5.528 2.160962 0.6689354\n",
       "256730 4.116 1  23        Wed        0.000 0.000  5.528 2.172718 0.6635515\n",
       "256731 3.965 1  23        Wed       -0.151 0.151  5.528 2.184972 0.6588178\n",
       "       nonlinear ... difflag21 difflag22 difflag23 difflag24 difflag25\n",
       "256726 0.6583473 ... 3.203     3.201     3.206     3.192     3.193    \n",
       "256727 0.6627708 ... 3.206     3.201     3.199     3.204     3.190    \n",
       "256728 0.6662568 ... 3.171     3.172     3.167     3.165     3.170    \n",
       "256729 0.6729648 ... 3.164     3.162     3.163     3.158     3.156    \n",
       "256730 0.6778273 ... 3.163     3.164     3.162     3.163     3.158    \n",
       "256731 0.6891294 ... 3.020     3.012     3.013     3.011     3.012    \n",
       "       difflag26 difflag27 difflag28 difflag29 difflag30\n",
       "256726 3.191     3.198     3.197     3.211     3.211    \n",
       "256727 3.191     3.189     3.196     3.195     3.209    \n",
       "256728 3.156     3.157     3.155     3.162     3.161    \n",
       "256729 3.161     3.147     3.148     3.146     3.153    \n",
       "256730 3.156     3.161     3.147     3.148     3.146    \n",
       "256731 3.007     3.005     3.010     2.996     2.997    "
      ]
     },
     "metadata": {},
     "output_type": "display_data"
    }
   ],
   "source": [
    "#the last seen observation where ac=1 is row with index 256731\n",
    "tail(ac.only)"
   ]
  },
  {
   "cell_type": "code",
   "execution_count": 39,
   "metadata": {},
   "outputs": [
    {
     "data": {
      "text/html": [
       "<ol class=list-inline>\n",
       "\t<li>417370</li>\n",
       "\t<li>34</li>\n",
       "</ol>\n"
      ],
      "text/latex": [
       "\\begin{enumerate*}\n",
       "\\item 417370\n",
       "\\item 34\n",
       "\\end{enumerate*}\n"
      ],
      "text/markdown": [
       "1. 417370\n",
       "2. 34\n",
       "\n",
       "\n"
      ],
      "text/plain": [
       "[1] 417370     34"
      ]
     },
     "metadata": {},
     "output_type": "display_data"
    },
    {
     "name": "stdout",
     "output_type": "stream",
     "text": [
      "The last 160639 rows of ac.data have ac all equal to 0"
     ]
    }
   ],
   "source": [
    "dim(ac.data)\n",
    "cat('The last',dim(ac.data)[1]-256731,'rows of ac.data have ac all equal to 0')"
   ]
  },
  {
   "cell_type": "markdown",
   "metadata": {},
   "source": [
    "This is problematic because later on when we split the data into training and validation to do cross validation, if any validation split is within these 160639 rows, f1 score will be 0. So we train the classifier only on the first 300000 rows of `ac.data`"
   ]
  },
  {
   "cell_type": "code",
   "execution_count": 41,
   "metadata": {},
   "outputs": [],
   "source": [
    "ac.sampling=ac.data[1:300000,]"
   ]
  },
  {
   "cell_type": "markdown",
   "metadata": {},
   "source": [
    "We build a randomForest classfier to model `ac`"
   ]
  },
  {
   "cell_type": "code",
   "execution_count": 42,
   "metadata": {},
   "outputs": [],
   "source": [
    "#train/valid split for time-series -> rolling basis\n",
    "#split into 4 non-overlapping, equal-in-size folds\n",
    "ac.split<-split(ac.sampling,(as.numeric(rownames(ac.sampling))-1) %/% floor(nrow(ac.sampling)/4+1))\n",
    "\n",
    "#training folds\n",
    "train.ac.f1<-ac.split$'0'\n",
    "train.ac.f2<-rbind(train.ac.f1,ac.split$'1')\n",
    "train.ac.f3<-rbind(train.ac.f2,ac.split$'2')\n",
    "\n",
    "#validation folds\n",
    "val.ac.f1<-ac.split$'1'\n",
    "val.ac.f2<-ac.split$'2'\n",
    "val.ac.f3<-ac.split$'3'"
   ]
  },
  {
   "cell_type": "code",
   "execution_count": 43,
   "metadata": {},
   "outputs": [],
   "source": [
    "#cross validation to tune the number of tree\n",
    "#For reproducibility\n",
    "set.seed(1)\n",
    "\n",
    "#Initialize an empty dataframe to store the tree and its resulting f1\n",
    "ac.evaluation<-data.frame()\n",
    "\n",
    "#No of trees to consider\n",
    "no.tree<-seq(150,300,25)\n",
    "counter<-1\n",
    "\n",
    "#For each tree\n",
    "for (j in no.tree){\n",
    "    f1.j<-c()\n",
    "    \n",
    "    #perform 3-rolling-fold cross validation\n",
    "    for (i in 1:3){\n",
    "        \n",
    "        #get the earlier fold as training fold\n",
    "        train=eval(as.name(paste0('train.ac.f',i)))\n",
    "        #get later fold as validation fold\n",
    "        valid=eval(as.name(paste0('val.ac.f',i)))\n",
    "        \n",
    "        #train the randomforest for ac\n",
    "        ac.rf=randomForest(ac~.,data=train,mtry=6,ntree=j,na.action=na.omit)\n",
    "        \n",
    "        #get the prediction on validation fold\n",
    "        pred<-predict(ac.rf,newdata=valid)\n",
    "        \n",
    "        #compute f1\n",
    "        f1.score<-f1(valid$ac,pred)\n",
    "        f1.j<-c(f1.j,f1.score)\n",
    "    }\n",
    "    \n",
    "    #get the average f1 for cross validation\n",
    "    ac.f1<-sum(f1.j)/length(f1.j)\n",
    "    \n",
    "    #store values in dataframe\n",
    "    ac.evaluation[counter,'no_tree']<-j\n",
    "    ac.evaluation[counter,'f1_score']<-ac.f1\n",
    "    counter<-counter+1\n",
    "}"
   ]
  },
  {
   "cell_type": "code",
   "execution_count": 44,
   "metadata": {},
   "outputs": [
    {
     "data": {
      "text/html": [
       "<table>\n",
       "<thead><tr><th scope=col>no_tree</th><th scope=col>f1_score</th></tr></thead>\n",
       "<tbody>\n",
       "\t<tr><td>150      </td><td>0.8954407</td></tr>\n",
       "\t<tr><td>175      </td><td>0.8925917</td></tr>\n",
       "\t<tr><td>200      </td><td>0.8893592</td></tr>\n",
       "\t<tr><td>225      </td><td>0.8906719</td></tr>\n",
       "\t<tr><td>250      </td><td>0.8943096</td></tr>\n",
       "\t<tr><td>275      </td><td>0.8907099</td></tr>\n",
       "\t<tr><td>300      </td><td>0.8913951</td></tr>\n",
       "</tbody>\n",
       "</table>\n"
      ],
      "text/latex": [
       "\\begin{tabular}{r|ll}\n",
       " no\\_tree & f1\\_score\\\\\n",
       "\\hline\n",
       "\t 150       & 0.8954407\\\\\n",
       "\t 175       & 0.8925917\\\\\n",
       "\t 200       & 0.8893592\\\\\n",
       "\t 225       & 0.8906719\\\\\n",
       "\t 250       & 0.8943096\\\\\n",
       "\t 275       & 0.8907099\\\\\n",
       "\t 300       & 0.8913951\\\\\n",
       "\\end{tabular}\n"
      ],
      "text/markdown": [
       "\n",
       "| no_tree | f1_score |\n",
       "|---|---|\n",
       "| 150       | 0.8954407 |\n",
       "| 175       | 0.8925917 |\n",
       "| 200       | 0.8893592 |\n",
       "| 225       | 0.8906719 |\n",
       "| 250       | 0.8943096 |\n",
       "| 275       | 0.8907099 |\n",
       "| 300       | 0.8913951 |\n",
       "\n"
      ],
      "text/plain": [
       "  no_tree f1_score \n",
       "1 150     0.8954407\n",
       "2 175     0.8925917\n",
       "3 200     0.8893592\n",
       "4 225     0.8906719\n",
       "5 250     0.8943096\n",
       "6 275     0.8907099\n",
       "7 300     0.8913951"
      ]
     },
     "metadata": {},
     "output_type": "display_data"
    }
   ],
   "source": [
    "ac.evaluation"
   ]
  },
  {
   "cell_type": "code",
   "execution_count": 45,
   "metadata": {},
   "outputs": [
    {
     "data": {
      "text/html": [
       "<table>\n",
       "<thead><tr><th scope=col>no_tree</th><th scope=col>f1_score</th></tr></thead>\n",
       "<tbody>\n",
       "\t<tr><td>150      </td><td>0.8954407</td></tr>\n",
       "</tbody>\n",
       "</table>\n"
      ],
      "text/latex": [
       "\\begin{tabular}{r|ll}\n",
       " no\\_tree & f1\\_score\\\\\n",
       "\\hline\n",
       "\t 150       & 0.8954407\\\\\n",
       "\\end{tabular}\n"
      ],
      "text/markdown": [
       "\n",
       "| no_tree | f1_score |\n",
       "|---|---|\n",
       "| 150       | 0.8954407 |\n",
       "\n"
      ],
      "text/plain": [
       "  no_tree f1_score \n",
       "1 150     0.8954407"
      ]
     },
     "metadata": {},
     "output_type": "display_data"
    }
   ],
   "source": [
    "#Get the value of tree that results in the highest cross validated f1 score\n",
    "ac.evaluation[ac.evaluation$f1_score==max(ac.evaluation$f1_score),]"
   ]
  },
  {
   "cell_type": "code",
   "execution_count": 46,
   "metadata": {},
   "outputs": [],
   "source": [
    "#retrain the model on the whole ac.sampling data with the best value of tree\n",
    "set.seed(1)\n",
    "ac.rf<-randomForest(ac~.,data=ac.sampling,mtry=6,ntree=150,na.action=na.omit,importance=TRUE)"
   ]
  },
  {
   "cell_type": "code",
   "execution_count": 47,
   "metadata": {},
   "outputs": [
    {
     "data": {
      "text/plain": [
       "Confusion Matrix and Statistics\n",
       "\n",
       "     predict\n",
       "truth      0      1\n",
       "    0 315489    755\n",
       "    1      0 101096\n",
       "                                          \n",
       "               Accuracy : 0.9982          \n",
       "                 95% CI : (0.9981, 0.9983)\n",
       "    No Information Rate : 0.756           \n",
       "    P-Value [Acc > NIR] : < 2.2e-16       \n",
       "                                          \n",
       "                  Kappa : 0.9951          \n",
       "                                          \n",
       " Mcnemar's Test P-Value : < 2.2e-16       \n",
       "                                          \n",
       "            Sensitivity : 0.9926          \n",
       "            Specificity : 1.0000          \n",
       "         Pos Pred Value : 1.0000          \n",
       "         Neg Pred Value : 0.9976          \n",
       "             Prevalence : 0.2440          \n",
       "         Detection Rate : 0.2422          \n",
       "   Detection Prevalence : 0.2422          \n",
       "      Balanced Accuracy : 0.9963          \n",
       "                                          \n",
       "       'Positive' Class : 1               \n",
       "                                          "
      ]
     },
     "metadata": {},
     "output_type": "display_data"
    }
   ],
   "source": [
    "#get the prediction on the whole ac.data\n",
    "rf.ac.pred<-predict(ac.rf,ac.data)\n",
    "\n",
    "#compute confusion matrix\n",
    "confusionMatrix(table(truth=ac.data$ac,predict=rf.ac.pred),positive='1') #perfect on training set"
   ]
  },
  {
   "cell_type": "code",
   "execution_count": 48,
   "metadata": {},
   "outputs": [
    {
     "data": {
      "text/html": [
       "0.996279816898008"
      ],
      "text/latex": [
       "0.996279816898008"
      ],
      "text/markdown": [
       "0.996279816898008"
      ],
      "text/plain": [
       "[1] 0.9962798"
      ]
     },
     "metadata": {},
     "output_type": "display_data"
    }
   ],
   "source": [
    "#Get f1 score\n",
    "ac.f1<-f1(ac.data$ac,rf.ac.pred)\n",
    "ac.f1"
   ]
  },
  {
   "cell_type": "markdown",
   "metadata": {},
   "source": [
    "Using Random Forest, we manage to get a very high `f1 score`, predicting `ac`"
   ]
  },
  {
   "cell_type": "markdown",
   "metadata": {},
   "source": [
    "###  Build classifier for `ev`"
   ]
  },
  {
   "cell_type": "code",
   "execution_count": 49,
   "metadata": {},
   "outputs": [
    {
     "data": {
      "text/plain": [
       "\n",
       "     0      1 \n",
       "415035   2335 "
      ]
     },
     "metadata": {},
     "output_type": "display_data"
    }
   ],
   "source": [
    "table(ev.data$ev) #severe class imbalance issue"
   ]
  },
  {
   "cell_type": "code",
   "execution_count": 50,
   "metadata": {},
   "outputs": [
    {
     "data": {
      "text/html": [
       "<ol class=list-inline>\n",
       "\t<li>'load'</li>\n",
       "\t<li>'ev'</li>\n",
       "\t<li>'hourofday'</li>\n",
       "\t<li>'dayofweek'</li>\n",
       "\t<li>'dif'</li>\n",
       "\t<li>'absdif'</li>\n",
       "\t<li>'max'</li>\n",
       "\t<li>'var'</li>\n",
       "\t<li>'entropy'</li>\n",
       "\t<li>'nonlinear'</li>\n",
       "\t<li>'hurst'</li>\n",
       "\t<li>'minuteofhour'</li>\n",
       "\t<li>'minuteofday'</li>\n",
       "\t<li>'difflag10'</li>\n",
       "\t<li>'difflag12'</li>\n",
       "\t<li>'difflag14'</li>\n",
       "\t<li>'difflag16'</li>\n",
       "\t<li>'difflag18'</li>\n",
       "\t<li>'difflag20'</li>\n",
       "\t<li>'difflag50'</li>\n",
       "\t<li>'difflag100'</li>\n",
       "\t<li>'difflag120'</li>\n",
       "\t<li>'difflag140'</li>\n",
       "\t<li>'difflag160'</li>\n",
       "\t<li>'difflag180'</li>\n",
       "\t<li>'difflag200'</li>\n",
       "\t<li>'difflag220'</li>\n",
       "\t<li>'difflag240'</li>\n",
       "</ol>\n"
      ],
      "text/latex": [
       "\\begin{enumerate*}\n",
       "\\item 'load'\n",
       "\\item 'ev'\n",
       "\\item 'hourofday'\n",
       "\\item 'dayofweek'\n",
       "\\item 'dif'\n",
       "\\item 'absdif'\n",
       "\\item 'max'\n",
       "\\item 'var'\n",
       "\\item 'entropy'\n",
       "\\item 'nonlinear'\n",
       "\\item 'hurst'\n",
       "\\item 'minuteofhour'\n",
       "\\item 'minuteofday'\n",
       "\\item 'difflag10'\n",
       "\\item 'difflag12'\n",
       "\\item 'difflag14'\n",
       "\\item 'difflag16'\n",
       "\\item 'difflag18'\n",
       "\\item 'difflag20'\n",
       "\\item 'difflag50'\n",
       "\\item 'difflag100'\n",
       "\\item 'difflag120'\n",
       "\\item 'difflag140'\n",
       "\\item 'difflag160'\n",
       "\\item 'difflag180'\n",
       "\\item 'difflag200'\n",
       "\\item 'difflag220'\n",
       "\\item 'difflag240'\n",
       "\\end{enumerate*}\n"
      ],
      "text/markdown": [
       "1. 'load'\n",
       "2. 'ev'\n",
       "3. 'hourofday'\n",
       "4. 'dayofweek'\n",
       "5. 'dif'\n",
       "6. 'absdif'\n",
       "7. 'max'\n",
       "8. 'var'\n",
       "9. 'entropy'\n",
       "10. 'nonlinear'\n",
       "11. 'hurst'\n",
       "12. 'minuteofhour'\n",
       "13. 'minuteofday'\n",
       "14. 'difflag10'\n",
       "15. 'difflag12'\n",
       "16. 'difflag14'\n",
       "17. 'difflag16'\n",
       "18. 'difflag18'\n",
       "19. 'difflag20'\n",
       "20. 'difflag50'\n",
       "21. 'difflag100'\n",
       "22. 'difflag120'\n",
       "23. 'difflag140'\n",
       "24. 'difflag160'\n",
       "25. 'difflag180'\n",
       "26. 'difflag200'\n",
       "27. 'difflag220'\n",
       "28. 'difflag240'\n",
       "\n",
       "\n"
      ],
      "text/plain": [
       " [1] \"load\"         \"ev\"           \"hourofday\"    \"dayofweek\"    \"dif\"         \n",
       " [6] \"absdif\"       \"max\"          \"var\"          \"entropy\"      \"nonlinear\"   \n",
       "[11] \"hurst\"        \"minuteofhour\" \"minuteofday\"  \"difflag10\"    \"difflag12\"   \n",
       "[16] \"difflag14\"    \"difflag16\"    \"difflag18\"    \"difflag20\"    \"difflag50\"   \n",
       "[21] \"difflag100\"   \"difflag120\"   \"difflag140\"   \"difflag160\"   \"difflag180\"  \n",
       "[26] \"difflag200\"   \"difflag220\"   \"difflag240\"  "
      ]
     },
     "metadata": {},
     "output_type": "display_data"
    }
   ],
   "source": [
    "#Remove X column\n",
    "ev.data<-ev.data[-1]\n",
    "\n",
    "#Quite a number of features\n",
    "colnames(ev.data)"
   ]
  },
  {
   "cell_type": "code",
   "execution_count": 51,
   "metadata": {},
   "outputs": [
    {
     "data": {
      "text/html": [
       "<table>\n",
       "<thead><tr><th></th><th scope=col>load</th><th scope=col>ev</th><th scope=col>hourofday</th><th scope=col>dayofweek</th><th scope=col>dif</th><th scope=col>absdif</th><th scope=col>max</th><th scope=col>var</th><th scope=col>entropy</th><th scope=col>nonlinear</th><th scope=col>...</th><th scope=col>difflag20</th><th scope=col>difflag50</th><th scope=col>difflag100</th><th scope=col>difflag120</th><th scope=col>difflag140</th><th scope=col>difflag160</th><th scope=col>difflag180</th><th scope=col>difflag200</th><th scope=col>difflag220</th><th scope=col>difflag240</th></tr></thead>\n",
       "<tbody>\n",
       "\t<tr><th scope=row>41431</th><td>8.314    </td><td>1        </td><td>18       </td><td>Sun      </td><td> 2.614   </td><td>2.614    </td><td>9.285    </td><td>2.781009 </td><td>0.6375875</td><td>0.3256382</td><td>...      </td><td> 2.965   </td><td>1.772    </td><td>2.662    </td><td>2.836    </td><td>2.209    </td><td>2.723    </td><td>2.851    </td><td>2.612    </td><td>6.126    </td><td>2.922    </td></tr>\n",
       "\t<tr><th scope=row>41432</th><td>8.923    </td><td>1        </td><td>18       </td><td>Sun      </td><td> 0.609   </td><td>0.609    </td><td>9.285    </td><td>2.763901 </td><td>0.6290902</td><td>0.3137919</td><td>...      </td><td> 3.569   </td><td>1.448    </td><td>3.250    </td><td>3.456    </td><td>3.240    </td><td>3.327    </td><td>3.480    </td><td>3.249    </td><td>6.900    </td><td>3.549    </td></tr>\n",
       "\t<tr><th scope=row>41433</th><td>8.825    </td><td>1        </td><td>18       </td><td>Sun      </td><td>-0.098   </td><td>0.098    </td><td>9.285    </td><td>2.740749 </td><td>0.6130937</td><td>0.3160131</td><td>...      </td><td> 3.480   </td><td>1.591    </td><td>3.173    </td><td>3.390    </td><td>3.136    </td><td>3.256    </td><td>3.377    </td><td>3.136    </td><td>7.617    </td><td>3.433    </td></tr>\n",
       "\t<tr><th scope=row>41434</th><td>8.767    </td><td>1        </td><td>18       </td><td>Sun      </td><td>-0.058   </td><td>0.058    </td><td>9.285    </td><td>2.711568 </td><td>0.5991761</td><td>0.3196799</td><td>...      </td><td> 3.393   </td><td>2.733    </td><td>3.288    </td><td>3.306    </td><td>2.792    </td><td>3.169    </td><td>3.296    </td><td>3.051    </td><td>7.644    </td><td>3.374    </td></tr>\n",
       "\t<tr><th scope=row>41435</th><td>8.773    </td><td>1        </td><td>18       </td><td>Sun      </td><td> 0.006   </td><td>0.006    </td><td>9.285    </td><td>3.296712 </td><td>0.5982351</td><td>0.1595938</td><td>...      </td><td> 3.372   </td><td>3.191    </td><td>2.501    </td><td>3.341    </td><td>1.820    </td><td>3.181    </td><td>3.328    </td><td>3.074    </td><td>7.625    </td><td>3.421    </td></tr>\n",
       "\t<tr><th scope=row>41436</th><td>8.729    </td><td>1        </td><td>18       </td><td>Sun      </td><td>-0.044   </td><td>0.044    </td><td>9.285    </td><td>3.265573 </td><td>0.6239193</td><td>4.2282557</td><td>...      </td><td> 3.340   </td><td>3.144    </td><td>2.202    </td><td>3.263    </td><td>3.042    </td><td>3.244    </td><td>3.351    </td><td>3.118    </td><td>7.550    </td><td>3.354    </td></tr>\n",
       "\t<tr><th scope=row>41437</th><td>8.712    </td><td>1        </td><td>18       </td><td>Sun      </td><td>-0.017   </td><td>0.017    </td><td>9.285    </td><td>3.226303 </td><td>0.6794117</td><td>4.1929970</td><td>...      </td><td> 3.323   </td><td>2.947    </td><td>2.220    </td><td>3.183    </td><td>2.986    </td><td>3.224    </td><td>3.361    </td><td>3.067    </td><td>7.519    </td><td>3.308    </td></tr>\n",
       "\t<tr><th scope=row>41438</th><td>8.720    </td><td>1        </td><td>18       </td><td>Sun      </td><td> 0.008   </td><td>0.008    </td><td>9.285    </td><td>3.180909 </td><td>0.7502596</td><td>4.1500883</td><td>...      </td><td> 3.325   </td><td>2.975    </td><td>2.282    </td><td>3.175    </td><td>3.016    </td><td>3.250    </td><td>3.400    </td><td>3.096    </td><td>7.510    </td><td>3.300    </td></tr>\n",
       "\t<tr><th scope=row>41439</th><td>8.726    </td><td>1        </td><td>18       </td><td>Sun      </td><td> 0.006   </td><td>0.006    </td><td>9.285    </td><td>3.127205 </td><td>0.8145681</td><td>4.1047609</td><td>...      </td><td> 3.155   </td><td>2.990    </td><td>2.298    </td><td>3.105    </td><td>3.040    </td><td>3.220    </td><td>3.241    </td><td>3.084    </td><td>7.504    </td><td>3.247    </td></tr>\n",
       "\t<tr><th scope=row>41440</th><td>8.761    </td><td>1        </td><td>18       </td><td>Sun      </td><td> 0.035   </td><td>0.035    </td><td>9.285    </td><td>3.068804 </td><td>0.8591845</td><td>4.0546091</td><td>...      </td><td> 3.183   </td><td>2.456    </td><td>2.516    </td><td>3.060    </td><td>3.076    </td><td>3.186    </td><td>3.160    </td><td>3.061    </td><td>7.536    </td><td>3.319    </td></tr>\n",
       "\t<tr><th scope=row>41441</th><td>8.811    </td><td>1        </td><td>18       </td><td>Sun      </td><td> 0.050   </td><td>0.050    </td><td>9.285    </td><td>3.004884 </td><td>0.8833487</td><td>4.0024709</td><td>...      </td><td> 3.229   </td><td>2.752    </td><td>2.616    </td><td>3.025    </td><td>3.128    </td><td>3.322    </td><td>3.210    </td><td>3.069    </td><td>7.599    </td><td>3.377    </td></tr>\n",
       "\t<tr><th scope=row>41442</th><td>8.804    </td><td>1        </td><td>18       </td><td>Sun      </td><td>-0.007   </td><td>0.007    </td><td>9.285    </td><td>2.933728 </td><td>0.8919297</td><td>3.9470981</td><td>...      </td><td> 3.208   </td><td>2.642    </td><td>2.873    </td><td>3.062    </td><td>2.681    </td><td>3.325    </td><td>3.160    </td><td>3.220    </td><td>7.597    </td><td>3.185    </td></tr>\n",
       "\t<tr><th scope=row>41443</th><td>8.794    </td><td>1        </td><td>18       </td><td>Sun      </td><td>-0.010   </td><td>0.010    </td><td>9.285    </td><td>2.856582 </td><td>0.8893040</td><td>3.8839052</td><td>...      </td><td> 1.302   </td><td>3.126    </td><td>3.366    </td><td>3.088    </td><td>1.938    </td><td>3.292    </td><td>3.037    </td><td>3.293    </td><td>7.583    </td><td>3.134    </td></tr>\n",
       "\t<tr><th scope=row>41444</th><td>8.733    </td><td>1        </td><td>18       </td><td>Sun      </td><td>-0.061   </td><td>0.061    </td><td>9.285    </td><td>2.770108 </td><td>0.8794698</td><td>3.8162463</td><td>...      </td><td> 3.074   </td><td>3.064    </td><td>3.280    </td><td>3.026    </td><td>3.187    </td><td>3.249    </td><td>3.030    </td><td>3.207    </td><td>7.519    </td><td>3.072    </td></tr>\n",
       "\t<tr><th scope=row>41445</th><td>8.721    </td><td>1        </td><td>18       </td><td>Sun      </td><td>-0.012   </td><td>0.012    </td><td>9.285    </td><td>2.695081 </td><td>0.8701382</td><td>3.7216773</td><td>...      </td><td> 3.089   </td><td>3.051    </td><td>2.347    </td><td>3.001    </td><td>3.192    </td><td>3.224    </td><td>3.011    </td><td>3.325    </td><td>7.507    </td><td>3.026    </td></tr>\n",
       "\t<tr><th scope=row>41446</th><td>8.726    </td><td>1        </td><td>18       </td><td>Sun      </td><td> 0.005   </td><td>0.005    </td><td>9.571    </td><td>2.635038 </td><td>0.8744697</td><td>3.6898210</td><td>...      </td><td> 2.188   </td><td>3.034    </td><td>0.967    </td><td>3.010    </td><td>3.190    </td><td>3.238    </td><td>3.007    </td><td>3.393    </td><td>4.216    </td><td>3.033    </td></tr>\n",
       "\t<tr><th scope=row>41447</th><td>8.892    </td><td>1        </td><td>18       </td><td>Sun      </td><td> 0.166   </td><td>0.166    </td><td>9.571    </td><td>2.552896 </td><td>0.8970722</td><td>3.5495027</td><td>...      </td><td> 3.173   </td><td>3.223    </td><td>1.755    </td><td>3.211    </td><td>3.366    </td><td>3.365    </td><td>3.188    </td><td>3.463    </td><td>3.381    </td><td>3.247    </td></tr>\n",
       "\t<tr><th scope=row>41448</th><td>9.285    </td><td>1        </td><td>18       </td><td>Sun      </td><td> 0.393   </td><td>0.393    </td><td>9.571    </td><td>2.442473 </td><td>0.9232544</td><td>3.3662449</td><td>...      </td><td> 3.593   </td><td>3.622    </td><td>2.165    </td><td>3.579    </td><td>3.849    </td><td>3.771    </td><td>3.531    </td><td>3.813    </td><td>3.648    </td><td>3.664    </td></tr>\n",
       "\t<tr><th scope=row>41449</th><td>8.958    </td><td>1        </td><td>18       </td><td>Sun      </td><td>-0.327   </td><td>0.327    </td><td>9.571    </td><td>2.326440 </td><td>0.9407441</td><td>3.2473946</td><td>...      </td><td> 3.272   </td><td>3.310    </td><td>2.571    </td><td>3.280    </td><td>3.456    </td><td>3.424    </td><td>3.171    </td><td>3.495    </td><td>3.272    </td><td>3.356    </td></tr>\n",
       "\t<tr><th scope=row>41450</th><td>8.958    </td><td>1        </td><td>19       </td><td>Sun      </td><td> 0.000   </td><td>0.000    </td><td>9.571    </td><td>2.220507 </td><td>0.9488146</td><td>3.0918784</td><td>...      </td><td> 3.258   </td><td>3.467    </td><td>3.148    </td><td>3.293    </td><td>3.443    </td><td>1.679    </td><td>3.205    </td><td>3.532    </td><td>3.263    </td><td>3.829    </td></tr>\n",
       "\t<tr><th scope=row>41451</th><td>8.943    </td><td>1        </td><td>19       </td><td>Sun      </td><td>-0.015   </td><td>0.015    </td><td>9.571    </td><td>2.110802 </td><td>0.9500291</td><td>2.9127703</td><td>...      </td><td> 0.629   </td><td>3.522    </td><td>3.487    </td><td>3.291    </td><td>3.465    </td><td>2.838    </td><td>3.352    </td><td>3.480    </td><td>3.241    </td><td>6.755    </td></tr>\n",
       "\t<tr><th scope=row>41452</th><td>8.951    </td><td>1        </td><td>19       </td><td>Sun      </td><td> 0.008   </td><td>0.008    </td><td>9.571    </td><td>1.998374 </td><td>0.9473709</td><td>2.7097603</td><td>...      </td><td> 0.028   </td><td>3.526    </td><td>3.430    </td><td>3.278    </td><td>3.484    </td><td>3.268    </td><td>3.355    </td><td>3.508    </td><td>3.277    </td><td>6.928    </td></tr>\n",
       "\t<tr><th scope=row>41453</th><td>8.926    </td><td>1        </td><td>19       </td><td>Sun      </td><td>-0.025   </td><td>0.025    </td><td>9.571    </td><td>1.882297 </td><td>0.9465946</td><td>2.9505627</td><td>...      </td><td> 0.101   </td><td>3.498    </td><td>2.305    </td><td>3.274    </td><td>3.491    </td><td>3.237    </td><td>3.357    </td><td>3.478    </td><td>3.237    </td><td>7.718    </td></tr>\n",
       "\t<tr><th scope=row>41454</th><td>8.920    </td><td>1        </td><td>19       </td><td>Sun      </td><td>-0.006   </td><td>0.006    </td><td>9.571    </td><td>1.874725 </td><td>0.9566365</td><td>2.7322923</td><td>...      </td><td> 0.153   </td><td>3.518    </td><td>1.132    </td><td>3.441    </td><td>3.459    </td><td>2.945    </td><td>3.322    </td><td>3.449    </td><td>3.204    </td><td>7.797    </td></tr>\n",
       "\t<tr><th scope=row>41455</th><td>8.923    </td><td>1        </td><td>19       </td><td>Sun      </td><td> 0.003   </td><td>0.003    </td><td>9.571    </td><td>1.754501 </td><td>0.9793956</td><td>2.4221899</td><td>...      </td><td> 0.150   </td><td>3.517    </td><td>1.304    </td><td>2.651    </td><td>3.491    </td><td>1.970    </td><td>3.331    </td><td>3.478    </td><td>3.224    </td><td>7.775    </td></tr>\n",
       "\t<tr><th scope=row>41456</th><td>8.913    </td><td>1        </td><td>19       </td><td>Sun      </td><td>-0.010   </td><td>0.010    </td><td>9.571    </td><td>1.626184 </td><td>0.9949751</td><td>2.3311283</td><td>...      </td><td> 0.184   </td><td>3.519    </td><td>1.626    </td><td>2.386    </td><td>3.447    </td><td>3.226    </td><td>3.428    </td><td>3.535    </td><td>3.302    </td><td>7.734    </td></tr>\n",
       "\t<tr><th scope=row>41457</th><td>8.904    </td><td>1        </td><td>19       </td><td>Sun      </td><td>-0.009   </td><td>0.009    </td><td>9.571    </td><td>1.565721 </td><td>0.9992584</td><td>1.9114394</td><td>...      </td><td> 0.192   </td><td>3.507    </td><td>1.852    </td><td>2.412    </td><td>3.375    </td><td>3.178    </td><td>3.416    </td><td>3.553    </td><td>3.259    </td><td>7.711    </td></tr>\n",
       "\t<tr><th scope=row>41458</th><td>8.899    </td><td>1        </td><td>19       </td><td>Sun      </td><td>-0.005   </td><td>0.005    </td><td>9.571    </td><td>1.436166 </td><td>0.9998702</td><td>1.3942922</td><td>...      </td><td> 0.179   </td><td>3.535    </td><td>1.376    </td><td>2.461    </td><td>3.354    </td><td>3.195    </td><td>3.429    </td><td>3.579    </td><td>3.275    </td><td>7.689    </td></tr>\n",
       "\t<tr><th scope=row>41459</th><td>8.901    </td><td>1        </td><td>19       </td><td>Sun      </td><td> 0.002   </td><td>0.002    </td><td>9.571    </td><td>1.298410 </td><td>0.9999296</td><td>0.7586560</td><td>...      </td><td> 0.175   </td><td>3.542    </td><td>1.478    </td><td>2.473    </td><td>3.280    </td><td>3.215    </td><td>3.395    </td><td>3.416    </td><td>3.259    </td><td>7.679    </td></tr>\n",
       "\t<tr><th scope=row>41460</th><td>8.725    </td><td>1        </td><td>19       </td><td>Sun      </td><td>-0.176   </td><td>0.176    </td><td>9.571    </td><td>1.154464 </td><td>0.9998498</td><td>0.1688883</td><td>...      </td><td>-0.036   </td><td>3.371    </td><td>1.443    </td><td>2.480    </td><td>3.024    </td><td>3.040    </td><td>3.150    </td><td>3.124    </td><td>3.025    </td><td>7.500    </td></tr>\n",
       "\t<tr><th scope=row>...</th><td>...</td><td>...</td><td>...</td><td>...</td><td>...</td><td>...</td><td>...</td><td>...</td><td>...</td><td>...</td><td>   </td><td>...</td><td>...</td><td>...</td><td>...</td><td>...</td><td>...</td><td>...</td><td>...</td><td>...</td><td>...</td></tr>\n",
       "\t<tr><th scope=row>411669</th><td>3.965     </td><td>1         </td><td>0         </td><td>Sun       </td><td> 0.003    </td><td>0.003     </td><td>5.320     </td><td>1.514956  </td><td>0.5528151 </td><td> 0.7727209</td><td>...       </td><td>-1.298    </td><td>-0.076    </td><td>-0.475    </td><td>-0.530    </td><td>-0.497    </td><td>-0.489    </td><td>-0.694    </td><td>-0.594    </td><td> 2.614    </td><td> 2.009    </td></tr>\n",
       "\t<tr><th scope=row>411670</th><td>3.964     </td><td>1         </td><td>0         </td><td>Sun       </td><td>-0.001    </td><td>0.001     </td><td>5.320     </td><td>1.720173  </td><td>0.5503738 </td><td> 0.5728278</td><td>...       </td><td>-1.341    </td><td>-0.079    </td><td>-0.432    </td><td>-0.526    </td><td>-0.482    </td><td>-0.526    </td><td>-0.699    </td><td>-0.600    </td><td> 2.610    </td><td> 2.005    </td></tr>\n",
       "\t<tr><th scope=row>411671</th><td>3.975     </td><td>1         </td><td>0         </td><td>Sun       </td><td> 0.011    </td><td>0.011     </td><td>5.320     </td><td>1.899352  </td><td>0.5568149 </td><td> 0.7220158</td><td>...       </td><td>-1.343    </td><td>-0.070    </td><td>-0.418    </td><td>-0.501    </td><td>-0.535    </td><td>-0.516    </td><td>-0.688    </td><td>-0.585    </td><td> 2.581    </td><td> 2.025    </td></tr>\n",
       "\t<tr><th scope=row>411672</th><td>3.974     </td><td>1         </td><td>0         </td><td>Sun       </td><td>-0.001    </td><td>0.001     </td><td>5.320     </td><td>2.064405  </td><td>0.5657477 </td><td> 0.8772372</td><td>...       </td><td>-1.330    </td><td>-0.020    </td><td>-0.414    </td><td>-0.465    </td><td>-0.535    </td><td>-0.508    </td><td>-0.680    </td><td>-0.580    </td><td> 2.537    </td><td> 2.016    </td></tr>\n",
       "\t<tr><th scope=row>411673</th><td>3.979     </td><td>1         </td><td>0         </td><td>Sun       </td><td> 0.005    </td><td>0.005     </td><td>5.320     </td><td>2.217179  </td><td>0.5713721 </td><td> 1.0000217</td><td>...       </td><td>-1.334    </td><td> 0.004    </td><td>-0.413    </td><td>-0.459    </td><td>-0.480    </td><td>-0.502    </td><td>-0.677    </td><td>-0.574    </td><td> 2.554    </td><td> 2.023    </td></tr>\n",
       "\t<tr><th scope=row>411674</th><td>3.979     </td><td>1         </td><td>1         </td><td>Sun       </td><td> 0.000    </td><td>0.000     </td><td>5.320     </td><td>2.358179  </td><td>0.5712163 </td><td> 1.0988884</td><td>...       </td><td>-1.335    </td><td> 0.008    </td><td>-0.421    </td><td>-0.432    </td><td>-0.477    </td><td>-0.504    </td><td>-0.678    </td><td>-0.574    </td><td> 2.532    </td><td> 2.020    </td></tr>\n",
       "\t<tr><th scope=row>411675</th><td>3.903     </td><td>1         </td><td>1         </td><td>Sun       </td><td>-0.076    </td><td>0.076     </td><td>5.320     </td><td>2.487600  </td><td>0.5659437 </td><td> 1.1776911</td><td>...       </td><td>-1.415    </td><td>-0.064    </td><td>-0.486    </td><td>-0.490    </td><td>-0.556    </td><td>-0.552    </td><td>-0.754    </td><td>-0.653    </td><td> 2.477    </td><td> 1.948    </td></tr>\n",
       "\t<tr><th scope=row>411676</th><td>3.869     </td><td>1         </td><td>1         </td><td>Sun       </td><td>-0.034    </td><td>0.034     </td><td>5.320     </td><td>2.605053  </td><td>0.5581641 </td><td> 1.2427829</td><td>...       </td><td>-1.448    </td><td>-0.156    </td><td>-0.508    </td><td>-0.535    </td><td>-0.588    </td><td>-0.599    </td><td>-0.784    </td><td>-0.682    </td><td> 2.396    </td><td> 1.917    </td></tr>\n",
       "\t<tr><th scope=row>411677</th><td>3.868     </td><td>1         </td><td>1         </td><td>Sun       </td><td>-0.001    </td><td>0.001     </td><td>5.320     </td><td>2.711540  </td><td>0.5511928 </td><td> 1.2942533</td><td>...       </td><td>-1.449    </td><td>-0.152    </td><td>-0.489    </td><td>-0.529    </td><td>-0.590    </td><td>-0.600    </td><td>-0.786    </td><td>-0.681    </td><td> 2.376    </td><td> 1.982    </td></tr>\n",
       "\t<tr><th scope=row>411678</th><td>3.868     </td><td>1         </td><td>1         </td><td>Sun       </td><td> 0.000    </td><td>0.000     </td><td>5.320     </td><td>2.805723  </td><td>0.5478580 </td><td> 1.3379307</td><td>...       </td><td>-1.428    </td><td>-0.154    </td><td>-0.484    </td><td>-0.527    </td><td>-0.612    </td><td>-0.602    </td><td>-0.788    </td><td>-0.680    </td><td> 2.373    </td><td> 1.989    </td></tr>\n",
       "\t<tr><th scope=row>411679</th><td>3.870     </td><td>1         </td><td>1         </td><td>Sun       </td><td> 0.002    </td><td>0.002     </td><td>5.320     </td><td>2.887793  </td><td>0.5489084 </td><td> 1.3743280</td><td>...       </td><td>-1.434    </td><td>-0.164    </td><td>-0.482    </td><td>-0.534    </td><td>-0.589    </td><td>-0.599    </td><td>-0.719    </td><td>-0.686    </td><td> 2.443    </td><td> 2.020    </td></tr>\n",
       "\t<tr><th scope=row>411680</th><td>3.870     </td><td>1         </td><td>1         </td><td>Sun       </td><td> 0.000    </td><td>0.000     </td><td>5.320     </td><td>2.956695  </td><td>0.5524009 </td><td> 1.4089828</td><td>...       </td><td>-1.436    </td><td>-0.185    </td><td>-1.355    </td><td>-0.555    </td><td>-0.638    </td><td>-0.597    </td><td>-0.551    </td><td>-0.689    </td><td> 1.015    </td><td> 2.432    </td></tr>\n",
       "\t<tr><th scope=row>411681</th><td>3.868     </td><td>1         </td><td>1         </td><td>Sun       </td><td>-0.002    </td><td>0.002     </td><td>5.320     </td><td>3.009985  </td><td>0.5553896 </td><td> 1.4492697</td><td>...       </td><td>-1.443    </td><td>-0.203    </td><td>-1.681    </td><td>-0.559    </td><td>-0.651    </td><td>-0.596    </td><td>-0.576    </td><td>-0.676    </td><td>-0.902    </td><td> 2.497    </td></tr>\n",
       "\t<tr><th scope=row>411682</th><td>3.871     </td><td>1         </td><td>1         </td><td>Sun       </td><td> 0.003    </td><td>0.003     </td><td>5.320     </td><td>3.050559  </td><td>0.5560188 </td><td> 1.4781569</td><td>...       </td><td>-1.445    </td><td>-0.231    </td><td>-1.627    </td><td>-0.548    </td><td>-1.198    </td><td>-0.593    </td><td>-0.576    </td><td>-0.675    </td><td>-0.771    </td><td> 2.503    </td></tr>\n",
       "\t<tr><th scope=row>411683</th><td>3.867     </td><td>1         </td><td>1         </td><td>Sun       </td><td>-0.004    </td><td>0.004     </td><td>5.320     </td><td>3.080199  </td><td>0.5544274 </td><td> 1.5081441</td><td>...       </td><td>-1.453    </td><td>-0.211    </td><td>-1.325    </td><td>-0.536    </td><td>-1.901    </td><td>-0.588    </td><td>-0.584    </td><td>-0.698    </td><td>-0.771    </td><td> 2.530    </td></tr>\n",
       "\t<tr><th scope=row>411684</th><td>3.869     </td><td>1         </td><td>1         </td><td>Sun       </td><td> 0.002    </td><td>0.002     </td><td>5.320     </td><td>3.096892  </td><td>0.5520416 </td><td> 1.5414309</td><td>...       </td><td>-1.422    </td><td>-0.223    </td><td>-1.309    </td><td>-0.528    </td><td>-1.931    </td><td>-0.587    </td><td>-0.586    </td><td>-0.814    </td><td>-0.771    </td><td> 2.543    </td></tr>\n",
       "\t<tr><th scope=row>411685</th><td>3.857     </td><td>1         </td><td>1         </td><td>Sun       </td><td>-0.012    </td><td>0.012     </td><td>5.320     </td><td>3.101281  </td><td>0.5505422 </td><td> 1.5780159</td><td>...       </td><td>-1.444    </td><td>-0.241    </td><td>-1.378    </td><td>-0.538    </td><td>-1.944    </td><td>-0.602    </td><td>-0.594    </td><td>-0.802    </td><td>-0.785    </td><td> 2.532    </td></tr>\n",
       "\t<tr><th scope=row>411686</th><td>3.805     </td><td>1         </td><td>1         </td><td>Sun       </td><td>-0.052    </td><td>0.052     </td><td>5.320     </td><td>3.092952  </td><td>0.5509375 </td><td> 1.6205522</td><td>...       </td><td>-0.266    </td><td>-0.303    </td><td>-1.420    </td><td>-0.616    </td><td>-2.012    </td><td>-0.649    </td><td>-0.628    </td><td>-0.851    </td><td>-0.782    </td><td> 2.475    </td></tr>\n",
       "\t<tr><th scope=row>411687</th><td>3.606     </td><td>1         </td><td>1         </td><td>Sun       </td><td>-0.199    </td><td>0.199     </td><td>5.320     </td><td>3.072452  </td><td>0.5528689 </td><td> 1.6714527</td><td>...       </td><td>-0.369    </td><td>-0.491    </td><td>-1.595    </td><td>-0.847    </td><td>-2.176    </td><td>-0.849    </td><td>-0.832    </td><td>-1.050    </td><td>-0.957    </td><td> 2.293    </td></tr>\n",
       "\t<tr><th scope=row>411688</th><td>3.217     </td><td>1         </td><td>1         </td><td>Sun       </td><td>-0.389    </td><td>0.389     </td><td>5.320     </td><td>3.039551  </td><td>0.5546160 </td><td> 1.7261878</td><td>...       </td><td>-0.745    </td><td>-0.822    </td><td>-1.992    </td><td>-1.242    </td><td>-1.595    </td><td>-1.239    </td><td>-1.225    </td><td>-1.440    </td><td>-1.342    </td><td> 1.901    </td></tr>\n",
       "\t<tr><th scope=row>411689</th><td>2.862     </td><td>1         </td><td>1         </td><td>Sun       </td><td>-0.355    </td><td>0.355     </td><td>5.320     </td><td>2.996208  </td><td>0.5543920 </td><td> 1.8069212</td><td>...       </td><td>-1.103    </td><td>-1.133    </td><td>-2.350    </td><td>-1.578    </td><td>-1.633    </td><td>-1.600    </td><td>-1.592    </td><td>-1.797    </td><td>-1.697    </td><td> 1.511    </td></tr>\n",
       "\t<tr><th scope=row>411690</th><td>2.657     </td><td>1         </td><td>1         </td><td>Sun       </td><td>-0.205    </td><td>0.205     </td><td>5.320     </td><td>2.939981  </td><td>0.5517995 </td><td> 1.9237274</td><td>...       </td><td>-1.307    </td><td>-2.535    </td><td>-2.517    </td><td>-1.739    </td><td>-1.833    </td><td>-1.789    </td><td>-1.833    </td><td>-2.006    </td><td>-1.907    </td><td> 1.303    </td></tr>\n",
       "\t<tr><th scope=row>411691</th><td>2.496     </td><td>1         </td><td>1         </td><td>Sun       </td><td>-0.161    </td><td>0.161     </td><td>5.320     </td><td>2.871554  </td><td>0.5476085 </td><td> 2.1091568</td><td>...       </td><td>-1.479    </td><td>-2.756    </td><td>-2.719    </td><td>-1.897    </td><td>-1.980    </td><td>-2.014    </td><td>-1.995    </td><td>-2.167    </td><td>-2.064    </td><td> 1.102    </td></tr>\n",
       "\t<tr><th scope=row>411692</th><td>2.354     </td><td>1         </td><td>1         </td><td>Sun       </td><td>-0.142    </td><td>0.142     </td><td>5.320     </td><td>2.789984  </td><td>0.5431580 </td><td> 2.4326752</td><td>...       </td><td>-1.620    </td><td>-2.907    </td><td>-2.816    </td><td>-2.034    </td><td>-2.085    </td><td>-2.155    </td><td>-2.128    </td><td>-2.300    </td><td>-2.200    </td><td> 0.917    </td></tr>\n",
       "\t<tr><th scope=row>411693</th><td>2.220     </td><td>1         </td><td>1         </td><td>Sun       </td><td>-0.134    </td><td>0.134     </td><td>5.320     </td><td>2.695741  </td><td>0.5400349 </td><td> 3.0608473</td><td>...       </td><td>-1.759    </td><td>-3.036    </td><td>-3.000    </td><td>-2.172    </td><td>-2.218    </td><td>-2.239    </td><td>-2.261    </td><td>-2.436    </td><td>-2.333    </td><td> 0.795    </td></tr>\n",
       "\t<tr><th scope=row>411694</th><td>2.111     </td><td>1         </td><td>1         </td><td>Sun       </td><td>-0.109    </td><td>0.109     </td><td>5.301     </td><td>2.588596  </td><td>0.5391984 </td><td> 4.4079012</td><td>...       </td><td>-1.868    </td><td>-3.139    </td><td>-3.055    </td><td>-2.289    </td><td>-2.300    </td><td>-2.345    </td><td>-2.372    </td><td>-2.546    </td><td>-2.442    </td><td> 0.664    </td></tr>\n",
       "\t<tr><th scope=row>411695</th><td>2.011     </td><td>1         </td><td>1         </td><td>Sun       </td><td>-0.100    </td><td>0.100     </td><td>5.301     </td><td>2.473179  </td><td>0.5402469 </td><td>10.6202693</td><td>...       </td><td>-1.892    </td><td>-3.239    </td><td>-3.185    </td><td>-2.378    </td><td>-2.382    </td><td>-2.448    </td><td>-2.444    </td><td>-2.646    </td><td>-2.545    </td><td> 0.585    </td></tr>\n",
       "\t<tr><th scope=row>411696</th><td>1.890     </td><td>1         </td><td>1         </td><td>Sun       </td><td>-0.121    </td><td>0.121     </td><td>4.071     </td><td>2.344970  </td><td>0.5418240 </td><td> 4.2556809</td><td>...       </td><td>-1.979    </td><td>-3.344    </td><td>-3.302    </td><td>-2.487    </td><td>-2.514    </td><td>-2.567    </td><td>-2.578    </td><td>-2.763    </td><td>-2.661    </td><td> 0.417    </td></tr>\n",
       "\t<tr><th scope=row>411697</th><td>1.850     </td><td>1         </td><td>1         </td><td>Sun       </td><td>-0.040    </td><td>0.040     </td><td>3.979     </td><td>2.314368  </td><td>0.5428599 </td><td> 4.3792330</td><td>...       </td><td>-2.018    </td><td>-3.391    </td><td>-3.278    </td><td>-2.507    </td><td>-2.547    </td><td>-2.608    </td><td>-2.618    </td><td>-2.804    </td><td>-2.699    </td><td> 0.358    </td></tr>\n",
       "\t<tr><th scope=row>411698</th><td>0.986     </td><td>1         </td><td>1         </td><td>Sun       </td><td>-0.864    </td><td>0.864     </td><td>3.979     </td><td>2.283504  </td><td>0.5427469 </td><td> 4.3565681</td><td>...       </td><td>-2.882    </td><td>-4.258    </td><td>-4.126    </td><td>-3.366    </td><td>-3.409    </td><td>-3.494    </td><td>-3.484    </td><td>-3.670    </td><td>-3.562    </td><td>-0.509    </td></tr>\n",
       "</tbody>\n",
       "</table>\n"
      ],
      "text/latex": [
       "\\begin{tabular}{r|llllllllllllllllllllllllllll}\n",
       "  & load & ev & hourofday & dayofweek & dif & absdif & max & var & entropy & nonlinear & ... & difflag20 & difflag50 & difflag100 & difflag120 & difflag140 & difflag160 & difflag180 & difflag200 & difflag220 & difflag240\\\\\n",
       "\\hline\n",
       "\t41431 & 8.314     & 1         & 18        & Sun       &  2.614    & 2.614     & 9.285     & 2.781009  & 0.6375875 & 0.3256382 & ...       &  2.965    & 1.772     & 2.662     & 2.836     & 2.209     & 2.723     & 2.851     & 2.612     & 6.126     & 2.922    \\\\\n",
       "\t41432 & 8.923     & 1         & 18        & Sun       &  0.609    & 0.609     & 9.285     & 2.763901  & 0.6290902 & 0.3137919 & ...       &  3.569    & 1.448     & 3.250     & 3.456     & 3.240     & 3.327     & 3.480     & 3.249     & 6.900     & 3.549    \\\\\n",
       "\t41433 & 8.825     & 1         & 18        & Sun       & -0.098    & 0.098     & 9.285     & 2.740749  & 0.6130937 & 0.3160131 & ...       &  3.480    & 1.591     & 3.173     & 3.390     & 3.136     & 3.256     & 3.377     & 3.136     & 7.617     & 3.433    \\\\\n",
       "\t41434 & 8.767     & 1         & 18        & Sun       & -0.058    & 0.058     & 9.285     & 2.711568  & 0.5991761 & 0.3196799 & ...       &  3.393    & 2.733     & 3.288     & 3.306     & 2.792     & 3.169     & 3.296     & 3.051     & 7.644     & 3.374    \\\\\n",
       "\t41435 & 8.773     & 1         & 18        & Sun       &  0.006    & 0.006     & 9.285     & 3.296712  & 0.5982351 & 0.1595938 & ...       &  3.372    & 3.191     & 2.501     & 3.341     & 1.820     & 3.181     & 3.328     & 3.074     & 7.625     & 3.421    \\\\\n",
       "\t41436 & 8.729     & 1         & 18        & Sun       & -0.044    & 0.044     & 9.285     & 3.265573  & 0.6239193 & 4.2282557 & ...       &  3.340    & 3.144     & 2.202     & 3.263     & 3.042     & 3.244     & 3.351     & 3.118     & 7.550     & 3.354    \\\\\n",
       "\t41437 & 8.712     & 1         & 18        & Sun       & -0.017    & 0.017     & 9.285     & 3.226303  & 0.6794117 & 4.1929970 & ...       &  3.323    & 2.947     & 2.220     & 3.183     & 2.986     & 3.224     & 3.361     & 3.067     & 7.519     & 3.308    \\\\\n",
       "\t41438 & 8.720     & 1         & 18        & Sun       &  0.008    & 0.008     & 9.285     & 3.180909  & 0.7502596 & 4.1500883 & ...       &  3.325    & 2.975     & 2.282     & 3.175     & 3.016     & 3.250     & 3.400     & 3.096     & 7.510     & 3.300    \\\\\n",
       "\t41439 & 8.726     & 1         & 18        & Sun       &  0.006    & 0.006     & 9.285     & 3.127205  & 0.8145681 & 4.1047609 & ...       &  3.155    & 2.990     & 2.298     & 3.105     & 3.040     & 3.220     & 3.241     & 3.084     & 7.504     & 3.247    \\\\\n",
       "\t41440 & 8.761     & 1         & 18        & Sun       &  0.035    & 0.035     & 9.285     & 3.068804  & 0.8591845 & 4.0546091 & ...       &  3.183    & 2.456     & 2.516     & 3.060     & 3.076     & 3.186     & 3.160     & 3.061     & 7.536     & 3.319    \\\\\n",
       "\t41441 & 8.811     & 1         & 18        & Sun       &  0.050    & 0.050     & 9.285     & 3.004884  & 0.8833487 & 4.0024709 & ...       &  3.229    & 2.752     & 2.616     & 3.025     & 3.128     & 3.322     & 3.210     & 3.069     & 7.599     & 3.377    \\\\\n",
       "\t41442 & 8.804     & 1         & 18        & Sun       & -0.007    & 0.007     & 9.285     & 2.933728  & 0.8919297 & 3.9470981 & ...       &  3.208    & 2.642     & 2.873     & 3.062     & 2.681     & 3.325     & 3.160     & 3.220     & 7.597     & 3.185    \\\\\n",
       "\t41443 & 8.794     & 1         & 18        & Sun       & -0.010    & 0.010     & 9.285     & 2.856582  & 0.8893040 & 3.8839052 & ...       &  1.302    & 3.126     & 3.366     & 3.088     & 1.938     & 3.292     & 3.037     & 3.293     & 7.583     & 3.134    \\\\\n",
       "\t41444 & 8.733     & 1         & 18        & Sun       & -0.061    & 0.061     & 9.285     & 2.770108  & 0.8794698 & 3.8162463 & ...       &  3.074    & 3.064     & 3.280     & 3.026     & 3.187     & 3.249     & 3.030     & 3.207     & 7.519     & 3.072    \\\\\n",
       "\t41445 & 8.721     & 1         & 18        & Sun       & -0.012    & 0.012     & 9.285     & 2.695081  & 0.8701382 & 3.7216773 & ...       &  3.089    & 3.051     & 2.347     & 3.001     & 3.192     & 3.224     & 3.011     & 3.325     & 7.507     & 3.026    \\\\\n",
       "\t41446 & 8.726     & 1         & 18        & Sun       &  0.005    & 0.005     & 9.571     & 2.635038  & 0.8744697 & 3.6898210 & ...       &  2.188    & 3.034     & 0.967     & 3.010     & 3.190     & 3.238     & 3.007     & 3.393     & 4.216     & 3.033    \\\\\n",
       "\t41447 & 8.892     & 1         & 18        & Sun       &  0.166    & 0.166     & 9.571     & 2.552896  & 0.8970722 & 3.5495027 & ...       &  3.173    & 3.223     & 1.755     & 3.211     & 3.366     & 3.365     & 3.188     & 3.463     & 3.381     & 3.247    \\\\\n",
       "\t41448 & 9.285     & 1         & 18        & Sun       &  0.393    & 0.393     & 9.571     & 2.442473  & 0.9232544 & 3.3662449 & ...       &  3.593    & 3.622     & 2.165     & 3.579     & 3.849     & 3.771     & 3.531     & 3.813     & 3.648     & 3.664    \\\\\n",
       "\t41449 & 8.958     & 1         & 18        & Sun       & -0.327    & 0.327     & 9.571     & 2.326440  & 0.9407441 & 3.2473946 & ...       &  3.272    & 3.310     & 2.571     & 3.280     & 3.456     & 3.424     & 3.171     & 3.495     & 3.272     & 3.356    \\\\\n",
       "\t41450 & 8.958     & 1         & 19        & Sun       &  0.000    & 0.000     & 9.571     & 2.220507  & 0.9488146 & 3.0918784 & ...       &  3.258    & 3.467     & 3.148     & 3.293     & 3.443     & 1.679     & 3.205     & 3.532     & 3.263     & 3.829    \\\\\n",
       "\t41451 & 8.943     & 1         & 19        & Sun       & -0.015    & 0.015     & 9.571     & 2.110802  & 0.9500291 & 2.9127703 & ...       &  0.629    & 3.522     & 3.487     & 3.291     & 3.465     & 2.838     & 3.352     & 3.480     & 3.241     & 6.755    \\\\\n",
       "\t41452 & 8.951     & 1         & 19        & Sun       &  0.008    & 0.008     & 9.571     & 1.998374  & 0.9473709 & 2.7097603 & ...       &  0.028    & 3.526     & 3.430     & 3.278     & 3.484     & 3.268     & 3.355     & 3.508     & 3.277     & 6.928    \\\\\n",
       "\t41453 & 8.926     & 1         & 19        & Sun       & -0.025    & 0.025     & 9.571     & 1.882297  & 0.9465946 & 2.9505627 & ...       &  0.101    & 3.498     & 2.305     & 3.274     & 3.491     & 3.237     & 3.357     & 3.478     & 3.237     & 7.718    \\\\\n",
       "\t41454 & 8.920     & 1         & 19        & Sun       & -0.006    & 0.006     & 9.571     & 1.874725  & 0.9566365 & 2.7322923 & ...       &  0.153    & 3.518     & 1.132     & 3.441     & 3.459     & 2.945     & 3.322     & 3.449     & 3.204     & 7.797    \\\\\n",
       "\t41455 & 8.923     & 1         & 19        & Sun       &  0.003    & 0.003     & 9.571     & 1.754501  & 0.9793956 & 2.4221899 & ...       &  0.150    & 3.517     & 1.304     & 2.651     & 3.491     & 1.970     & 3.331     & 3.478     & 3.224     & 7.775    \\\\\n",
       "\t41456 & 8.913     & 1         & 19        & Sun       & -0.010    & 0.010     & 9.571     & 1.626184  & 0.9949751 & 2.3311283 & ...       &  0.184    & 3.519     & 1.626     & 2.386     & 3.447     & 3.226     & 3.428     & 3.535     & 3.302     & 7.734    \\\\\n",
       "\t41457 & 8.904     & 1         & 19        & Sun       & -0.009    & 0.009     & 9.571     & 1.565721  & 0.9992584 & 1.9114394 & ...       &  0.192    & 3.507     & 1.852     & 2.412     & 3.375     & 3.178     & 3.416     & 3.553     & 3.259     & 7.711    \\\\\n",
       "\t41458 & 8.899     & 1         & 19        & Sun       & -0.005    & 0.005     & 9.571     & 1.436166  & 0.9998702 & 1.3942922 & ...       &  0.179    & 3.535     & 1.376     & 2.461     & 3.354     & 3.195     & 3.429     & 3.579     & 3.275     & 7.689    \\\\\n",
       "\t41459 & 8.901     & 1         & 19        & Sun       &  0.002    & 0.002     & 9.571     & 1.298410  & 0.9999296 & 0.7586560 & ...       &  0.175    & 3.542     & 1.478     & 2.473     & 3.280     & 3.215     & 3.395     & 3.416     & 3.259     & 7.679    \\\\\n",
       "\t41460 & 8.725     & 1         & 19        & Sun       & -0.176    & 0.176     & 9.571     & 1.154464  & 0.9998498 & 0.1688883 & ...       & -0.036    & 3.371     & 1.443     & 2.480     & 3.024     & 3.040     & 3.150     & 3.124     & 3.025     & 7.500    \\\\\n",
       "\t... & ... & ... & ... & ... & ... & ... & ... & ... & ... & ... &     & ... & ... & ... & ... & ... & ... & ... & ... & ... & ...\\\\\n",
       "\t411669 & 3.965      & 1          & 0          & Sun        &  0.003     & 0.003      & 5.320      & 1.514956   & 0.5528151  &  0.7727209 & ...        & -1.298     & -0.076     & -0.475     & -0.530     & -0.497     & -0.489     & -0.694     & -0.594     &  2.614     &  2.009    \\\\\n",
       "\t411670 & 3.964      & 1          & 0          & Sun        & -0.001     & 0.001      & 5.320      & 1.720173   & 0.5503738  &  0.5728278 & ...        & -1.341     & -0.079     & -0.432     & -0.526     & -0.482     & -0.526     & -0.699     & -0.600     &  2.610     &  2.005    \\\\\n",
       "\t411671 & 3.975      & 1          & 0          & Sun        &  0.011     & 0.011      & 5.320      & 1.899352   & 0.5568149  &  0.7220158 & ...        & -1.343     & -0.070     & -0.418     & -0.501     & -0.535     & -0.516     & -0.688     & -0.585     &  2.581     &  2.025    \\\\\n",
       "\t411672 & 3.974      & 1          & 0          & Sun        & -0.001     & 0.001      & 5.320      & 2.064405   & 0.5657477  &  0.8772372 & ...        & -1.330     & -0.020     & -0.414     & -0.465     & -0.535     & -0.508     & -0.680     & -0.580     &  2.537     &  2.016    \\\\\n",
       "\t411673 & 3.979      & 1          & 0          & Sun        &  0.005     & 0.005      & 5.320      & 2.217179   & 0.5713721  &  1.0000217 & ...        & -1.334     &  0.004     & -0.413     & -0.459     & -0.480     & -0.502     & -0.677     & -0.574     &  2.554     &  2.023    \\\\\n",
       "\t411674 & 3.979      & 1          & 1          & Sun        &  0.000     & 0.000      & 5.320      & 2.358179   & 0.5712163  &  1.0988884 & ...        & -1.335     &  0.008     & -0.421     & -0.432     & -0.477     & -0.504     & -0.678     & -0.574     &  2.532     &  2.020    \\\\\n",
       "\t411675 & 3.903      & 1          & 1          & Sun        & -0.076     & 0.076      & 5.320      & 2.487600   & 0.5659437  &  1.1776911 & ...        & -1.415     & -0.064     & -0.486     & -0.490     & -0.556     & -0.552     & -0.754     & -0.653     &  2.477     &  1.948    \\\\\n",
       "\t411676 & 3.869      & 1          & 1          & Sun        & -0.034     & 0.034      & 5.320      & 2.605053   & 0.5581641  &  1.2427829 & ...        & -1.448     & -0.156     & -0.508     & -0.535     & -0.588     & -0.599     & -0.784     & -0.682     &  2.396     &  1.917    \\\\\n",
       "\t411677 & 3.868      & 1          & 1          & Sun        & -0.001     & 0.001      & 5.320      & 2.711540   & 0.5511928  &  1.2942533 & ...        & -1.449     & -0.152     & -0.489     & -0.529     & -0.590     & -0.600     & -0.786     & -0.681     &  2.376     &  1.982    \\\\\n",
       "\t411678 & 3.868      & 1          & 1          & Sun        &  0.000     & 0.000      & 5.320      & 2.805723   & 0.5478580  &  1.3379307 & ...        & -1.428     & -0.154     & -0.484     & -0.527     & -0.612     & -0.602     & -0.788     & -0.680     &  2.373     &  1.989    \\\\\n",
       "\t411679 & 3.870      & 1          & 1          & Sun        &  0.002     & 0.002      & 5.320      & 2.887793   & 0.5489084  &  1.3743280 & ...        & -1.434     & -0.164     & -0.482     & -0.534     & -0.589     & -0.599     & -0.719     & -0.686     &  2.443     &  2.020    \\\\\n",
       "\t411680 & 3.870      & 1          & 1          & Sun        &  0.000     & 0.000      & 5.320      & 2.956695   & 0.5524009  &  1.4089828 & ...        & -1.436     & -0.185     & -1.355     & -0.555     & -0.638     & -0.597     & -0.551     & -0.689     &  1.015     &  2.432    \\\\\n",
       "\t411681 & 3.868      & 1          & 1          & Sun        & -0.002     & 0.002      & 5.320      & 3.009985   & 0.5553896  &  1.4492697 & ...        & -1.443     & -0.203     & -1.681     & -0.559     & -0.651     & -0.596     & -0.576     & -0.676     & -0.902     &  2.497    \\\\\n",
       "\t411682 & 3.871      & 1          & 1          & Sun        &  0.003     & 0.003      & 5.320      & 3.050559   & 0.5560188  &  1.4781569 & ...        & -1.445     & -0.231     & -1.627     & -0.548     & -1.198     & -0.593     & -0.576     & -0.675     & -0.771     &  2.503    \\\\\n",
       "\t411683 & 3.867      & 1          & 1          & Sun        & -0.004     & 0.004      & 5.320      & 3.080199   & 0.5544274  &  1.5081441 & ...        & -1.453     & -0.211     & -1.325     & -0.536     & -1.901     & -0.588     & -0.584     & -0.698     & -0.771     &  2.530    \\\\\n",
       "\t411684 & 3.869      & 1          & 1          & Sun        &  0.002     & 0.002      & 5.320      & 3.096892   & 0.5520416  &  1.5414309 & ...        & -1.422     & -0.223     & -1.309     & -0.528     & -1.931     & -0.587     & -0.586     & -0.814     & -0.771     &  2.543    \\\\\n",
       "\t411685 & 3.857      & 1          & 1          & Sun        & -0.012     & 0.012      & 5.320      & 3.101281   & 0.5505422  &  1.5780159 & ...        & -1.444     & -0.241     & -1.378     & -0.538     & -1.944     & -0.602     & -0.594     & -0.802     & -0.785     &  2.532    \\\\\n",
       "\t411686 & 3.805      & 1          & 1          & Sun        & -0.052     & 0.052      & 5.320      & 3.092952   & 0.5509375  &  1.6205522 & ...        & -0.266     & -0.303     & -1.420     & -0.616     & -2.012     & -0.649     & -0.628     & -0.851     & -0.782     &  2.475    \\\\\n",
       "\t411687 & 3.606      & 1          & 1          & Sun        & -0.199     & 0.199      & 5.320      & 3.072452   & 0.5528689  &  1.6714527 & ...        & -0.369     & -0.491     & -1.595     & -0.847     & -2.176     & -0.849     & -0.832     & -1.050     & -0.957     &  2.293    \\\\\n",
       "\t411688 & 3.217      & 1          & 1          & Sun        & -0.389     & 0.389      & 5.320      & 3.039551   & 0.5546160  &  1.7261878 & ...        & -0.745     & -0.822     & -1.992     & -1.242     & -1.595     & -1.239     & -1.225     & -1.440     & -1.342     &  1.901    \\\\\n",
       "\t411689 & 2.862      & 1          & 1          & Sun        & -0.355     & 0.355      & 5.320      & 2.996208   & 0.5543920  &  1.8069212 & ...        & -1.103     & -1.133     & -2.350     & -1.578     & -1.633     & -1.600     & -1.592     & -1.797     & -1.697     &  1.511    \\\\\n",
       "\t411690 & 2.657      & 1          & 1          & Sun        & -0.205     & 0.205      & 5.320      & 2.939981   & 0.5517995  &  1.9237274 & ...        & -1.307     & -2.535     & -2.517     & -1.739     & -1.833     & -1.789     & -1.833     & -2.006     & -1.907     &  1.303    \\\\\n",
       "\t411691 & 2.496      & 1          & 1          & Sun        & -0.161     & 0.161      & 5.320      & 2.871554   & 0.5476085  &  2.1091568 & ...        & -1.479     & -2.756     & -2.719     & -1.897     & -1.980     & -2.014     & -1.995     & -2.167     & -2.064     &  1.102    \\\\\n",
       "\t411692 & 2.354      & 1          & 1          & Sun        & -0.142     & 0.142      & 5.320      & 2.789984   & 0.5431580  &  2.4326752 & ...        & -1.620     & -2.907     & -2.816     & -2.034     & -2.085     & -2.155     & -2.128     & -2.300     & -2.200     &  0.917    \\\\\n",
       "\t411693 & 2.220      & 1          & 1          & Sun        & -0.134     & 0.134      & 5.320      & 2.695741   & 0.5400349  &  3.0608473 & ...        & -1.759     & -3.036     & -3.000     & -2.172     & -2.218     & -2.239     & -2.261     & -2.436     & -2.333     &  0.795    \\\\\n",
       "\t411694 & 2.111      & 1          & 1          & Sun        & -0.109     & 0.109      & 5.301      & 2.588596   & 0.5391984  &  4.4079012 & ...        & -1.868     & -3.139     & -3.055     & -2.289     & -2.300     & -2.345     & -2.372     & -2.546     & -2.442     &  0.664    \\\\\n",
       "\t411695 & 2.011      & 1          & 1          & Sun        & -0.100     & 0.100      & 5.301      & 2.473179   & 0.5402469  & 10.6202693 & ...        & -1.892     & -3.239     & -3.185     & -2.378     & -2.382     & -2.448     & -2.444     & -2.646     & -2.545     &  0.585    \\\\\n",
       "\t411696 & 1.890      & 1          & 1          & Sun        & -0.121     & 0.121      & 4.071      & 2.344970   & 0.5418240  &  4.2556809 & ...        & -1.979     & -3.344     & -3.302     & -2.487     & -2.514     & -2.567     & -2.578     & -2.763     & -2.661     &  0.417    \\\\\n",
       "\t411697 & 1.850      & 1          & 1          & Sun        & -0.040     & 0.040      & 3.979      & 2.314368   & 0.5428599  &  4.3792330 & ...        & -2.018     & -3.391     & -3.278     & -2.507     & -2.547     & -2.608     & -2.618     & -2.804     & -2.699     &  0.358    \\\\\n",
       "\t411698 & 0.986      & 1          & 1          & Sun        & -0.864     & 0.864      & 3.979      & 2.283504   & 0.5427469  &  4.3565681 & ...        & -2.882     & -4.258     & -4.126     & -3.366     & -3.409     & -3.494     & -3.484     & -3.670     & -3.562     & -0.509    \\\\\n",
       "\\end{tabular}\n"
      ],
      "text/markdown": [
       "\n",
       "| <!--/--> | load | ev | hourofday | dayofweek | dif | absdif | max | var | entropy | nonlinear | ... | difflag20 | difflag50 | difflag100 | difflag120 | difflag140 | difflag160 | difflag180 | difflag200 | difflag220 | difflag240 |\n",
       "|---|---|---|---|---|---|---|---|---|---|---|---|---|---|---|---|---|---|---|---|---|---|\n",
       "| 41431 | 8.314     | 1         | 18        | Sun       |  2.614    | 2.614     | 9.285     | 2.781009  | 0.6375875 | 0.3256382 | ...       |  2.965    | 1.772     | 2.662     | 2.836     | 2.209     | 2.723     | 2.851     | 2.612     | 6.126     | 2.922     |\n",
       "| 41432 | 8.923     | 1         | 18        | Sun       |  0.609    | 0.609     | 9.285     | 2.763901  | 0.6290902 | 0.3137919 | ...       |  3.569    | 1.448     | 3.250     | 3.456     | 3.240     | 3.327     | 3.480     | 3.249     | 6.900     | 3.549     |\n",
       "| 41433 | 8.825     | 1         | 18        | Sun       | -0.098    | 0.098     | 9.285     | 2.740749  | 0.6130937 | 0.3160131 | ...       |  3.480    | 1.591     | 3.173     | 3.390     | 3.136     | 3.256     | 3.377     | 3.136     | 7.617     | 3.433     |\n",
       "| 41434 | 8.767     | 1         | 18        | Sun       | -0.058    | 0.058     | 9.285     | 2.711568  | 0.5991761 | 0.3196799 | ...       |  3.393    | 2.733     | 3.288     | 3.306     | 2.792     | 3.169     | 3.296     | 3.051     | 7.644     | 3.374     |\n",
       "| 41435 | 8.773     | 1         | 18        | Sun       |  0.006    | 0.006     | 9.285     | 3.296712  | 0.5982351 | 0.1595938 | ...       |  3.372    | 3.191     | 2.501     | 3.341     | 1.820     | 3.181     | 3.328     | 3.074     | 7.625     | 3.421     |\n",
       "| 41436 | 8.729     | 1         | 18        | Sun       | -0.044    | 0.044     | 9.285     | 3.265573  | 0.6239193 | 4.2282557 | ...       |  3.340    | 3.144     | 2.202     | 3.263     | 3.042     | 3.244     | 3.351     | 3.118     | 7.550     | 3.354     |\n",
       "| 41437 | 8.712     | 1         | 18        | Sun       | -0.017    | 0.017     | 9.285     | 3.226303  | 0.6794117 | 4.1929970 | ...       |  3.323    | 2.947     | 2.220     | 3.183     | 2.986     | 3.224     | 3.361     | 3.067     | 7.519     | 3.308     |\n",
       "| 41438 | 8.720     | 1         | 18        | Sun       |  0.008    | 0.008     | 9.285     | 3.180909  | 0.7502596 | 4.1500883 | ...       |  3.325    | 2.975     | 2.282     | 3.175     | 3.016     | 3.250     | 3.400     | 3.096     | 7.510     | 3.300     |\n",
       "| 41439 | 8.726     | 1         | 18        | Sun       |  0.006    | 0.006     | 9.285     | 3.127205  | 0.8145681 | 4.1047609 | ...       |  3.155    | 2.990     | 2.298     | 3.105     | 3.040     | 3.220     | 3.241     | 3.084     | 7.504     | 3.247     |\n",
       "| 41440 | 8.761     | 1         | 18        | Sun       |  0.035    | 0.035     | 9.285     | 3.068804  | 0.8591845 | 4.0546091 | ...       |  3.183    | 2.456     | 2.516     | 3.060     | 3.076     | 3.186     | 3.160     | 3.061     | 7.536     | 3.319     |\n",
       "| 41441 | 8.811     | 1         | 18        | Sun       |  0.050    | 0.050     | 9.285     | 3.004884  | 0.8833487 | 4.0024709 | ...       |  3.229    | 2.752     | 2.616     | 3.025     | 3.128     | 3.322     | 3.210     | 3.069     | 7.599     | 3.377     |\n",
       "| 41442 | 8.804     | 1         | 18        | Sun       | -0.007    | 0.007     | 9.285     | 2.933728  | 0.8919297 | 3.9470981 | ...       |  3.208    | 2.642     | 2.873     | 3.062     | 2.681     | 3.325     | 3.160     | 3.220     | 7.597     | 3.185     |\n",
       "| 41443 | 8.794     | 1         | 18        | Sun       | -0.010    | 0.010     | 9.285     | 2.856582  | 0.8893040 | 3.8839052 | ...       |  1.302    | 3.126     | 3.366     | 3.088     | 1.938     | 3.292     | 3.037     | 3.293     | 7.583     | 3.134     |\n",
       "| 41444 | 8.733     | 1         | 18        | Sun       | -0.061    | 0.061     | 9.285     | 2.770108  | 0.8794698 | 3.8162463 | ...       |  3.074    | 3.064     | 3.280     | 3.026     | 3.187     | 3.249     | 3.030     | 3.207     | 7.519     | 3.072     |\n",
       "| 41445 | 8.721     | 1         | 18        | Sun       | -0.012    | 0.012     | 9.285     | 2.695081  | 0.8701382 | 3.7216773 | ...       |  3.089    | 3.051     | 2.347     | 3.001     | 3.192     | 3.224     | 3.011     | 3.325     | 7.507     | 3.026     |\n",
       "| 41446 | 8.726     | 1         | 18        | Sun       |  0.005    | 0.005     | 9.571     | 2.635038  | 0.8744697 | 3.6898210 | ...       |  2.188    | 3.034     | 0.967     | 3.010     | 3.190     | 3.238     | 3.007     | 3.393     | 4.216     | 3.033     |\n",
       "| 41447 | 8.892     | 1         | 18        | Sun       |  0.166    | 0.166     | 9.571     | 2.552896  | 0.8970722 | 3.5495027 | ...       |  3.173    | 3.223     | 1.755     | 3.211     | 3.366     | 3.365     | 3.188     | 3.463     | 3.381     | 3.247     |\n",
       "| 41448 | 9.285     | 1         | 18        | Sun       |  0.393    | 0.393     | 9.571     | 2.442473  | 0.9232544 | 3.3662449 | ...       |  3.593    | 3.622     | 2.165     | 3.579     | 3.849     | 3.771     | 3.531     | 3.813     | 3.648     | 3.664     |\n",
       "| 41449 | 8.958     | 1         | 18        | Sun       | -0.327    | 0.327     | 9.571     | 2.326440  | 0.9407441 | 3.2473946 | ...       |  3.272    | 3.310     | 2.571     | 3.280     | 3.456     | 3.424     | 3.171     | 3.495     | 3.272     | 3.356     |\n",
       "| 41450 | 8.958     | 1         | 19        | Sun       |  0.000    | 0.000     | 9.571     | 2.220507  | 0.9488146 | 3.0918784 | ...       |  3.258    | 3.467     | 3.148     | 3.293     | 3.443     | 1.679     | 3.205     | 3.532     | 3.263     | 3.829     |\n",
       "| 41451 | 8.943     | 1         | 19        | Sun       | -0.015    | 0.015     | 9.571     | 2.110802  | 0.9500291 | 2.9127703 | ...       |  0.629    | 3.522     | 3.487     | 3.291     | 3.465     | 2.838     | 3.352     | 3.480     | 3.241     | 6.755     |\n",
       "| 41452 | 8.951     | 1         | 19        | Sun       |  0.008    | 0.008     | 9.571     | 1.998374  | 0.9473709 | 2.7097603 | ...       |  0.028    | 3.526     | 3.430     | 3.278     | 3.484     | 3.268     | 3.355     | 3.508     | 3.277     | 6.928     |\n",
       "| 41453 | 8.926     | 1         | 19        | Sun       | -0.025    | 0.025     | 9.571     | 1.882297  | 0.9465946 | 2.9505627 | ...       |  0.101    | 3.498     | 2.305     | 3.274     | 3.491     | 3.237     | 3.357     | 3.478     | 3.237     | 7.718     |\n",
       "| 41454 | 8.920     | 1         | 19        | Sun       | -0.006    | 0.006     | 9.571     | 1.874725  | 0.9566365 | 2.7322923 | ...       |  0.153    | 3.518     | 1.132     | 3.441     | 3.459     | 2.945     | 3.322     | 3.449     | 3.204     | 7.797     |\n",
       "| 41455 | 8.923     | 1         | 19        | Sun       |  0.003    | 0.003     | 9.571     | 1.754501  | 0.9793956 | 2.4221899 | ...       |  0.150    | 3.517     | 1.304     | 2.651     | 3.491     | 1.970     | 3.331     | 3.478     | 3.224     | 7.775     |\n",
       "| 41456 | 8.913     | 1         | 19        | Sun       | -0.010    | 0.010     | 9.571     | 1.626184  | 0.9949751 | 2.3311283 | ...       |  0.184    | 3.519     | 1.626     | 2.386     | 3.447     | 3.226     | 3.428     | 3.535     | 3.302     | 7.734     |\n",
       "| 41457 | 8.904     | 1         | 19        | Sun       | -0.009    | 0.009     | 9.571     | 1.565721  | 0.9992584 | 1.9114394 | ...       |  0.192    | 3.507     | 1.852     | 2.412     | 3.375     | 3.178     | 3.416     | 3.553     | 3.259     | 7.711     |\n",
       "| 41458 | 8.899     | 1         | 19        | Sun       | -0.005    | 0.005     | 9.571     | 1.436166  | 0.9998702 | 1.3942922 | ...       |  0.179    | 3.535     | 1.376     | 2.461     | 3.354     | 3.195     | 3.429     | 3.579     | 3.275     | 7.689     |\n",
       "| 41459 | 8.901     | 1         | 19        | Sun       |  0.002    | 0.002     | 9.571     | 1.298410  | 0.9999296 | 0.7586560 | ...       |  0.175    | 3.542     | 1.478     | 2.473     | 3.280     | 3.215     | 3.395     | 3.416     | 3.259     | 7.679     |\n",
       "| 41460 | 8.725     | 1         | 19        | Sun       | -0.176    | 0.176     | 9.571     | 1.154464  | 0.9998498 | 0.1688883 | ...       | -0.036    | 3.371     | 1.443     | 2.480     | 3.024     | 3.040     | 3.150     | 3.124     | 3.025     | 7.500     |\n",
       "| ... | ... | ... | ... | ... | ... | ... | ... | ... | ... | ... |     | ... | ... | ... | ... | ... | ... | ... | ... | ... | ... |\n",
       "| 411669 | 3.965      | 1          | 0          | Sun        |  0.003     | 0.003      | 5.320      | 1.514956   | 0.5528151  |  0.7727209 | ...        | -1.298     | -0.076     | -0.475     | -0.530     | -0.497     | -0.489     | -0.694     | -0.594     |  2.614     |  2.009     |\n",
       "| 411670 | 3.964      | 1          | 0          | Sun        | -0.001     | 0.001      | 5.320      | 1.720173   | 0.5503738  |  0.5728278 | ...        | -1.341     | -0.079     | -0.432     | -0.526     | -0.482     | -0.526     | -0.699     | -0.600     |  2.610     |  2.005     |\n",
       "| 411671 | 3.975      | 1          | 0          | Sun        |  0.011     | 0.011      | 5.320      | 1.899352   | 0.5568149  |  0.7220158 | ...        | -1.343     | -0.070     | -0.418     | -0.501     | -0.535     | -0.516     | -0.688     | -0.585     |  2.581     |  2.025     |\n",
       "| 411672 | 3.974      | 1          | 0          | Sun        | -0.001     | 0.001      | 5.320      | 2.064405   | 0.5657477  |  0.8772372 | ...        | -1.330     | -0.020     | -0.414     | -0.465     | -0.535     | -0.508     | -0.680     | -0.580     |  2.537     |  2.016     |\n",
       "| 411673 | 3.979      | 1          | 0          | Sun        |  0.005     | 0.005      | 5.320      | 2.217179   | 0.5713721  |  1.0000217 | ...        | -1.334     |  0.004     | -0.413     | -0.459     | -0.480     | -0.502     | -0.677     | -0.574     |  2.554     |  2.023     |\n",
       "| 411674 | 3.979      | 1          | 1          | Sun        |  0.000     | 0.000      | 5.320      | 2.358179   | 0.5712163  |  1.0988884 | ...        | -1.335     |  0.008     | -0.421     | -0.432     | -0.477     | -0.504     | -0.678     | -0.574     |  2.532     |  2.020     |\n",
       "| 411675 | 3.903      | 1          | 1          | Sun        | -0.076     | 0.076      | 5.320      | 2.487600   | 0.5659437  |  1.1776911 | ...        | -1.415     | -0.064     | -0.486     | -0.490     | -0.556     | -0.552     | -0.754     | -0.653     |  2.477     |  1.948     |\n",
       "| 411676 | 3.869      | 1          | 1          | Sun        | -0.034     | 0.034      | 5.320      | 2.605053   | 0.5581641  |  1.2427829 | ...        | -1.448     | -0.156     | -0.508     | -0.535     | -0.588     | -0.599     | -0.784     | -0.682     |  2.396     |  1.917     |\n",
       "| 411677 | 3.868      | 1          | 1          | Sun        | -0.001     | 0.001      | 5.320      | 2.711540   | 0.5511928  |  1.2942533 | ...        | -1.449     | -0.152     | -0.489     | -0.529     | -0.590     | -0.600     | -0.786     | -0.681     |  2.376     |  1.982     |\n",
       "| 411678 | 3.868      | 1          | 1          | Sun        |  0.000     | 0.000      | 5.320      | 2.805723   | 0.5478580  |  1.3379307 | ...        | -1.428     | -0.154     | -0.484     | -0.527     | -0.612     | -0.602     | -0.788     | -0.680     |  2.373     |  1.989     |\n",
       "| 411679 | 3.870      | 1          | 1          | Sun        |  0.002     | 0.002      | 5.320      | 2.887793   | 0.5489084  |  1.3743280 | ...        | -1.434     | -0.164     | -0.482     | -0.534     | -0.589     | -0.599     | -0.719     | -0.686     |  2.443     |  2.020     |\n",
       "| 411680 | 3.870      | 1          | 1          | Sun        |  0.000     | 0.000      | 5.320      | 2.956695   | 0.5524009  |  1.4089828 | ...        | -1.436     | -0.185     | -1.355     | -0.555     | -0.638     | -0.597     | -0.551     | -0.689     |  1.015     |  2.432     |\n",
       "| 411681 | 3.868      | 1          | 1          | Sun        | -0.002     | 0.002      | 5.320      | 3.009985   | 0.5553896  |  1.4492697 | ...        | -1.443     | -0.203     | -1.681     | -0.559     | -0.651     | -0.596     | -0.576     | -0.676     | -0.902     |  2.497     |\n",
       "| 411682 | 3.871      | 1          | 1          | Sun        |  0.003     | 0.003      | 5.320      | 3.050559   | 0.5560188  |  1.4781569 | ...        | -1.445     | -0.231     | -1.627     | -0.548     | -1.198     | -0.593     | -0.576     | -0.675     | -0.771     |  2.503     |\n",
       "| 411683 | 3.867      | 1          | 1          | Sun        | -0.004     | 0.004      | 5.320      | 3.080199   | 0.5544274  |  1.5081441 | ...        | -1.453     | -0.211     | -1.325     | -0.536     | -1.901     | -0.588     | -0.584     | -0.698     | -0.771     |  2.530     |\n",
       "| 411684 | 3.869      | 1          | 1          | Sun        |  0.002     | 0.002      | 5.320      | 3.096892   | 0.5520416  |  1.5414309 | ...        | -1.422     | -0.223     | -1.309     | -0.528     | -1.931     | -0.587     | -0.586     | -0.814     | -0.771     |  2.543     |\n",
       "| 411685 | 3.857      | 1          | 1          | Sun        | -0.012     | 0.012      | 5.320      | 3.101281   | 0.5505422  |  1.5780159 | ...        | -1.444     | -0.241     | -1.378     | -0.538     | -1.944     | -0.602     | -0.594     | -0.802     | -0.785     |  2.532     |\n",
       "| 411686 | 3.805      | 1          | 1          | Sun        | -0.052     | 0.052      | 5.320      | 3.092952   | 0.5509375  |  1.6205522 | ...        | -0.266     | -0.303     | -1.420     | -0.616     | -2.012     | -0.649     | -0.628     | -0.851     | -0.782     |  2.475     |\n",
       "| 411687 | 3.606      | 1          | 1          | Sun        | -0.199     | 0.199      | 5.320      | 3.072452   | 0.5528689  |  1.6714527 | ...        | -0.369     | -0.491     | -1.595     | -0.847     | -2.176     | -0.849     | -0.832     | -1.050     | -0.957     |  2.293     |\n",
       "| 411688 | 3.217      | 1          | 1          | Sun        | -0.389     | 0.389      | 5.320      | 3.039551   | 0.5546160  |  1.7261878 | ...        | -0.745     | -0.822     | -1.992     | -1.242     | -1.595     | -1.239     | -1.225     | -1.440     | -1.342     |  1.901     |\n",
       "| 411689 | 2.862      | 1          | 1          | Sun        | -0.355     | 0.355      | 5.320      | 2.996208   | 0.5543920  |  1.8069212 | ...        | -1.103     | -1.133     | -2.350     | -1.578     | -1.633     | -1.600     | -1.592     | -1.797     | -1.697     |  1.511     |\n",
       "| 411690 | 2.657      | 1          | 1          | Sun        | -0.205     | 0.205      | 5.320      | 2.939981   | 0.5517995  |  1.9237274 | ...        | -1.307     | -2.535     | -2.517     | -1.739     | -1.833     | -1.789     | -1.833     | -2.006     | -1.907     |  1.303     |\n",
       "| 411691 | 2.496      | 1          | 1          | Sun        | -0.161     | 0.161      | 5.320      | 2.871554   | 0.5476085  |  2.1091568 | ...        | -1.479     | -2.756     | -2.719     | -1.897     | -1.980     | -2.014     | -1.995     | -2.167     | -2.064     |  1.102     |\n",
       "| 411692 | 2.354      | 1          | 1          | Sun        | -0.142     | 0.142      | 5.320      | 2.789984   | 0.5431580  |  2.4326752 | ...        | -1.620     | -2.907     | -2.816     | -2.034     | -2.085     | -2.155     | -2.128     | -2.300     | -2.200     |  0.917     |\n",
       "| 411693 | 2.220      | 1          | 1          | Sun        | -0.134     | 0.134      | 5.320      | 2.695741   | 0.5400349  |  3.0608473 | ...        | -1.759     | -3.036     | -3.000     | -2.172     | -2.218     | -2.239     | -2.261     | -2.436     | -2.333     |  0.795     |\n",
       "| 411694 | 2.111      | 1          | 1          | Sun        | -0.109     | 0.109      | 5.301      | 2.588596   | 0.5391984  |  4.4079012 | ...        | -1.868     | -3.139     | -3.055     | -2.289     | -2.300     | -2.345     | -2.372     | -2.546     | -2.442     |  0.664     |\n",
       "| 411695 | 2.011      | 1          | 1          | Sun        | -0.100     | 0.100      | 5.301      | 2.473179   | 0.5402469  | 10.6202693 | ...        | -1.892     | -3.239     | -3.185     | -2.378     | -2.382     | -2.448     | -2.444     | -2.646     | -2.545     |  0.585     |\n",
       "| 411696 | 1.890      | 1          | 1          | Sun        | -0.121     | 0.121      | 4.071      | 2.344970   | 0.5418240  |  4.2556809 | ...        | -1.979     | -3.344     | -3.302     | -2.487     | -2.514     | -2.567     | -2.578     | -2.763     | -2.661     |  0.417     |\n",
       "| 411697 | 1.850      | 1          | 1          | Sun        | -0.040     | 0.040      | 3.979      | 2.314368   | 0.5428599  |  4.3792330 | ...        | -2.018     | -3.391     | -3.278     | -2.507     | -2.547     | -2.608     | -2.618     | -2.804     | -2.699     |  0.358     |\n",
       "| 411698 | 0.986      | 1          | 1          | Sun        | -0.864     | 0.864      | 3.979      | 2.283504   | 0.5427469  |  4.3565681 | ...        | -2.882     | -4.258     | -4.126     | -3.366     | -3.409     | -3.494     | -3.484     | -3.670     | -3.562     | -0.509     |\n",
       "\n"
      ],
      "text/plain": [
       "       load  ev  hourofday dayofweek dif    absdif max   var      entropy  \n",
       "41431  8.314 1   18        Sun        2.614 2.614  9.285 2.781009 0.6375875\n",
       "41432  8.923 1   18        Sun        0.609 0.609  9.285 2.763901 0.6290902\n",
       "41433  8.825 1   18        Sun       -0.098 0.098  9.285 2.740749 0.6130937\n",
       "41434  8.767 1   18        Sun       -0.058 0.058  9.285 2.711568 0.5991761\n",
       "41435  8.773 1   18        Sun        0.006 0.006  9.285 3.296712 0.5982351\n",
       "41436  8.729 1   18        Sun       -0.044 0.044  9.285 3.265573 0.6239193\n",
       "41437  8.712 1   18        Sun       -0.017 0.017  9.285 3.226303 0.6794117\n",
       "41438  8.720 1   18        Sun        0.008 0.008  9.285 3.180909 0.7502596\n",
       "41439  8.726 1   18        Sun        0.006 0.006  9.285 3.127205 0.8145681\n",
       "41440  8.761 1   18        Sun        0.035 0.035  9.285 3.068804 0.8591845\n",
       "41441  8.811 1   18        Sun        0.050 0.050  9.285 3.004884 0.8833487\n",
       "41442  8.804 1   18        Sun       -0.007 0.007  9.285 2.933728 0.8919297\n",
       "41443  8.794 1   18        Sun       -0.010 0.010  9.285 2.856582 0.8893040\n",
       "41444  8.733 1   18        Sun       -0.061 0.061  9.285 2.770108 0.8794698\n",
       "41445  8.721 1   18        Sun       -0.012 0.012  9.285 2.695081 0.8701382\n",
       "41446  8.726 1   18        Sun        0.005 0.005  9.571 2.635038 0.8744697\n",
       "41447  8.892 1   18        Sun        0.166 0.166  9.571 2.552896 0.8970722\n",
       "41448  9.285 1   18        Sun        0.393 0.393  9.571 2.442473 0.9232544\n",
       "41449  8.958 1   18        Sun       -0.327 0.327  9.571 2.326440 0.9407441\n",
       "41450  8.958 1   19        Sun        0.000 0.000  9.571 2.220507 0.9488146\n",
       "41451  8.943 1   19        Sun       -0.015 0.015  9.571 2.110802 0.9500291\n",
       "41452  8.951 1   19        Sun        0.008 0.008  9.571 1.998374 0.9473709\n",
       "41453  8.926 1   19        Sun       -0.025 0.025  9.571 1.882297 0.9465946\n",
       "41454  8.920 1   19        Sun       -0.006 0.006  9.571 1.874725 0.9566365\n",
       "41455  8.923 1   19        Sun        0.003 0.003  9.571 1.754501 0.9793956\n",
       "41456  8.913 1   19        Sun       -0.010 0.010  9.571 1.626184 0.9949751\n",
       "41457  8.904 1   19        Sun       -0.009 0.009  9.571 1.565721 0.9992584\n",
       "41458  8.899 1   19        Sun       -0.005 0.005  9.571 1.436166 0.9998702\n",
       "41459  8.901 1   19        Sun        0.002 0.002  9.571 1.298410 0.9999296\n",
       "41460  8.725 1   19        Sun       -0.176 0.176  9.571 1.154464 0.9998498\n",
       "...    ...   ... ...       ...       ...    ...    ...   ...      ...      \n",
       "411669 3.965 1   0         Sun        0.003 0.003  5.320 1.514956 0.5528151\n",
       "411670 3.964 1   0         Sun       -0.001 0.001  5.320 1.720173 0.5503738\n",
       "411671 3.975 1   0         Sun        0.011 0.011  5.320 1.899352 0.5568149\n",
       "411672 3.974 1   0         Sun       -0.001 0.001  5.320 2.064405 0.5657477\n",
       "411673 3.979 1   0         Sun        0.005 0.005  5.320 2.217179 0.5713721\n",
       "411674 3.979 1   1         Sun        0.000 0.000  5.320 2.358179 0.5712163\n",
       "411675 3.903 1   1         Sun       -0.076 0.076  5.320 2.487600 0.5659437\n",
       "411676 3.869 1   1         Sun       -0.034 0.034  5.320 2.605053 0.5581641\n",
       "411677 3.868 1   1         Sun       -0.001 0.001  5.320 2.711540 0.5511928\n",
       "411678 3.868 1   1         Sun        0.000 0.000  5.320 2.805723 0.5478580\n",
       "411679 3.870 1   1         Sun        0.002 0.002  5.320 2.887793 0.5489084\n",
       "411680 3.870 1   1         Sun        0.000 0.000  5.320 2.956695 0.5524009\n",
       "411681 3.868 1   1         Sun       -0.002 0.002  5.320 3.009985 0.5553896\n",
       "411682 3.871 1   1         Sun        0.003 0.003  5.320 3.050559 0.5560188\n",
       "411683 3.867 1   1         Sun       -0.004 0.004  5.320 3.080199 0.5544274\n",
       "411684 3.869 1   1         Sun        0.002 0.002  5.320 3.096892 0.5520416\n",
       "411685 3.857 1   1         Sun       -0.012 0.012  5.320 3.101281 0.5505422\n",
       "411686 3.805 1   1         Sun       -0.052 0.052  5.320 3.092952 0.5509375\n",
       "411687 3.606 1   1         Sun       -0.199 0.199  5.320 3.072452 0.5528689\n",
       "411688 3.217 1   1         Sun       -0.389 0.389  5.320 3.039551 0.5546160\n",
       "411689 2.862 1   1         Sun       -0.355 0.355  5.320 2.996208 0.5543920\n",
       "411690 2.657 1   1         Sun       -0.205 0.205  5.320 2.939981 0.5517995\n",
       "411691 2.496 1   1         Sun       -0.161 0.161  5.320 2.871554 0.5476085\n",
       "411692 2.354 1   1         Sun       -0.142 0.142  5.320 2.789984 0.5431580\n",
       "411693 2.220 1   1         Sun       -0.134 0.134  5.320 2.695741 0.5400349\n",
       "411694 2.111 1   1         Sun       -0.109 0.109  5.301 2.588596 0.5391984\n",
       "411695 2.011 1   1         Sun       -0.100 0.100  5.301 2.473179 0.5402469\n",
       "411696 1.890 1   1         Sun       -0.121 0.121  4.071 2.344970 0.5418240\n",
       "411697 1.850 1   1         Sun       -0.040 0.040  3.979 2.314368 0.5428599\n",
       "411698 0.986 1   1         Sun       -0.864 0.864  3.979 2.283504 0.5427469\n",
       "       nonlinear  ... difflag20 difflag50 difflag100 difflag120 difflag140\n",
       "41431  0.3256382  ...  2.965    1.772     2.662      2.836      2.209     \n",
       "41432  0.3137919  ...  3.569    1.448     3.250      3.456      3.240     \n",
       "41433  0.3160131  ...  3.480    1.591     3.173      3.390      3.136     \n",
       "41434  0.3196799  ...  3.393    2.733     3.288      3.306      2.792     \n",
       "41435  0.1595938  ...  3.372    3.191     2.501      3.341      1.820     \n",
       "41436  4.2282557  ...  3.340    3.144     2.202      3.263      3.042     \n",
       "41437  4.1929970  ...  3.323    2.947     2.220      3.183      2.986     \n",
       "41438  4.1500883  ...  3.325    2.975     2.282      3.175      3.016     \n",
       "41439  4.1047609  ...  3.155    2.990     2.298      3.105      3.040     \n",
       "41440  4.0546091  ...  3.183    2.456     2.516      3.060      3.076     \n",
       "41441  4.0024709  ...  3.229    2.752     2.616      3.025      3.128     \n",
       "41442  3.9470981  ...  3.208    2.642     2.873      3.062      2.681     \n",
       "41443  3.8839052  ...  1.302    3.126     3.366      3.088      1.938     \n",
       "41444  3.8162463  ...  3.074    3.064     3.280      3.026      3.187     \n",
       "41445  3.7216773  ...  3.089    3.051     2.347      3.001      3.192     \n",
       "41446  3.6898210  ...  2.188    3.034     0.967      3.010      3.190     \n",
       "41447  3.5495027  ...  3.173    3.223     1.755      3.211      3.366     \n",
       "41448  3.3662449  ...  3.593    3.622     2.165      3.579      3.849     \n",
       "41449  3.2473946  ...  3.272    3.310     2.571      3.280      3.456     \n",
       "41450  3.0918784  ...  3.258    3.467     3.148      3.293      3.443     \n",
       "41451  2.9127703  ...  0.629    3.522     3.487      3.291      3.465     \n",
       "41452  2.7097603  ...  0.028    3.526     3.430      3.278      3.484     \n",
       "41453  2.9505627  ...  0.101    3.498     2.305      3.274      3.491     \n",
       "41454  2.7322923  ...  0.153    3.518     1.132      3.441      3.459     \n",
       "41455  2.4221899  ...  0.150    3.517     1.304      2.651      3.491     \n",
       "41456  2.3311283  ...  0.184    3.519     1.626      2.386      3.447     \n",
       "41457  1.9114394  ...  0.192    3.507     1.852      2.412      3.375     \n",
       "41458  1.3942922  ...  0.179    3.535     1.376      2.461      3.354     \n",
       "41459  0.7586560  ...  0.175    3.542     1.478      2.473      3.280     \n",
       "41460  0.1688883  ... -0.036    3.371     1.443      2.480      3.024     \n",
       "...    ...            ...       ...       ...        ...        ...       \n",
       "411669  0.7727209 ... -1.298    -0.076    -0.475     -0.530     -0.497    \n",
       "411670  0.5728278 ... -1.341    -0.079    -0.432     -0.526     -0.482    \n",
       "411671  0.7220158 ... -1.343    -0.070    -0.418     -0.501     -0.535    \n",
       "411672  0.8772372 ... -1.330    -0.020    -0.414     -0.465     -0.535    \n",
       "411673  1.0000217 ... -1.334     0.004    -0.413     -0.459     -0.480    \n",
       "411674  1.0988884 ... -1.335     0.008    -0.421     -0.432     -0.477    \n",
       "411675  1.1776911 ... -1.415    -0.064    -0.486     -0.490     -0.556    \n",
       "411676  1.2427829 ... -1.448    -0.156    -0.508     -0.535     -0.588    \n",
       "411677  1.2942533 ... -1.449    -0.152    -0.489     -0.529     -0.590    \n",
       "411678  1.3379307 ... -1.428    -0.154    -0.484     -0.527     -0.612    \n",
       "411679  1.3743280 ... -1.434    -0.164    -0.482     -0.534     -0.589    \n",
       "411680  1.4089828 ... -1.436    -0.185    -1.355     -0.555     -0.638    \n",
       "411681  1.4492697 ... -1.443    -0.203    -1.681     -0.559     -0.651    \n",
       "411682  1.4781569 ... -1.445    -0.231    -1.627     -0.548     -1.198    \n",
       "411683  1.5081441 ... -1.453    -0.211    -1.325     -0.536     -1.901    \n",
       "411684  1.5414309 ... -1.422    -0.223    -1.309     -0.528     -1.931    \n",
       "411685  1.5780159 ... -1.444    -0.241    -1.378     -0.538     -1.944    \n",
       "411686  1.6205522 ... -0.266    -0.303    -1.420     -0.616     -2.012    \n",
       "411687  1.6714527 ... -0.369    -0.491    -1.595     -0.847     -2.176    \n",
       "411688  1.7261878 ... -0.745    -0.822    -1.992     -1.242     -1.595    \n",
       "411689  1.8069212 ... -1.103    -1.133    -2.350     -1.578     -1.633    \n",
       "411690  1.9237274 ... -1.307    -2.535    -2.517     -1.739     -1.833    \n",
       "411691  2.1091568 ... -1.479    -2.756    -2.719     -1.897     -1.980    \n",
       "411692  2.4326752 ... -1.620    -2.907    -2.816     -2.034     -2.085    \n",
       "411693  3.0608473 ... -1.759    -3.036    -3.000     -2.172     -2.218    \n",
       "411694  4.4079012 ... -1.868    -3.139    -3.055     -2.289     -2.300    \n",
       "411695 10.6202693 ... -1.892    -3.239    -3.185     -2.378     -2.382    \n",
       "411696  4.2556809 ... -1.979    -3.344    -3.302     -2.487     -2.514    \n",
       "411697  4.3792330 ... -2.018    -3.391    -3.278     -2.507     -2.547    \n",
       "411698  4.3565681 ... -2.882    -4.258    -4.126     -3.366     -3.409    \n",
       "       difflag160 difflag180 difflag200 difflag220 difflag240\n",
       "41431  2.723      2.851      2.612      6.126      2.922     \n",
       "41432  3.327      3.480      3.249      6.900      3.549     \n",
       "41433  3.256      3.377      3.136      7.617      3.433     \n",
       "41434  3.169      3.296      3.051      7.644      3.374     \n",
       "41435  3.181      3.328      3.074      7.625      3.421     \n",
       "41436  3.244      3.351      3.118      7.550      3.354     \n",
       "41437  3.224      3.361      3.067      7.519      3.308     \n",
       "41438  3.250      3.400      3.096      7.510      3.300     \n",
       "41439  3.220      3.241      3.084      7.504      3.247     \n",
       "41440  3.186      3.160      3.061      7.536      3.319     \n",
       "41441  3.322      3.210      3.069      7.599      3.377     \n",
       "41442  3.325      3.160      3.220      7.597      3.185     \n",
       "41443  3.292      3.037      3.293      7.583      3.134     \n",
       "41444  3.249      3.030      3.207      7.519      3.072     \n",
       "41445  3.224      3.011      3.325      7.507      3.026     \n",
       "41446  3.238      3.007      3.393      4.216      3.033     \n",
       "41447  3.365      3.188      3.463      3.381      3.247     \n",
       "41448  3.771      3.531      3.813      3.648      3.664     \n",
       "41449  3.424      3.171      3.495      3.272      3.356     \n",
       "41450  1.679      3.205      3.532      3.263      3.829     \n",
       "41451  2.838      3.352      3.480      3.241      6.755     \n",
       "41452  3.268      3.355      3.508      3.277      6.928     \n",
       "41453  3.237      3.357      3.478      3.237      7.718     \n",
       "41454  2.945      3.322      3.449      3.204      7.797     \n",
       "41455  1.970      3.331      3.478      3.224      7.775     \n",
       "41456  3.226      3.428      3.535      3.302      7.734     \n",
       "41457  3.178      3.416      3.553      3.259      7.711     \n",
       "41458  3.195      3.429      3.579      3.275      7.689     \n",
       "41459  3.215      3.395      3.416      3.259      7.679     \n",
       "41460  3.040      3.150      3.124      3.025      7.500     \n",
       "...    ...        ...        ...        ...        ...       \n",
       "411669 -0.489     -0.694     -0.594      2.614      2.009    \n",
       "411670 -0.526     -0.699     -0.600      2.610      2.005    \n",
       "411671 -0.516     -0.688     -0.585      2.581      2.025    \n",
       "411672 -0.508     -0.680     -0.580      2.537      2.016    \n",
       "411673 -0.502     -0.677     -0.574      2.554      2.023    \n",
       "411674 -0.504     -0.678     -0.574      2.532      2.020    \n",
       "411675 -0.552     -0.754     -0.653      2.477      1.948    \n",
       "411676 -0.599     -0.784     -0.682      2.396      1.917    \n",
       "411677 -0.600     -0.786     -0.681      2.376      1.982    \n",
       "411678 -0.602     -0.788     -0.680      2.373      1.989    \n",
       "411679 -0.599     -0.719     -0.686      2.443      2.020    \n",
       "411680 -0.597     -0.551     -0.689      1.015      2.432    \n",
       "411681 -0.596     -0.576     -0.676     -0.902      2.497    \n",
       "411682 -0.593     -0.576     -0.675     -0.771      2.503    \n",
       "411683 -0.588     -0.584     -0.698     -0.771      2.530    \n",
       "411684 -0.587     -0.586     -0.814     -0.771      2.543    \n",
       "411685 -0.602     -0.594     -0.802     -0.785      2.532    \n",
       "411686 -0.649     -0.628     -0.851     -0.782      2.475    \n",
       "411687 -0.849     -0.832     -1.050     -0.957      2.293    \n",
       "411688 -1.239     -1.225     -1.440     -1.342      1.901    \n",
       "411689 -1.600     -1.592     -1.797     -1.697      1.511    \n",
       "411690 -1.789     -1.833     -2.006     -1.907      1.303    \n",
       "411691 -2.014     -1.995     -2.167     -2.064      1.102    \n",
       "411692 -2.155     -2.128     -2.300     -2.200      0.917    \n",
       "411693 -2.239     -2.261     -2.436     -2.333      0.795    \n",
       "411694 -2.345     -2.372     -2.546     -2.442      0.664    \n",
       "411695 -2.448     -2.444     -2.646     -2.545      0.585    \n",
       "411696 -2.567     -2.578     -2.763     -2.661      0.417    \n",
       "411697 -2.608     -2.618     -2.804     -2.699      0.358    \n",
       "411698 -3.494     -3.484     -3.670     -3.562     -0.509    "
      ]
     },
     "metadata": {},
     "output_type": "display_data"
    }
   ],
   "source": [
    "#get the data where ev=1\n",
    "ev.only=ev.data[ev.data$ev==1,]\n",
    "ev.only"
   ]
  },
  {
   "cell_type": "markdown",
   "metadata": {},
   "source": [
    "We build Random Forest classifier to model `ev`"
   ]
  },
  {
   "cell_type": "code",
   "execution_count": 52,
   "metadata": {},
   "outputs": [],
   "source": [
    "#tuning the number of precede/succeed rows and tree that maximize f1 \n",
    "bestrow<-data.frame()\n",
    "row.counter<-1\n",
    "\n",
    "#Consider a range of number of precede/succeed rows\n",
    "row.sampling<-seq(150,300,10)\n",
    "for (r in row.sampling){\n",
    "    \n",
    "    #Get the row index of rows that precedes the rows in ev.only by r rows\n",
    "    ev.precede=as.character(as.numeric(rownames(ev.only))-r)\n",
    "    \n",
    "    #Get the row index of rows that succeeds the rows in ev.only by r rows\n",
    "    ev.succeed=as.character(as.numeric(rownames(ev.only))+r)\n",
    "    \n",
    "    #Extract the segment in the original time series data that contain these ev.only/preceded/succeed rows\n",
    "    ev.sampling=ev.data[rownames(ev.data) %in% c(rownames(ev.only),ev.precede,ev.succeed),]\n",
    "    \n",
    "    #Reset the row index\n",
    "    row.names(ev.sampling) <- NULL\n",
    "    \n",
    "    #train/valid split for time-series -> rolling basis\n",
    "    ev.split<-split(ev.sampling,(as.numeric(rownames(ev.sampling))-1) %/% floor(nrow(ev.sampling)/4+1))\n",
    "    \n",
    "    #training folds\n",
    "    train.ev.f1<-ev.split$'0'\n",
    "    train.ev.f2<-rbind(train.ev.f1,ev.split$'1')\n",
    "    train.ev.f3<-rbind(train.ev.f2,ev.split$'2')\n",
    "\n",
    "    #validation folds\n",
    "    val.ev.f1<-ev.split$'1'\n",
    "    val.ev.f2<-ev.split$'2'\n",
    "    val.ev.f3<-ev.split$'3'\n",
    "    \n",
    "    #For reproducibility\n",
    "    set.seed(1)\n",
    "    ev.evaluation<-data.frame()\n",
    "    \n",
    "    #Number of trees to consider\n",
    "    no.tree<-seq(140,500,20)  \n",
    "    counter<-1\n",
    "    for (j in no.tree){\n",
    "        f1.j<-c()\n",
    "        \n",
    "        #Perform 3-rolling-fold cross validation\n",
    "        for (i in 1:3){\n",
    "            \n",
    "            #Get the earlier fold as training fold\n",
    "            train=eval(as.name(paste0('train.ev.f',i)))\n",
    "            \n",
    "            #Get the later fold as validation fold\n",
    "            valid=eval(as.name(paste0('val.ev.f',i)))\n",
    "            \n",
    "            #train the randomForest for ev\n",
    "            ev.rf=randomForest(ev~.,data=train,mtry=5,ntree=j,na.action=na.omit)\n",
    "            \n",
    "            #Get prediction on validation fold\n",
    "            pred<-predict(ev.rf,newdata=valid)\n",
    "            \n",
    "            #compute f1\n",
    "            f1.score<-f1(valid$ev,pred)\n",
    "            f1.j<-c(f1.j,f1.score)\n",
    "        }\n",
    "        \n",
    "        #get the average f1 for cross validation\n",
    "        ev.f1<-sum(f1.j)/length(f1.j)\n",
    "        \n",
    "        #store values in dataframe\n",
    "        ev.evaluation[counter,'no_tree']<-j\n",
    "        ev.evaluation[counter,'f1_score']<-ev.f1\n",
    "        counter<-counter+1\n",
    "    }\n",
    "    #Get the value of tree that results in the highest cross validated f1 score\n",
    "    best.tree<-ev.evaluation[ev.evaluation$f1_score==max(ev.evaluation$f1_score),]\n",
    "    \n",
    "    #retrain the model on the whole ev.sampling with the best value of tree\n",
    "    ev.rf<-randomForest(ev~.,data=ev.sampling,mtry=5,ntree=best.tree$no_tree,na.action=na.omit)\n",
    "    \n",
    "    #get prediction and f1 for the whole ev.data\n",
    "    rf.ev.pred<-predict(ev.rf,ev.data)\n",
    "    ev.f1<-f1(ev.data$ev,rf.ev.pred)\n",
    "    \n",
    "    #Store values in dataframe for comparison later\n",
    "    bestrow[row.counter,'row_sampling']<-r  \n",
    "    bestrow[row.counter,'no_tree']<-best.tree$no_tree\n",
    "    bestrow[row.counter,'f1_score']<-ev.f1\n",
    "    row.counter<-row.counter+1\n",
    "}"
   ]
  },
  {
   "cell_type": "code",
   "execution_count": 53,
   "metadata": {},
   "outputs": [
    {
     "data": {
      "text/html": [
       "<table>\n",
       "<thead><tr><th scope=col>row_sampling</th><th scope=col>no_tree</th><th scope=col>f1_score</th></tr></thead>\n",
       "<tbody>\n",
       "\t<tr><td>150      </td><td>320      </td><td>0.1557342</td></tr>\n",
       "\t<tr><td>160      </td><td>220      </td><td>0.2027526</td></tr>\n",
       "\t<tr><td>170      </td><td>160      </td><td>0.2216527</td></tr>\n",
       "\t<tr><td>180      </td><td>400      </td><td>0.2214005</td></tr>\n",
       "\t<tr><td>190      </td><td>160      </td><td>0.1806507</td></tr>\n",
       "\t<tr><td>200      </td><td>140      </td><td>0.2012411</td></tr>\n",
       "\t<tr><td>210      </td><td>140      </td><td>0.2344260</td></tr>\n",
       "\t<tr><td>220      </td><td>160      </td><td>0.2279606</td></tr>\n",
       "\t<tr><td>230      </td><td>400      </td><td>0.2144366</td></tr>\n",
       "\t<tr><td>240      </td><td>220      </td><td>0.2319805</td></tr>\n",
       "\t<tr><td>250      </td><td>200      </td><td>0.2576552</td></tr>\n",
       "\t<tr><td>260      </td><td>180      </td><td>0.2561290</td></tr>\n",
       "\t<tr><td>270      </td><td>240      </td><td>0.2497059</td></tr>\n",
       "\t<tr><td>280      </td><td>220      </td><td>0.2806153</td></tr>\n",
       "\t<tr><td>290      </td><td>200      </td><td>0.2793229</td></tr>\n",
       "\t<tr><td>300      </td><td>160      </td><td>0.2530205</td></tr>\n",
       "</tbody>\n",
       "</table>\n"
      ],
      "text/latex": [
       "\\begin{tabular}{r|lll}\n",
       " row\\_sampling & no\\_tree & f1\\_score\\\\\n",
       "\\hline\n",
       "\t 150       & 320       & 0.1557342\\\\\n",
       "\t 160       & 220       & 0.2027526\\\\\n",
       "\t 170       & 160       & 0.2216527\\\\\n",
       "\t 180       & 400       & 0.2214005\\\\\n",
       "\t 190       & 160       & 0.1806507\\\\\n",
       "\t 200       & 140       & 0.2012411\\\\\n",
       "\t 210       & 140       & 0.2344260\\\\\n",
       "\t 220       & 160       & 0.2279606\\\\\n",
       "\t 230       & 400       & 0.2144366\\\\\n",
       "\t 240       & 220       & 0.2319805\\\\\n",
       "\t 250       & 200       & 0.2576552\\\\\n",
       "\t 260       & 180       & 0.2561290\\\\\n",
       "\t 270       & 240       & 0.2497059\\\\\n",
       "\t 280       & 220       & 0.2806153\\\\\n",
       "\t 290       & 200       & 0.2793229\\\\\n",
       "\t 300       & 160       & 0.2530205\\\\\n",
       "\\end{tabular}\n"
      ],
      "text/markdown": [
       "\n",
       "| row_sampling | no_tree | f1_score |\n",
       "|---|---|---|\n",
       "| 150       | 320       | 0.1557342 |\n",
       "| 160       | 220       | 0.2027526 |\n",
       "| 170       | 160       | 0.2216527 |\n",
       "| 180       | 400       | 0.2214005 |\n",
       "| 190       | 160       | 0.1806507 |\n",
       "| 200       | 140       | 0.2012411 |\n",
       "| 210       | 140       | 0.2344260 |\n",
       "| 220       | 160       | 0.2279606 |\n",
       "| 230       | 400       | 0.2144366 |\n",
       "| 240       | 220       | 0.2319805 |\n",
       "| 250       | 200       | 0.2576552 |\n",
       "| 260       | 180       | 0.2561290 |\n",
       "| 270       | 240       | 0.2497059 |\n",
       "| 280       | 220       | 0.2806153 |\n",
       "| 290       | 200       | 0.2793229 |\n",
       "| 300       | 160       | 0.2530205 |\n",
       "\n"
      ],
      "text/plain": [
       "   row_sampling no_tree f1_score \n",
       "1  150          320     0.1557342\n",
       "2  160          220     0.2027526\n",
       "3  170          160     0.2216527\n",
       "4  180          400     0.2214005\n",
       "5  190          160     0.1806507\n",
       "6  200          140     0.2012411\n",
       "7  210          140     0.2344260\n",
       "8  220          160     0.2279606\n",
       "9  230          400     0.2144366\n",
       "10 240          220     0.2319805\n",
       "11 250          200     0.2576552\n",
       "12 260          180     0.2561290\n",
       "13 270          240     0.2497059\n",
       "14 280          220     0.2806153\n",
       "15 290          200     0.2793229\n",
       "16 300          160     0.2530205"
      ]
     },
     "metadata": {},
     "output_type": "display_data"
    }
   ],
   "source": [
    "bestrow"
   ]
  },
  {
   "cell_type": "code",
   "execution_count": 54,
   "metadata": {},
   "outputs": [
    {
     "data": {
      "text/html": [
       "<table>\n",
       "<thead><tr><th></th><th scope=col>row_sampling</th><th scope=col>no_tree</th><th scope=col>f1_score</th></tr></thead>\n",
       "<tbody>\n",
       "\t<tr><th scope=row>14</th><td>280      </td><td>220      </td><td>0.2806153</td></tr>\n",
       "</tbody>\n",
       "</table>\n"
      ],
      "text/latex": [
       "\\begin{tabular}{r|lll}\n",
       "  & row\\_sampling & no\\_tree & f1\\_score\\\\\n",
       "\\hline\n",
       "\t14 & 280       & 220       & 0.2806153\\\\\n",
       "\\end{tabular}\n"
      ],
      "text/markdown": [
       "\n",
       "| <!--/--> | row_sampling | no_tree | f1_score |\n",
       "|---|---|---|---|\n",
       "| 14 | 280       | 220       | 0.2806153 |\n",
       "\n"
      ],
      "text/plain": [
       "   row_sampling no_tree f1_score \n",
       "14 280          220     0.2806153"
      ]
     },
     "metadata": {},
     "output_type": "display_data"
    }
   ],
   "source": [
    "#Get the best combination of row_sampling and no_tree that results in the highest f1 score\n",
    "ev.bestrow<-bestrow[bestrow$f1_score==max(bestrow$f1_score),]\n",
    "ev.bestrow"
   ]
  },
  {
   "cell_type": "code",
   "execution_count": 55,
   "metadata": {},
   "outputs": [],
   "source": [
    "set.seed(1)\n",
    "\n",
    "#Get the number of preceded and succeeded rows based on best value of row_sampling\n",
    "ev.precede=as.character(as.numeric(rownames(ev.only))-ev.bestrow$row_sampling)\n",
    "ev.succeed=as.character(as.numeric(rownames(ev.only))+ev.bestrow$row_sampling)\n",
    "\n",
    "#get the undersampling\n",
    "ev.sampling=ev.data[rownames(ev.data) %in% c(rownames(ev.only),ev.precede,ev.succeed),]\n",
    "\n",
    "#reset row index \n",
    "row.names(ev.sampling) <- NULL\n",
    "\n",
    "#retrain the model with best tree\n",
    "ev.rf<-randomForest(ev~.,data=ev.sampling,mtry=5,ntree=ev.bestrow$no_tree,na.action=na.omit,importance=TRUE)"
   ]
  },
  {
   "cell_type": "code",
   "execution_count": 56,
   "metadata": {},
   "outputs": [
    {
     "data": {
      "text/plain": [
       "Confusion Matrix and Statistics\n",
       "\n",
       "     predict\n",
       "truth      0      1\n",
       "    0 402951  11844\n",
       "    1      0   2335\n",
       "                                          \n",
       "               Accuracy : 0.9716          \n",
       "                 95% CI : (0.9711, 0.9721)\n",
       "    No Information Rate : 0.966           \n",
       "    P-Value [Acc > NIR] : < 2.2e-16       \n",
       "                                          \n",
       "                  Kappa : 0.2758          \n",
       "                                          \n",
       " Mcnemar's Test P-Value : < 2.2e-16       \n",
       "                                          \n",
       "            Sensitivity : 0.164680        \n",
       "            Specificity : 1.000000        \n",
       "         Pos Pred Value : 1.000000        \n",
       "         Neg Pred Value : 0.971446        \n",
       "             Prevalence : 0.033992        \n",
       "         Detection Rate : 0.005598        \n",
       "   Detection Prevalence : 0.005598        \n",
       "      Balanced Accuracy : 0.582340        \n",
       "                                          \n",
       "       'Positive' Class : 1               \n",
       "                                          "
      ]
     },
     "metadata": {},
     "output_type": "display_data"
    }
   ],
   "source": [
    "#Get prediction on the whole ev.data\n",
    "rf.ev.pred<-predict(ev.rf,ev.data)\n",
    "\n",
    "#compute confusion matrix\n",
    "confusionMatrix(table(truth=ev.data$ev,predict=rf.ev.pred),positive='1') "
   ]
  },
  {
   "cell_type": "code",
   "execution_count": 57,
   "metadata": {},
   "outputs": [
    {
     "data": {
      "text/html": [
       "0.282790359694804"
      ],
      "text/latex": [
       "0.282790359694804"
      ],
      "text/markdown": [
       "0.282790359694804"
      ],
      "text/plain": [
       "[1] 0.2827904"
      ]
     },
     "metadata": {},
     "output_type": "display_data"
    }
   ],
   "source": [
    "#get f1 score\n",
    "ev.f1<-f1(ev.data$ev,rf.ev.pred)\n",
    "ev.f1"
   ]
  },
  {
   "cell_type": "markdown",
   "metadata": {},
   "source": [
    "###  Build classifier for `oven`"
   ]
  },
  {
   "cell_type": "markdown",
   "metadata": {},
   "source": []
  },
  {
   "cell_type": "markdown",
   "metadata": {},
   "source": []
  },
  {
   "cell_type": "markdown",
   "metadata": {},
   "source": []
  },
  {
   "cell_type": "markdown",
   "metadata": {},
   "source": []
  },
  {
   "cell_type": "markdown",
   "metadata": {},
   "source": []
  },
  {
   "cell_type": "markdown",
   "metadata": {},
   "source": []
  },
  {
   "cell_type": "markdown",
   "metadata": {},
   "source": []
  },
  {
   "cell_type": "markdown",
   "metadata": {},
   "source": []
  },
  {
   "cell_type": "markdown",
   "metadata": {},
   "source": []
  },
  {
   "cell_type": "markdown",
   "metadata": {},
   "source": []
  },
  {
   "cell_type": "markdown",
   "metadata": {},
   "source": []
  },
  {
   "cell_type": "markdown",
   "metadata": {},
   "source": []
  },
  {
   "cell_type": "markdown",
   "metadata": {},
   "source": []
  },
  {
   "cell_type": "markdown",
   "metadata": {},
   "source": [
    "## 3. Prediction Task <a class=\"anchor\" id=\"3\"></a>"
   ]
  },
  {
   "cell_type": "code",
   "execution_count": null,
   "metadata": {},
   "outputs": [],
   "source": []
  },
  {
   "cell_type": "code",
   "execution_count": null,
   "metadata": {},
   "outputs": [],
   "source": []
  },
  {
   "cell_type": "code",
   "execution_count": null,
   "metadata": {},
   "outputs": [],
   "source": []
  },
  {
   "cell_type": "code",
   "execution_count": null,
   "metadata": {},
   "outputs": [],
   "source": []
  },
  {
   "cell_type": "code",
   "execution_count": null,
   "metadata": {},
   "outputs": [],
   "source": []
  },
  {
   "cell_type": "markdown",
   "metadata": {},
   "source": [
    "## 4. Results and Discussion <a class=\"anchor\" id=\"4\"></a>"
   ]
  },
  {
   "cell_type": "code",
   "execution_count": null,
   "metadata": {},
   "outputs": [],
   "source": []
  },
  {
   "cell_type": "code",
   "execution_count": null,
   "metadata": {},
   "outputs": [],
   "source": []
  },
  {
   "cell_type": "code",
   "execution_count": null,
   "metadata": {},
   "outputs": [],
   "source": []
  },
  {
   "cell_type": "code",
   "execution_count": null,
   "metadata": {},
   "outputs": [],
   "source": []
  },
  {
   "cell_type": "code",
   "execution_count": null,
   "metadata": {},
   "outputs": [],
   "source": []
  },
  {
   "cell_type": "code",
   "execution_count": null,
   "metadata": {},
   "outputs": [],
   "source": []
  }
 ],
 "metadata": {
  "kernelspec": {
   "display_name": "R",
   "language": "R",
   "name": "ir"
  },
  "language_info": {
   "codemirror_mode": "r",
   "file_extension": ".r",
   "mimetype": "text/x-r-source",
   "name": "R",
   "pygments_lexer": "r",
   "version": "3.6.1"
  }
 },
 "nbformat": 4,
 "nbformat_minor": 4
}
